{
  "cells": [
    {
      "cell_type": "markdown",
      "metadata": {
        "id": "b2tH9iXfzljb"
      },
      "source": [
        "<img src=\"datamecum_logo.png\" align=\"right\" style=\"float\" width=\"400\">\n",
        "<font color=\"#CA3532\"><h1 align=\"left\">Programa técnico intensivo en data science. Datamecum.</h1></font>\n",
        "<font color=\"#6E6E6E\"><h2 align=\"left\">Módulo Implementación de Sistemas Data-driven.</h2></font> \n",
        "<font color=\"#6E6E6E\"><h2 align=\"left\">Tarea 3. MLServer - scikit learn deployment.</h2></font> \n",
        "\n",
        "#### Daniel Ruiz Riquelme"
      ]
    },
    {
      "cell_type": "code",
      "execution_count": 1,
      "metadata": {
        "colab": {
          "base_uri": "https://localhost:8080/"
        },
        "id": "nhy0of4Uznaa",
        "outputId": "556fda30-1e05-4f45-f0c0-854c7b199f39"
      },
      "outputs": [
        {
          "name": "stdout",
          "output_type": "stream",
          "text": [
            "Looking in indexes: https://pypi.org/simple, https://us-python.pkg.dev/colab-wheels/public/simple/\n",
            "Requirement already satisfied: mlserver in /usr/local/lib/python3.8/dist-packages (1.2.3)\n",
            "Requirement already satisfied: orjson in /usr/local/lib/python3.8/dist-packages (from mlserver) (3.8.6)\n",
            "Requirement already satisfied: tritonclient[http]>=2.24 in /usr/local/lib/python3.8/dist-packages (from mlserver) (2.30.0)\n",
            "Requirement already satisfied: protobuf in /usr/local/lib/python3.8/dist-packages (from mlserver) (3.19.6)\n",
            "Requirement already satisfied: uvicorn in /usr/local/lib/python3.8/dist-packages (from mlserver) (0.20.0)\n",
            "Requirement already satisfied: aiokafka in /usr/local/lib/python3.8/dist-packages (from mlserver) (0.8.0)\n",
            "Requirement already satisfied: py-grpc-prometheus in /usr/local/lib/python3.8/dist-packages (from mlserver) (0.7.0)\n",
            "Requirement already satisfied: aiofiles in /usr/local/lib/python3.8/dist-packages (from mlserver) (23.1.0)\n",
            "Requirement already satisfied: python-dotenv in /usr/local/lib/python3.8/dist-packages (from mlserver) (0.21.1)\n",
            "Requirement already satisfied: uvloop in /usr/local/lib/python3.8/dist-packages (from mlserver) (0.17.0)\n",
            "Requirement already satisfied: numpy in /usr/local/lib/python3.8/dist-packages (from mlserver) (1.21.6)\n",
            "Requirement already satisfied: pandas in /usr/local/lib/python3.8/dist-packages (from mlserver) (1.3.5)\n",
            "Requirement already satisfied: starlette-exporter in /usr/local/lib/python3.8/dist-packages (from mlserver) (0.15.1)\n",
            "Requirement already satisfied: fastapi!=0.89.0,<=0.89.1 in /usr/local/lib/python3.8/dist-packages (from mlserver) (0.89.1)\n",
            "Requirement already satisfied: grpcio in /usr/local/lib/python3.8/dist-packages (from mlserver) (1.51.1)\n",
            "Requirement already satisfied: click in /usr/local/lib/python3.8/dist-packages (from mlserver) (7.1.2)\n",
            "Requirement already satisfied: starlette==0.22.0 in /usr/local/lib/python3.8/dist-packages (from fastapi!=0.89.0,<=0.89.1->mlserver) (0.22.0)\n",
            "Requirement already satisfied: pydantic!=1.7,!=1.7.1,!=1.7.2,!=1.7.3,!=1.8,!=1.8.1,<2.0.0,>=1.6.2 in /usr/local/lib/python3.8/dist-packages (from fastapi!=0.89.0,<=0.89.1->mlserver) (1.10.4)\n",
            "Requirement already satisfied: anyio<5,>=3.4.0 in /usr/local/lib/python3.8/dist-packages (from starlette==0.22.0->fastapi!=0.89.0,<=0.89.1->mlserver) (3.6.2)\n",
            "Requirement already satisfied: typing-extensions>=3.10.0 in /usr/local/lib/python3.8/dist-packages (from starlette==0.22.0->fastapi!=0.89.0,<=0.89.1->mlserver) (4.5.0)\n",
            "Requirement already satisfied: python-rapidjson>=0.9.1 in /usr/local/lib/python3.8/dist-packages (from tritonclient[http]>=2.24->mlserver) (1.9)\n",
            "Requirement already satisfied: geventhttpclient<=2.0.2,>=1.4.4 in /usr/local/lib/python3.8/dist-packages (from tritonclient[http]>=2.24->mlserver) (2.0.2)\n",
            "Requirement already satisfied: aiohttp>=3.8.1 in /usr/local/lib/python3.8/dist-packages (from tritonclient[http]>=2.24->mlserver) (3.8.4)\n",
            "Requirement already satisfied: packaging in /usr/local/lib/python3.8/dist-packages (from aiokafka->mlserver) (23.0)\n",
            "Requirement already satisfied: kafka-python>=2.0.2 in /usr/local/lib/python3.8/dist-packages (from aiokafka->mlserver) (2.0.2)\n",
            "Requirement already satisfied: async-timeout in /usr/local/lib/python3.8/dist-packages (from aiokafka->mlserver) (4.0.2)\n",
            "Requirement already satisfied: python-dateutil>=2.7.3 in /usr/local/lib/python3.8/dist-packages (from pandas->mlserver) (2.8.2)\n",
            "Requirement already satisfied: pytz>=2017.3 in /usr/local/lib/python3.8/dist-packages (from pandas->mlserver) (2022.7.1)\n",
            "Requirement already satisfied: setuptools>=39.0.1 in /usr/local/lib/python3.8/dist-packages (from py-grpc-prometheus->mlserver) (57.4.0)\n",
            "Requirement already satisfied: prometheus-client>=0.3.0 in /usr/local/lib/python3.8/dist-packages (from py-grpc-prometheus->mlserver) (0.16.0)\n",
            "Requirement already satisfied: h11>=0.8 in /usr/local/lib/python3.8/dist-packages (from uvicorn->mlserver) (0.14.0)\n",
            "Requirement already satisfied: charset-normalizer<4.0,>=2.0 in /usr/local/lib/python3.8/dist-packages (from aiohttp>=3.8.1->tritonclient[http]>=2.24->mlserver) (3.0.1)\n",
            "Requirement already satisfied: multidict<7.0,>=4.5 in /usr/local/lib/python3.8/dist-packages (from aiohttp>=3.8.1->tritonclient[http]>=2.24->mlserver) (6.0.4)\n",
            "Requirement already satisfied: aiosignal>=1.1.2 in /usr/local/lib/python3.8/dist-packages (from aiohttp>=3.8.1->tritonclient[http]>=2.24->mlserver) (1.3.1)\n",
            "Requirement already satisfied: yarl<2.0,>=1.0 in /usr/local/lib/python3.8/dist-packages (from aiohttp>=3.8.1->tritonclient[http]>=2.24->mlserver) (1.8.2)\n",
            "Requirement already satisfied: frozenlist>=1.1.1 in /usr/local/lib/python3.8/dist-packages (from aiohttp>=3.8.1->tritonclient[http]>=2.24->mlserver) (1.3.3)\n",
            "Requirement already satisfied: attrs>=17.3.0 in /usr/local/lib/python3.8/dist-packages (from aiohttp>=3.8.1->tritonclient[http]>=2.24->mlserver) (22.2.0)\n",
            "Requirement already satisfied: brotli in /usr/local/lib/python3.8/dist-packages (from geventhttpclient<=2.0.2,>=1.4.4->tritonclient[http]>=2.24->mlserver) (1.0.9)\n",
            "Requirement already satisfied: certifi in /usr/local/lib/python3.8/dist-packages (from geventhttpclient<=2.0.2,>=1.4.4->tritonclient[http]>=2.24->mlserver) (2022.12.7)\n",
            "Requirement already satisfied: six in /usr/local/lib/python3.8/dist-packages (from geventhttpclient<=2.0.2,>=1.4.4->tritonclient[http]>=2.24->mlserver) (1.15.0)\n",
            "Requirement already satisfied: gevent>=0.13 in /usr/local/lib/python3.8/dist-packages (from geventhttpclient<=2.0.2,>=1.4.4->tritonclient[http]>=2.24->mlserver) (22.10.2)\n",
            "Requirement already satisfied: sniffio>=1.1 in /usr/local/lib/python3.8/dist-packages (from anyio<5,>=3.4.0->starlette==0.22.0->fastapi!=0.89.0,<=0.89.1->mlserver) (1.3.0)\n",
            "Requirement already satisfied: idna>=2.8 in /usr/local/lib/python3.8/dist-packages (from anyio<5,>=3.4.0->starlette==0.22.0->fastapi!=0.89.0,<=0.89.1->mlserver) (2.10)\n",
            "Requirement already satisfied: greenlet>=2.0.0 in /usr/local/lib/python3.8/dist-packages (from gevent>=0.13->geventhttpclient<=2.0.2,>=1.4.4->tritonclient[http]>=2.24->mlserver) (2.0.2)\n",
            "Requirement already satisfied: zope.event in /usr/local/lib/python3.8/dist-packages (from gevent>=0.13->geventhttpclient<=2.0.2,>=1.4.4->tritonclient[http]>=2.24->mlserver) (4.6)\n",
            "Requirement already satisfied: zope.interface in /usr/local/lib/python3.8/dist-packages (from gevent>=0.13->geventhttpclient<=2.0.2,>=1.4.4->tritonclient[http]>=2.24->mlserver) (5.5.2)\n",
            "Looking in indexes: https://pypi.org/simple, https://us-python.pkg.dev/colab-wheels/public/simple/\n",
            "Collecting mlserver-sklearn\n",
            "  Downloading mlserver_sklearn-1.2.3-py3-none-any.whl (7.7 kB)\n",
            "Requirement already satisfied: mlserver in /usr/local/lib/python3.8/dist-packages (from mlserver-sklearn) (1.2.3)\n",
            "Requirement already satisfied: scikit-learn in /usr/local/lib/python3.8/dist-packages (from mlserver-sklearn) (1.0.2)\n",
            "Requirement already satisfied: joblib in /usr/local/lib/python3.8/dist-packages (from mlserver-sklearn) (1.2.0)\n",
            "Requirement already satisfied: grpcio in /usr/local/lib/python3.8/dist-packages (from mlserver->mlserver-sklearn) (1.51.1)\n",
            "Requirement already satisfied: uvicorn in /usr/local/lib/python3.8/dist-packages (from mlserver->mlserver-sklearn) (0.20.0)\n",
            "Requirement already satisfied: py-grpc-prometheus in /usr/local/lib/python3.8/dist-packages (from mlserver->mlserver-sklearn) (0.7.0)\n",
            "Requirement already satisfied: click in /usr/local/lib/python3.8/dist-packages (from mlserver->mlserver-sklearn) (7.1.2)\n",
            "Requirement already satisfied: python-dotenv in /usr/local/lib/python3.8/dist-packages (from mlserver->mlserver-sklearn) (0.21.1)\n",
            "Requirement already satisfied: pandas in /usr/local/lib/python3.8/dist-packages (from mlserver->mlserver-sklearn) (1.3.5)\n",
            "Requirement already satisfied: protobuf in /usr/local/lib/python3.8/dist-packages (from mlserver->mlserver-sklearn) (3.19.6)\n",
            "Requirement already satisfied: starlette-exporter in /usr/local/lib/python3.8/dist-packages (from mlserver->mlserver-sklearn) (0.15.1)\n",
            "Requirement already satisfied: orjson in /usr/local/lib/python3.8/dist-packages (from mlserver->mlserver-sklearn) (3.8.6)\n",
            "Requirement already satisfied: tritonclient[http]>=2.24 in /usr/local/lib/python3.8/dist-packages (from mlserver->mlserver-sklearn) (2.30.0)\n",
            "Requirement already satisfied: uvloop in /usr/local/lib/python3.8/dist-packages (from mlserver->mlserver-sklearn) (0.17.0)\n",
            "Requirement already satisfied: aiokafka in /usr/local/lib/python3.8/dist-packages (from mlserver->mlserver-sklearn) (0.8.0)\n",
            "Requirement already satisfied: numpy in /usr/local/lib/python3.8/dist-packages (from mlserver->mlserver-sklearn) (1.21.6)\n",
            "Requirement already satisfied: aiofiles in /usr/local/lib/python3.8/dist-packages (from mlserver->mlserver-sklearn) (23.1.0)\n",
            "Requirement already satisfied: fastapi!=0.89.0,<=0.89.1 in /usr/local/lib/python3.8/dist-packages (from mlserver->mlserver-sklearn) (0.89.1)\n",
            "Requirement already satisfied: scipy>=1.1.0 in /usr/local/lib/python3.8/dist-packages (from scikit-learn->mlserver-sklearn) (1.7.3)\n",
            "Requirement already satisfied: threadpoolctl>=2.0.0 in /usr/local/lib/python3.8/dist-packages (from scikit-learn->mlserver-sklearn) (3.1.0)\n",
            "Requirement already satisfied: starlette==0.22.0 in /usr/local/lib/python3.8/dist-packages (from fastapi!=0.89.0,<=0.89.1->mlserver->mlserver-sklearn) (0.22.0)\n",
            "Requirement already satisfied: pydantic!=1.7,!=1.7.1,!=1.7.2,!=1.7.3,!=1.8,!=1.8.1,<2.0.0,>=1.6.2 in /usr/local/lib/python3.8/dist-packages (from fastapi!=0.89.0,<=0.89.1->mlserver->mlserver-sklearn) (1.10.4)\n",
            "Requirement already satisfied: typing-extensions>=3.10.0 in /usr/local/lib/python3.8/dist-packages (from starlette==0.22.0->fastapi!=0.89.0,<=0.89.1->mlserver->mlserver-sklearn) (4.5.0)\n",
            "Requirement already satisfied: anyio<5,>=3.4.0 in /usr/local/lib/python3.8/dist-packages (from starlette==0.22.0->fastapi!=0.89.0,<=0.89.1->mlserver->mlserver-sklearn) (3.6.2)\n",
            "Requirement already satisfied: python-rapidjson>=0.9.1 in /usr/local/lib/python3.8/dist-packages (from tritonclient[http]>=2.24->mlserver->mlserver-sklearn) (1.9)\n",
            "Requirement already satisfied: aiohttp>=3.8.1 in /usr/local/lib/python3.8/dist-packages (from tritonclient[http]>=2.24->mlserver->mlserver-sklearn) (3.8.4)\n",
            "Requirement already satisfied: geventhttpclient<=2.0.2,>=1.4.4 in /usr/local/lib/python3.8/dist-packages (from tritonclient[http]>=2.24->mlserver->mlserver-sklearn) (2.0.2)\n",
            "Requirement already satisfied: packaging in /usr/local/lib/python3.8/dist-packages (from aiokafka->mlserver->mlserver-sklearn) (23.0)\n",
            "Requirement already satisfied: async-timeout in /usr/local/lib/python3.8/dist-packages (from aiokafka->mlserver->mlserver-sklearn) (4.0.2)\n",
            "Requirement already satisfied: kafka-python>=2.0.2 in /usr/local/lib/python3.8/dist-packages (from aiokafka->mlserver->mlserver-sklearn) (2.0.2)\n",
            "Requirement already satisfied: pytz>=2017.3 in /usr/local/lib/python3.8/dist-packages (from pandas->mlserver->mlserver-sklearn) (2022.7.1)\n",
            "Requirement already satisfied: python-dateutil>=2.7.3 in /usr/local/lib/python3.8/dist-packages (from pandas->mlserver->mlserver-sklearn) (2.8.2)\n",
            "Requirement already satisfied: prometheus-client>=0.3.0 in /usr/local/lib/python3.8/dist-packages (from py-grpc-prometheus->mlserver->mlserver-sklearn) (0.16.0)\n",
            "Requirement already satisfied: setuptools>=39.0.1 in /usr/local/lib/python3.8/dist-packages (from py-grpc-prometheus->mlserver->mlserver-sklearn) (57.4.0)\n",
            "Requirement already satisfied: h11>=0.8 in /usr/local/lib/python3.8/dist-packages (from uvicorn->mlserver->mlserver-sklearn) (0.14.0)\n",
            "Requirement already satisfied: aiosignal>=1.1.2 in /usr/local/lib/python3.8/dist-packages (from aiohttp>=3.8.1->tritonclient[http]>=2.24->mlserver->mlserver-sklearn) (1.3.1)\n",
            "Requirement already satisfied: charset-normalizer<4.0,>=2.0 in /usr/local/lib/python3.8/dist-packages (from aiohttp>=3.8.1->tritonclient[http]>=2.24->mlserver->mlserver-sklearn) (3.0.1)\n",
            "Requirement already satisfied: attrs>=17.3.0 in /usr/local/lib/python3.8/dist-packages (from aiohttp>=3.8.1->tritonclient[http]>=2.24->mlserver->mlserver-sklearn) (22.2.0)\n",
            "Requirement already satisfied: frozenlist>=1.1.1 in /usr/local/lib/python3.8/dist-packages (from aiohttp>=3.8.1->tritonclient[http]>=2.24->mlserver->mlserver-sklearn) (1.3.3)\n",
            "Requirement already satisfied: multidict<7.0,>=4.5 in /usr/local/lib/python3.8/dist-packages (from aiohttp>=3.8.1->tritonclient[http]>=2.24->mlserver->mlserver-sklearn) (6.0.4)\n",
            "Requirement already satisfied: yarl<2.0,>=1.0 in /usr/local/lib/python3.8/dist-packages (from aiohttp>=3.8.1->tritonclient[http]>=2.24->mlserver->mlserver-sklearn) (1.8.2)\n",
            "Requirement already satisfied: brotli in /usr/local/lib/python3.8/dist-packages (from geventhttpclient<=2.0.2,>=1.4.4->tritonclient[http]>=2.24->mlserver->mlserver-sklearn) (1.0.9)\n",
            "Requirement already satisfied: certifi in /usr/local/lib/python3.8/dist-packages (from geventhttpclient<=2.0.2,>=1.4.4->tritonclient[http]>=2.24->mlserver->mlserver-sklearn) (2022.12.7)\n",
            "Requirement already satisfied: gevent>=0.13 in /usr/local/lib/python3.8/dist-packages (from geventhttpclient<=2.0.2,>=1.4.4->tritonclient[http]>=2.24->mlserver->mlserver-sklearn) (22.10.2)\n",
            "Requirement already satisfied: six in /usr/local/lib/python3.8/dist-packages (from geventhttpclient<=2.0.2,>=1.4.4->tritonclient[http]>=2.24->mlserver->mlserver-sklearn) (1.15.0)\n",
            "Requirement already satisfied: sniffio>=1.1 in /usr/local/lib/python3.8/dist-packages (from anyio<5,>=3.4.0->starlette==0.22.0->fastapi!=0.89.0,<=0.89.1->mlserver->mlserver-sklearn) (1.3.0)\n",
            "Requirement already satisfied: idna>=2.8 in /usr/local/lib/python3.8/dist-packages (from anyio<5,>=3.4.0->starlette==0.22.0->fastapi!=0.89.0,<=0.89.1->mlserver->mlserver-sklearn) (2.10)\n",
            "Requirement already satisfied: greenlet>=2.0.0 in /usr/local/lib/python3.8/dist-packages (from gevent>=0.13->geventhttpclient<=2.0.2,>=1.4.4->tritonclient[http]>=2.24->mlserver->mlserver-sklearn) (2.0.2)\n",
            "Requirement already satisfied: zope.interface in /usr/local/lib/python3.8/dist-packages (from gevent>=0.13->geventhttpclient<=2.0.2,>=1.4.4->tritonclient[http]>=2.24->mlserver->mlserver-sklearn) (5.5.2)\n",
            "Requirement already satisfied: zope.event in /usr/local/lib/python3.8/dist-packages (from gevent>=0.13->geventhttpclient<=2.0.2,>=1.4.4->tritonclient[http]>=2.24->mlserver->mlserver-sklearn) (4.6)\n",
            "Installing collected packages: mlserver-sklearn\n",
            "Successfully installed mlserver-sklearn-1.2.3\n"
          ]
        }
      ],
      "source": [
        "!pip install mlserver\n",
        "!pip install mlserver-sklearn"
      ]
    },
    {
      "cell_type": "code",
      "execution_count": 2,
      "metadata": {
        "colab": {
          "base_uri": "https://localhost:8080/"
        },
        "id": "2q6TUf4Jzljc",
        "outputId": "8d300122-52ae-47ed-d33e-cb6d2a1b6513"
      },
      "outputs": [
        {
          "name": "stdout",
          "output_type": "stream",
          "text": [
            "Overwriting settings.json\n"
          ]
        }
      ],
      "source": [
        "%%writefile settings.json\n",
        "{\n",
        "    \"debug\": \"true\",\n",
        "    \"http_port\": 8000\n",
        "}"
      ]
    },
    {
      "cell_type": "code",
      "execution_count": 3,
      "metadata": {
        "colab": {
          "base_uri": "https://localhost:8080/"
        },
        "id": "hYjbOTa8zlje",
        "outputId": "27597af5-30f2-4953-a4c3-dc6a6132273a"
      },
      "outputs": [
        {
          "name": "stdout",
          "output_type": "stream",
          "text": [
            "Overwriting model-settings.json\n"
          ]
        }
      ],
      "source": [
        "%%writefile model-settings.json\n",
        "{\n",
        "    \"name\": \"iris-rf\",\n",
        "    \"implementation\": \"mlserver_sklearn.SKLearnModel\",\n",
        "    \"parameters\": {\n",
        "        \"uri\": \"model.pkl\",\n",
        "        \"version\": \"v0.1.0\"\n",
        "    }\n",
        "}"
      ]
    },
    {
      "cell_type": "code",
      "execution_count": 4,
      "metadata": {
        "colab": {
          "base_uri": "https://localhost:8080/"
        },
        "id": "BpqkM7DKzlje",
        "outputId": "72fd96c8-9581-4ba2-9502-6fbebcba7ec1"
      },
      "outputs": [
        {
          "name": "stdout",
          "output_type": "stream",
          "text": [
            "nohup: appending output to 'nohup.out'\n"
          ]
        }
      ],
      "source": [
        "# Execute the following command to start the server in the background\n",
        "! nohup mlserver start . &"
      ]
    },
    {
      "cell_type": "code",
      "execution_count": 8,
      "metadata": {
        "colab": {
          "base_uri": "https://localhost:8080/"
        },
        "id": "Z5iGg2aS1QEg",
        "outputId": "59a2ff69-584c-49da-a1f7-9eaaf417d46e"
      },
      "outputs": [
        {
          "name": "stdout",
          "output_type": "stream",
          "text": [
            "   2707 ?        00:00:02 mlserver\n"
          ]
        }
      ],
      "source": [
        "# Check if the process is running\n",
        "! ps | grep mlserver"
      ]
    },
    {
      "cell_type": "code",
      "execution_count": 9,
      "metadata": {
        "colab": {
          "base_uri": "https://localhost:8080/"
        },
        "id": "yvEQ-vDEzlje",
        "outputId": "3bb09cf7-98db-4fca-ef75-eda493657065"
      },
      "outputs": [
        {
          "data": {
            "text/plain": [
              "array([[5.1, 3.5, 1.4, 0.2],\n",
              "       [4.9, 3. , 1.4, 0.2],\n",
              "       [4.7, 3.2, 1.3, 0.2],\n",
              "       [4.6, 3.1, 1.5, 0.2],\n",
              "       [5. , 3.6, 1.4, 0.2]])"
            ]
          },
          "execution_count": 9,
          "metadata": {},
          "output_type": "execute_result"
        }
      ],
      "source": [
        "from sklearn.datasets import load_iris\n",
        "iris = load_iris()\n",
        "X = iris.data\n",
        "X[:5]"
      ]
    },
    {
      "cell_type": "code",
      "execution_count": 10,
      "metadata": {
        "colab": {
          "base_uri": "https://localhost:8080/"
        },
        "id": "qdCDEYPizlje",
        "outputId": "597b66db-bdef-44e8-a3cf-770d839ed389"
      },
      "outputs": [
        {
          "data": {
            "text/plain": [
              "{'model_name': 'iris-rf',\n",
              " 'model_version': 'v0.1.0',\n",
              " 'id': '5f22785c-1054-4a21-86fe-1382404eb896',\n",
              " 'parameters': {},\n",
              " 'outputs': [{'name': 'predict',\n",
              "   'shape': [1, 1],\n",
              "   'datatype': 'INT64',\n",
              "   'data': [2]}]}"
            ]
          },
          "execution_count": 10,
          "metadata": {},
          "output_type": "execute_result"
        }
      ],
      "source": [
        "import requests\n",
        "import numpy as np\n",
        "\n",
        "x_0 = np.asarray([[5.9, 3. , 5.1, 1.8]])\n",
        "inference_request = {\n",
        "    \"inputs\": [\n",
        "        {\n",
        "          \"name\": \"predict\",\n",
        "          \"shape\": x_0.shape,\n",
        "          \"datatype\": \"FP32\",\n",
        "          \"data\": x_0.tolist()\n",
        "        }\n",
        "    ]\n",
        "}\n",
        "\n",
        "endpoint = \"http://localhost:8000/v2/models/iris-rf/versions/v0.1.0/infer\"\n",
        "response = requests.post(endpoint, json=inference_request)\n",
        "\n",
        "response.json()"
      ]
    }
  ],
  "metadata": {
    "colab": {
      "provenance": []
    },
    "kernelspec": {
      "display_name": "productionalization",
      "language": "python",
      "name": "python3"
    },
    "language_info": {
      "codemirror_mode": {
        "name": "ipython",
        "version": 3
      },
      "file_extension": ".py",
      "mimetype": "text/x-python",
      "name": "python",
      "nbconvert_exporter": "python",
      "pygments_lexer": "ipython3",
      "version": "3.10.8"
    },
    "orig_nbformat": 4,
    "vscode": {
      "interpreter": {
        "hash": "5ed29f95de7cc8ac0f18a32ccae5fbddd3dba9010e060d505f2ebe31fc64f080"
      }
    }
  },
  "nbformat": 4,
  "nbformat_minor": 0
}
