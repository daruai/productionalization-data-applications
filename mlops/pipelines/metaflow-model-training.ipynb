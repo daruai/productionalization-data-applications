{
 "cells": [
  {
   "cell_type": "markdown",
   "metadata": {},
   "source": [
    "<img src=\"datamecum_logo.png\" align=\"right\" style=\"float\" width=\"400\">\n",
    "<font color=\"#CA3532\"><h1 align=\"left\">Programa técnico intensivo en data science. Datamecum.</h1></font>\n",
    "<font color=\"#6E6E6E\"><h2 align=\"left\">Módulo Implementación de Sistemas Data-driven.</h2></font> \n",
    "<font color=\"#6E6E6E\"><h2 align=\"left\">Tarea 1. Pipeline entrenamiento de modelos.</h2></font> \n",
    "\n",
    "#### Daniel Ruiz Riquelme"
   ]
  },
  {
   "attachments": {},
   "cell_type": "markdown",
   "metadata": {},
   "source": [
    "##  Install dependencies"
   ]
  },
  {
   "cell_type": "code",
   "execution_count": 1,
   "metadata": {},
   "outputs": [
    {
     "name": "stdout",
     "output_type": "stream",
     "text": [
      "Requirement already satisfied: metaflow in /home/dlri/miniconda3/envs/productionalization/lib/python3.10/site-packages (2.7.22)\n",
      "Requirement already satisfied: requests in /home/dlri/miniconda3/envs/productionalization/lib/python3.10/site-packages (from metaflow) (2.28.1)\n",
      "Requirement already satisfied: pylint in /home/dlri/miniconda3/envs/productionalization/lib/python3.10/site-packages (from metaflow) (2.16.2)\n",
      "Requirement already satisfied: boto3 in /home/dlri/miniconda3/envs/productionalization/lib/python3.10/site-packages (from metaflow) (1.26.72)\n",
      "Requirement already satisfied: jmespath<2.0.0,>=0.7.1 in /home/dlri/miniconda3/envs/productionalization/lib/python3.10/site-packages (from boto3->metaflow) (1.0.1)\n",
      "Requirement already satisfied: botocore<1.30.0,>=1.29.72 in /home/dlri/miniconda3/envs/productionalization/lib/python3.10/site-packages (from boto3->metaflow) (1.29.72)\n",
      "Requirement already satisfied: s3transfer<0.7.0,>=0.6.0 in /home/dlri/miniconda3/envs/productionalization/lib/python3.10/site-packages (from boto3->metaflow) (0.6.0)\n",
      "Requirement already satisfied: dill>=0.2 in /home/dlri/miniconda3/envs/productionalization/lib/python3.10/site-packages (from pylint->metaflow) (0.3.6)\n",
      "Requirement already satisfied: tomli>=1.1.0 in /home/dlri/miniconda3/envs/productionalization/lib/python3.10/site-packages (from pylint->metaflow) (2.0.1)\n",
      "Requirement already satisfied: isort<6,>=4.2.5 in /home/dlri/miniconda3/envs/productionalization/lib/python3.10/site-packages (from pylint->metaflow) (5.12.0)\n",
      "Requirement already satisfied: mccabe<0.8,>=0.6 in /home/dlri/miniconda3/envs/productionalization/lib/python3.10/site-packages (from pylint->metaflow) (0.7.0)\n",
      "Requirement already satisfied: platformdirs>=2.2.0 in /home/dlri/miniconda3/envs/productionalization/lib/python3.10/site-packages (from pylint->metaflow) (2.5.4)\n",
      "Requirement already satisfied: astroid<=2.16.0-dev0,>=2.14.2 in /home/dlri/miniconda3/envs/productionalization/lib/python3.10/site-packages (from pylint->metaflow) (2.14.2)\n",
      "Requirement already satisfied: tomlkit>=0.10.1 in /home/dlri/miniconda3/envs/productionalization/lib/python3.10/site-packages (from pylint->metaflow) (0.11.6)\n",
      "Requirement already satisfied: charset-normalizer<3,>=2 in /home/dlri/miniconda3/envs/productionalization/lib/python3.10/site-packages (from requests->metaflow) (2.1.1)\n",
      "Requirement already satisfied: certifi>=2017.4.17 in /home/dlri/miniconda3/envs/productionalization/lib/python3.10/site-packages (from requests->metaflow) (2022.9.24)\n",
      "Requirement already satisfied: urllib3<1.27,>=1.21.1 in /home/dlri/miniconda3/envs/productionalization/lib/python3.10/site-packages (from requests->metaflow) (1.26.13)\n",
      "Requirement already satisfied: idna<4,>=2.5 in /home/dlri/miniconda3/envs/productionalization/lib/python3.10/site-packages (from requests->metaflow) (3.4)\n",
      "Requirement already satisfied: wrapt<2,>=1.11 in /home/dlri/miniconda3/envs/productionalization/lib/python3.10/site-packages (from astroid<=2.16.0-dev0,>=2.14.2->pylint->metaflow) (1.14.1)\n",
      "Requirement already satisfied: lazy-object-proxy>=1.4.0 in /home/dlri/miniconda3/envs/productionalization/lib/python3.10/site-packages (from astroid<=2.16.0-dev0,>=2.14.2->pylint->metaflow) (1.8.0)\n",
      "Requirement already satisfied: typing-extensions>=4.0.0 in /home/dlri/miniconda3/envs/productionalization/lib/python3.10/site-packages (from astroid<=2.16.0-dev0,>=2.14.2->pylint->metaflow) (4.4.0)\n",
      "Requirement already satisfied: python-dateutil<3.0.0,>=2.1 in /home/dlri/miniconda3/envs/productionalization/lib/python3.10/site-packages (from botocore<1.30.0,>=1.29.72->boto3->metaflow) (2.8.2)\n",
      "Requirement already satisfied: six>=1.5 in /home/dlri/miniconda3/envs/productionalization/lib/python3.10/site-packages (from python-dateutil<3.0.0,>=2.1->botocore<1.30.0,>=1.29.72->boto3->metaflow) (1.16.0)\n",
      "Requirement already satisfied: scikit-learn in /home/dlri/miniconda3/envs/productionalization/lib/python3.10/site-packages (1.1.3)\n",
      "Requirement already satisfied: numpy>=1.17.3 in /home/dlri/miniconda3/envs/productionalization/lib/python3.10/site-packages (from scikit-learn) (1.23.5)\n",
      "Requirement already satisfied: scipy>=1.3.2 in /home/dlri/miniconda3/envs/productionalization/lib/python3.10/site-packages (from scikit-learn) (1.9.3)\n",
      "Requirement already satisfied: joblib>=1.0.0 in /home/dlri/miniconda3/envs/productionalization/lib/python3.10/site-packages (from scikit-learn) (1.2.0)\n",
      "Requirement already satisfied: threadpoolctl>=2.0.0 in /home/dlri/miniconda3/envs/productionalization/lib/python3.10/site-packages (from scikit-learn) (3.1.0)\n",
      "Requirement already satisfied: pandas in /home/dlri/miniconda3/envs/productionalization/lib/python3.10/site-packages (1.5.2)\n",
      "Requirement already satisfied: pytz>=2020.1 in /home/dlri/miniconda3/envs/productionalization/lib/python3.10/site-packages (from pandas) (2022.6)\n",
      "Requirement already satisfied: python-dateutil>=2.8.1 in /home/dlri/miniconda3/envs/productionalization/lib/python3.10/site-packages (from pandas) (2.8.2)\n",
      "Requirement already satisfied: numpy>=1.21.0 in /home/dlri/miniconda3/envs/productionalization/lib/python3.10/site-packages (from pandas) (1.23.5)\n",
      "Requirement already satisfied: six>=1.5 in /home/dlri/miniconda3/envs/productionalization/lib/python3.10/site-packages (from python-dateutil>=2.8.1->pandas) (1.16.0)\n"
     ]
    }
   ],
   "source": [
    "!pip install metaflow\n",
    "!pip install scikit-learn\n",
    "!pip install pandas"
   ]
  },
  {
   "attachments": {},
   "cell_type": "markdown",
   "metadata": {},
   "source": [
    "## Set username"
   ]
  },
  {
   "cell_type": "code",
   "execution_count": 2,
   "metadata": {},
   "outputs": [],
   "source": [
    "# Set username for workflows\n",
    "import os\n",
    "os.environ[\"USERNAME\"] = \"daniel\""
   ]
  },
  {
   "cell_type": "code",
   "execution_count": 3,
   "metadata": {},
   "outputs": [
    {
     "name": "stdout",
     "output_type": "stream",
     "text": [
      "Overwriting metaflow_trainingflow.py\n"
     ]
    }
   ],
   "source": [
    "%%writefile metaflow_trainingflow.py\n",
    "from metaflow import FlowSpec, Parameter, step\n",
    "\n",
    "class TrainingFlow(FlowSpec):\n",
    "    # Define the parameters for the flow\n",
    "    max_depth = Parameter('max_depth', default=2, help='Max depth of the random forest classifier')\n",
    "    n_estimators = Parameter('n_estimators', default=100, help='Number of estimators for the random forest classifier')\n",
    "    random_state = Parameter('random_state', default=0, help='Random state for the random forest classifier')\n",
    "    \n",
    "    @step\n",
    "    def start(self):\n",
    "        # Start the flow\n",
    "        self.next(self.ingest_data)\n",
    "        \n",
    "    @step\n",
    "    def ingest_data(self):\n",
    "        from sklearn.datasets import load_iris\n",
    "    \n",
    "        # Load the iris dataset\n",
    "        iris = load_iris()\n",
    "        \n",
    "        #pylint: disable=no-member\n",
    "        self.X = iris.data\n",
    "        self.y = iris.target\n",
    "        #pylint: enable=no-member\n",
    "        \n",
    "        self.next(self.split_data)\n",
    "\n",
    "    @step\n",
    "    def split_data(self):\n",
    "        #Split the data into train and test\n",
    "        from sklearn.model_selection import train_test_split\n",
    "        self.X_train, self.X_test, self.y_train, self.y_test = train_test_split(self.X, self.y, test_size=0.2)\n",
    "        self.next(self.train)\n",
    "\n",
    "    @step\n",
    "    def train(self):\n",
    "        from sklearn.ensemble import RandomForestClassifier\n",
    "        # Train the model\n",
    "        self.clf = RandomForestClassifier(max_depth=self.max_depth, n_estimators=self.n_estimators, random_state=self.random_state)\n",
    "        self.clf.fit(self.X_train, self.y_train)\n",
    "        self.next(self.show_metrics)\n",
    "\n",
    "    @step\n",
    "    def show_metrics(self):\n",
    "        from sklearn.metrics import classification_report, confusion_matrix\n",
    "        # Print some metrics\n",
    "        y_pred = self.clf.predict(self.X_test)\n",
    "        print(confusion_matrix(self.y_test, y_pred))\n",
    "        print(classification_report(self.y_test, y_pred))\n",
    "        self.next(self.register_model)\n",
    "        \n",
    "    @step\n",
    "    def register_model(self):\n",
    "        # Save the model\n",
    "        import pickle\n",
    "        with open('model.pkl', 'wb') as f:\n",
    "            pickle.dump(self.clf, f)\n",
    "                 \n",
    "        self.next(self.end)\n",
    "        \n",
    "    @step\n",
    "    def end(self):\n",
    "        pass\n",
    "    \n",
    "if __name__ == '__main__':\n",
    "    TrainingFlow()"
   ]
  },
  {
   "cell_type": "code",
   "execution_count": 4,
   "metadata": {},
   "outputs": [
    {
     "name": "stdout",
     "output_type": "stream",
     "text": [
      "\u001b[35m\u001b[1mMetaflow 2.7.22\u001b[0m\u001b[35m\u001b[22m executing \u001b[0m\u001b[31m\u001b[1mTrainingFlow\u001b[0m\u001b[35m\u001b[22m\u001b[0m\u001b[35m\u001b[22m for \u001b[0m\u001b[31m\u001b[1muser:daniel\u001b[0m\u001b[35m\u001b[22m\u001b[K\u001b[0m\u001b[35m\u001b[22m\u001b[0m\n",
      "\u001b[35m\u001b[22mValidating your flow...\u001b[K\u001b[0m\u001b[35m\u001b[22m\u001b[0m\n",
      "\u001b[32m\u001b[1m    The graph looks good!\u001b[K\u001b[0m\u001b[32m\u001b[1m\u001b[0m\n",
      "\u001b[35m\u001b[22mRunning pylint...\u001b[K\u001b[0m\u001b[35m\u001b[22m\u001b[0m\n",
      "\u001b[32m\u001b[1m    Pylint is happy!\u001b[K\u001b[0m\u001b[32m\u001b[1m\u001b[0m\n",
      "\u001b[35m2023-02-20 20:07:27.102 \u001b[0m\u001b[1mWorkflow starting (run-id 1676920046615427):\u001b[0m\n",
      "\u001b[35m2023-02-20 20:07:27.282 \u001b[0m\u001b[32m[1676920046615427/start/1 (pid 1188)] \u001b[0m\u001b[1mTask is starting.\u001b[0m\n",
      "\u001b[35m2023-02-20 20:07:28.728 \u001b[0m\u001b[32m[1676920046615427/start/1 (pid 1188)] \u001b[0m\u001b[1mTask finished successfully.\u001b[0m\n",
      "\u001b[35m2023-02-20 20:07:28.917 \u001b[0m\u001b[32m[1676920046615427/ingest_data/2 (pid 1194)] \u001b[0m\u001b[1mTask is starting.\u001b[0m\n",
      "\u001b[35m2023-02-20 20:07:31.639 \u001b[0m\u001b[32m[1676920046615427/ingest_data/2 (pid 1194)] \u001b[0m\u001b[1mTask finished successfully.\u001b[0m\n",
      "\u001b[35m2023-02-20 20:07:31.896 \u001b[0m\u001b[32m[1676920046615427/split_data/3 (pid 1225)] \u001b[0m\u001b[1mTask is starting.\u001b[0m\n",
      "\u001b[35m2023-02-20 20:07:34.144 \u001b[0m\u001b[32m[1676920046615427/split_data/3 (pid 1225)] \u001b[0m\u001b[1mTask finished successfully.\u001b[0m\n",
      "\u001b[35m2023-02-20 20:07:34.376 \u001b[0m\u001b[32m[1676920046615427/train/4 (pid 1253)] \u001b[0m\u001b[1mTask is starting.\u001b[0m\n",
      "\u001b[35m2023-02-20 20:07:37.202 \u001b[0m\u001b[32m[1676920046615427/train/4 (pid 1253)] \u001b[0m\u001b[1mTask finished successfully.\u001b[0m\n",
      "\u001b[35m2023-02-20 20:07:37.444 \u001b[0m\u001b[32m[1676920046615427/show_metrics/5 (pid 1281)] \u001b[0m\u001b[1mTask is starting.\u001b[0m\n",
      "\u001b[35m2023-02-20 20:07:39.080 \u001b[0m\u001b[32m[1676920046615427/show_metrics/5 (pid 1281)] \u001b[0m\u001b[22m[[12  0  0]\u001b[0m\n",
      "\u001b[35m2023-02-20 20:07:39.083 \u001b[0m\u001b[32m[1676920046615427/show_metrics/5 (pid 1281)] \u001b[0m\u001b[22m[ 0  8  2]\u001b[0m\n",
      "\u001b[35m2023-02-20 20:07:39.084 \u001b[0m\u001b[32m[1676920046615427/show_metrics/5 (pid 1281)] \u001b[0m\u001b[22m[ 0  0  8]]\u001b[0m\n",
      "\u001b[35m2023-02-20 20:07:39.084 \u001b[0m\u001b[32m[1676920046615427/show_metrics/5 (pid 1281)] \u001b[0m\u001b[22mprecision    recall  f1-score   support\u001b[0m\n",
      "\u001b[35m2023-02-20 20:07:40.054 \u001b[0m\u001b[32m[1676920046615427/show_metrics/5 (pid 1281)] \u001b[0m\u001b[22m\u001b[0m\n",
      "\u001b[35m2023-02-20 20:07:40.055 \u001b[0m\u001b[32m[1676920046615427/show_metrics/5 (pid 1281)] \u001b[0m\u001b[22m0       1.00      1.00      1.00        12\u001b[0m\n",
      "\u001b[35m2023-02-20 20:07:40.055 \u001b[0m\u001b[32m[1676920046615427/show_metrics/5 (pid 1281)] \u001b[0m\u001b[22m1       1.00      0.80      0.89        10\u001b[0m\n",
      "\u001b[35m2023-02-20 20:07:40.055 \u001b[0m\u001b[32m[1676920046615427/show_metrics/5 (pid 1281)] \u001b[0m\u001b[22m2       0.80      1.00      0.89         8\u001b[0m\n",
      "\u001b[35m2023-02-20 20:07:40.056 \u001b[0m\u001b[32m[1676920046615427/show_metrics/5 (pid 1281)] \u001b[0m\u001b[22m\u001b[0m\n",
      "\u001b[35m2023-02-20 20:07:40.056 \u001b[0m\u001b[32m[1676920046615427/show_metrics/5 (pid 1281)] \u001b[0m\u001b[22maccuracy                           0.93        30\u001b[0m\n",
      "\u001b[35m2023-02-20 20:07:40.056 \u001b[0m\u001b[32m[1676920046615427/show_metrics/5 (pid 1281)] \u001b[0m\u001b[22mmacro avg       0.93      0.93      0.93        30\u001b[0m\n",
      "\u001b[35m2023-02-20 20:07:40.056 \u001b[0m\u001b[32m[1676920046615427/show_metrics/5 (pid 1281)] \u001b[0m\u001b[22mweighted avg       0.95      0.93      0.93        30\u001b[0m\n",
      "\u001b[35m2023-02-20 20:07:40.056 \u001b[0m\u001b[32m[1676920046615427/show_metrics/5 (pid 1281)] \u001b[0m\u001b[22m\u001b[0m\n",
      "\u001b[35m2023-02-20 20:07:40.127 \u001b[0m\u001b[32m[1676920046615427/show_metrics/5 (pid 1281)] \u001b[0m\u001b[1mTask finished successfully.\u001b[0m\n",
      "\u001b[35m2023-02-20 20:07:40.402 \u001b[0m\u001b[32m[1676920046615427/register_model/6 (pid 1312)] \u001b[0m\u001b[1mTask is starting.\u001b[0m\n",
      "\u001b[35m2023-02-20 20:07:43.023 \u001b[0m\u001b[32m[1676920046615427/register_model/6 (pid 1312)] \u001b[0m\u001b[1mTask finished successfully.\u001b[0m\n",
      "\u001b[35m2023-02-20 20:07:43.271 \u001b[0m\u001b[32m[1676920046615427/end/7 (pid 1340)] \u001b[0m\u001b[1mTask is starting.\u001b[0m\n",
      "\u001b[35m2023-02-20 20:07:45.338 \u001b[0m\u001b[32m[1676920046615427/end/7 (pid 1340)] \u001b[0m\u001b[1mTask finished successfully.\u001b[0m\n",
      "\u001b[35m2023-02-20 20:07:45.431 \u001b[0m\u001b[1mDone!\u001b[0m\n"
     ]
    }
   ],
   "source": [
    "!python metaflow_trainingflow.py run --max_depth 2 --n_estimators 100 --random_state 0"
   ]
  }
 ],
 "metadata": {
  "kernelspec": {
   "display_name": "productionalization",
   "language": "python",
   "name": "python3"
  },
  "language_info": {
   "codemirror_mode": {
    "name": "ipython",
    "version": 3
   },
   "file_extension": ".py",
   "mimetype": "text/x-python",
   "name": "python",
   "nbconvert_exporter": "python",
   "pygments_lexer": "ipython3",
   "version": "3.10.8"
  },
  "orig_nbformat": 4,
  "vscode": {
   "interpreter": {
    "hash": "5ed29f95de7cc8ac0f18a32ccae5fbddd3dba9010e060d505f2ebe31fc64f080"
   }
  }
 },
 "nbformat": 4,
 "nbformat_minor": 2
}
