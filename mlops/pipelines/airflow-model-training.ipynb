{
 "cells": [
  {
   "cell_type": "code",
   "execution_count": 1,
   "metadata": {},
   "outputs": [],
   "source": [
    "# Defining a DAG for model training\n",
    "# Components:\n",
    "# 1. Data ingestion\n",
    "# 2. Data preprocessing\n",
    "# 3. Model training\n",
    "# 4. Model evaluation\n",
    "# 5. Model deployment"
   ]
  },
  {
   "cell_type": "code",
   "execution_count": 2,
   "metadata": {},
   "outputs": [],
   "source": [
    "# airflow db init\n",
    "# airflow users  create --role Admin --username admin --email admin --firstname admin --lastname admin --password admin\n",
    "# airflow webserver -p 8080\n",
    "# airflow scheduler"
   ]
  },
  {
   "cell_type": "code",
   "execution_count": 3,
   "metadata": {},
   "outputs": [],
   "source": [
    "# Imports\n",
    "import os\n",
    "from datetime import datetime, timedelta\n",
    "from airflow import DAG\n",
    "from airflow.decorators import task, dag, task_group\n",
    "import pandas as pd\n",
    "from sklearn.model_selection import train_test_split\n",
    "from sklearn.ensemble import RandomForestClassifier\n",
    "from sklearn.metrics import accuracy_score, classification_report, confusion_matrix"
   ]
  },
  {
   "cell_type": "code",
   "execution_count": 4,
   "metadata": {},
   "outputs": [
    {
     "name": "stdout",
     "output_type": "stream",
     "text": [
      "--2022-12-06 14:13:27--  https://archive.ics.uci.edu/ml/machine-learning-databases/iris/iris.data\n",
      "Resolving archive.ics.uci.edu (archive.ics.uci.edu)... 128.195.10.252\n",
      "Connecting to archive.ics.uci.edu (archive.ics.uci.edu)|128.195.10.252|:443... connected.\n",
      "HTTP request sent, awaiting response... 200 OK\n",
      "Length: 4551 (4.4K) [application/x-httpd-php]\n",
      "Saving to: ‘data/iris.csv’\n",
      "\n",
      "data/iris.csv       100%[===================>]   4.44K  --.-KB/s    in 0s      \n",
      "\n",
      "2022-12-06 14:13:28 (163 MB/s) - ‘data/iris.csv’ saved [4551/4551]\n",
      "\n"
     ]
    }
   ],
   "source": [
    "# Create the data.csv file \n",
    "# This file will be used for training the model\n",
    "# Download the iris dataset from the UCI Machine Learning Repository\n",
    "\n",
    "!mkdir -p data\n",
    "!wget -O data/iris.csv https://archive.ics.uci.edu/ml/machine-learning-databases/iris/iris.data"
   ]
  },
  {
   "cell_type": "code",
   "execution_count": 5,
   "metadata": {},
   "outputs": [
    {
     "data": {
      "text/html": [
       "<pre style=\"white-space:pre;overflow-x:auto;line-height:normal;font-family:Menlo,'DejaVu Sans Mono',consolas,'Courier New',monospace\"><span style=\"color: #808000; text-decoration-color: #808000; font-weight: bold\">/home/dlri/miniconda3/envs/productionalization/lib/python3.10/site-packages/airflow/models/dag.py:</span><span style=\"color: #808000; text-decoration-color: #808000; font-weight: bold\">3492</span><span style=\"color: #808000; text-decoration-color: #808000; font-weight: bold\"> RemovedInAirflow3Warning</span><span style=\"color: #808000; text-decoration-color: #808000\">: Param `schedule_interval` is deprecated and will be removed in a future release. Please use `schedule` instead.</span>\n",
       "</pre>\n"
      ],
      "text/plain": [
       "\u001b[1;33m/home/dlri/miniconda3/envs/productionalization/lib/python3.10/site-packages/airflow/models/\u001b[0m\u001b[1;33mdag.py\u001b[0m\u001b[1;33m:\u001b[0m\u001b[1;33m3492\u001b[0m\u001b[1;33m RemovedInAirflow3Warning\u001b[0m\u001b[33m: Param `schedule_interval` is deprecated and will be removed in a future release. Please use `schedule` instead.\u001b[0m\n"
      ]
     },
     "metadata": {},
     "output_type": "display_data"
    },
    {
     "name": "stdout",
     "output_type": "stream",
     "text": [
      "[\u001b[34m2022-12-06 14:13:28,619\u001b[0m] {\u001b[34mtaskmixin.py:\u001b[0m205} WARNING\u001b[0m - Dependency <Task(_PythonDecoratedOperator): train_test_split>, train_model already registered for DAG: training_model_pipeline\u001b[0m\n",
      "[\u001b[34m2022-12-06 14:13:28,620\u001b[0m] {\u001b[34mtaskmixin.py:\u001b[0m205} WARNING\u001b[0m - Dependency <Task(_PythonDecoratedOperator): train_model>, train_test_split already registered for DAG: training_model_pipeline\u001b[0m\n",
      "[\u001b[34m2022-12-06 14:13:28,621\u001b[0m] {\u001b[34mtaskmixin.py:\u001b[0m205} WARNING\u001b[0m - Dependency <Task(_PythonDecoratedOperator): train_test_split>, evaluate_model already registered for DAG: training_model_pipeline\u001b[0m\n",
      "[\u001b[34m2022-12-06 14:13:28,621\u001b[0m] {\u001b[34mtaskmixin.py:\u001b[0m205} WARNING\u001b[0m - Dependency <Task(_PythonDecoratedOperator): evaluate_model>, train_test_split already registered for DAG: training_model_pipeline\u001b[0m\n"
     ]
    }
   ],
   "source": [
    "@dag(dag_id=\"training_model_pipeline\", schedule_interval=None, start_date=datetime(2021, 1, 1), catchup=False\n",
    ")\n",
    "def training_model_pipeline():\n",
    "    @task\n",
    "    def ingest_data():\n",
    "        print(\"Ingesting data\")\n",
    "        df = pd.read_csv(\"data/iris.csv\", header=None)\n",
    "        df.columns = [\"sepal_length\", \"sepal_width\", \"petal_length\", \"petal_width\", \"target\"]\n",
    "        return df  \n",
    "    \n",
    "    @task\n",
    "    def preprocess_data(df):\n",
    "        print(\"Preprocessing data\")\n",
    "        df = df.dropna()\n",
    "        return df\n",
    "    \n",
    "    @task(multiple_outputs=True)\n",
    "    def train_test_split(df):\n",
    "        print(\"Splitting data\")\n",
    "        X = df.drop(\"target\", axis=1)\n",
    "        y = df[\"target\"]\n",
    "        X_train, X_test, y_train, y_test = train_test_split(X, y, test_size=0.2)\n",
    "        return {\"X_train\": X_train, \n",
    "                \"X_test\": X_test,\n",
    "                \"y_train\": y_train,\n",
    "                \"y_test\": y_test}\n",
    "    \n",
    "    @task\n",
    "    def train_model(X_train, y_train):\n",
    "        print(\"Training model\")\n",
    "        model = RandomForestClassifier()\n",
    "        model.fit(X_train, y_train)\n",
    "        return model\n",
    "    \n",
    "    @task\n",
    "    def evaluate_model(model, X_test, y_test):\n",
    "        print(\"Evaluating model\")\n",
    "        y_pred = model.predict(X_test)\n",
    "        accuracy = accuracy_score(y_test, y_pred)\n",
    "        report = classification_report(y_test, y_pred)\n",
    "        matrix = confusion_matrix(y_test, y_pred)\n",
    "        return {\"accuracy\": accuracy, \"report\": report, \"matrix\": matrix}\n",
    "    \n",
    "    # Build the DAG\n",
    "    df = ingest_data()\n",
    "    df = preprocess_data(df)\n",
    "    split_data = train_test_split(df)\n",
    "    model = train_model(split_data[\"X_train\"], split_data[\"y_train\"])\n",
    "    result = evaluate_model(model, split_data[\"X_test\"], split_data[\"y_test\"])\n",
    "    \n",
    "# Instantiate the DAG\n",
    "dag = training_model_pipeline()"
   ]
  }
 ],
 "metadata": {
  "kernelspec": {
   "display_name": "Python 3.10.8 ('productionalization')",
   "language": "python",
   "name": "python3"
  },
  "language_info": {
   "codemirror_mode": {
    "name": "ipython",
    "version": 3
   },
   "file_extension": ".py",
   "mimetype": "text/x-python",
   "name": "python",
   "nbconvert_exporter": "python",
   "pygments_lexer": "ipython3",
   "version": "3.10.8"
  },
  "orig_nbformat": 4,
  "vscode": {
   "interpreter": {
    "hash": "5ed29f95de7cc8ac0f18a32ccae5fbddd3dba9010e060d505f2ebe31fc64f080"
   }
  }
 },
 "nbformat": 4,
 "nbformat_minor": 2
}
