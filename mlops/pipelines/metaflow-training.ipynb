{
 "cells": [
  {
   "cell_type": "markdown",
   "metadata": {},
   "source": [
    "<img src=\"datamecum_logo.png\" align=\"right\" style=\"float\" width=\"400\">\n",
    "<font color=\"#CA3532\"><h1 align=\"left\">Programa técnico intensivo en data science. Datamecum.</h1></font>\n",
    "<font color=\"#6E6E6E\"><h2 align=\"left\">Módulo Implementación de Sistemas Data-driven.</h2></font> \n",
    "<font color=\"#6E6E6E\"><h2 align=\"left\">Tarea 1. Pipeline entrenamiento de modelos.</h2></font> \n",
    "\n",
    "#### Daniel Ruiz Riquelme"
   ]
  },
  {
   "attachments": {},
   "cell_type": "markdown",
   "metadata": {},
   "source": [
    "##  Install dependencies"
   ]
  },
  {
   "cell_type": "code",
   "execution_count": null,
   "metadata": {},
   "outputs": [],
   "source": [
    "!pip install metaflow\n",
    "!pip install scikit-learn\n",
    "!pip install pandas"
   ]
  },
  {
   "attachments": {},
   "cell_type": "markdown",
   "metadata": {},
   "source": [
    "## Set username"
   ]
  },
  {
   "cell_type": "code",
   "execution_count": null,
   "metadata": {},
   "outputs": [],
   "source": [
    "# Set username for workflows\n",
    "import os\n",
    "os.environ[\"USERNAME\"] = \"daniel\""
   ]
  },
  {
   "cell_type": "code",
   "execution_count": null,
   "metadata": {},
   "outputs": [],
   "source": [
    "%%writefile metaflow_trainingflow.py\n",
    "from metaflow import FlowSpec, Parameter, step\n",
    "\n",
    "class TrainingFlow(FlowSpec):\n",
    "    # Define the parameters for the flow\n",
    "    # TODO: YOUR CODE HERE\n",
    "    \n",
    "    @step\n",
    "    def start(self):\n",
    "        # Start the flow\n",
    "        self.next(self.ingest_data)\n",
    "        \n",
    "    @step\n",
    "    def ingest_data(self):\n",
    "        from sklearn.datasets import load_iris\n",
    "    \n",
    "        # Load the iris dataset\n",
    "        iris = load_iris()\n",
    "        \n",
    "        #pylint: disable=no-member\n",
    "        self.X = iris.data\n",
    "        self.y = iris.target\n",
    "        #pylint: enable=no-member\n",
    "        \n",
    "        self.next(self.split_data)\n",
    "\n",
    "    @step\n",
    "    def split_data(self):\n",
    "        #Split the data into train and test\n",
    "        # TODO: YOUR CODE HERE\n",
    "        \n",
    "        self.next(self.train)\n",
    "\n",
    "    @step\n",
    "    def train(self):\n",
    "        # Train the model\n",
    "        # TODO: YOUR CODE HERE\n",
    "\n",
    "    @step\n",
    "    def show_metrics(self):\n",
    "        # TODO: YOUR CODE HERE\n",
    "\n",
    "        \n",
    "    @step\n",
    "    def register_model(self):\n",
    "        # Save the model\n",
    "        # TODO: YOUR CODE HERE\n",
    "                 \n",
    "        \n",
    "    @step\n",
    "    def end(self):\n",
    "        pass\n",
    "    \n",
    "if __name__ == '__main__':\n",
    "    TrainingFlow()"
   ]
  },
  {
   "cell_type": "code",
   "execution_count": null,
   "metadata": {},
   "outputs": [],
   "source": [
    "!python metaflow_trainingflow.py run --max_depth 2 --n_estimators 100 --random_state 0"
   ]
  }
 ],
 "metadata": {
  "kernelspec": {
   "display_name": "productionalization",
   "language": "python",
   "name": "python3"
  },
  "language_info": {
   "codemirror_mode": {
    "name": "ipython",
    "version": 3
   },
   "file_extension": ".py",
   "mimetype": "text/x-python",
   "name": "python",
   "nbconvert_exporter": "python",
   "pygments_lexer": "ipython3",
   "version": "3.10.8"
  },
  "orig_nbformat": 4,
  "vscode": {
   "interpreter": {
    "hash": "5ed29f95de7cc8ac0f18a32ccae5fbddd3dba9010e060d505f2ebe31fc64f080"
   }
  }
 },
 "nbformat": 4,
 "nbformat_minor": 2
}
