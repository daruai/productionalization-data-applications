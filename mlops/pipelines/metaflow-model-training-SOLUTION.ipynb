{
 "cells": [
  {
   "cell_type": "markdown",
   "metadata": {},
   "source": [
    "<img src=\"datamecum_logo.png\" align=\"right\" style=\"float\" width=\"400\">\n",
    "<font color=\"#CA3532\"><h1 align=\"left\">Programa técnico intensivo en data science. Datamecum.</h1></font>\n",
    "<font color=\"#6E6E6E\"><h2 align=\"left\">Módulo Implementación de Sistemas Data-driven.</h2></font> \n",
    "<font color=\"#6E6E6E\"><h2 align=\"left\">Tarea 1. Pipeline entrenamiento de modelos.</h2></font> \n",
    "\n",
    "#### Daniel Ruiz Riquelme"
   ]
  },
  {
   "cell_type": "code",
   "execution_count": 23,
   "metadata": {},
   "outputs": [
    {
     "name": "stdout",
     "output_type": "stream",
     "text": [
      "Overwriting metaflow_trainingflow.py\n"
     ]
    }
   ],
   "source": [
    "%%writefile metaflow_trainingflow.py\n",
    "from metaflow import FlowSpec, Parameter, step\n",
    "\n",
    "class TrainingFlow(FlowSpec):\n",
    "    # Define the parameters for the flow\n",
    "    max_depth = Parameter('max_depth', default=2, help='Max depth of the random forest classifier')\n",
    "    n_estimators = Parameter('n_estimators', default=100, help='Number of estimators for the random forest classifier')\n",
    "    random_state = Parameter('random_state', default=0, help='Random state for the random forest classifier')\n",
    "    \n",
    "    @step\n",
    "    def start(self):\n",
    "        # Start the flow\n",
    "        self.next(self.ingest_data)\n",
    "        \n",
    "    @step\n",
    "    def ingest_data(self):\n",
    "        from sklearn.datasets import load_iris\n",
    "    \n",
    "        # Load the iris dataset\n",
    "        iris = load_iris()\n",
    "        \n",
    "        #pylint: disable=no-member\n",
    "        self.X = iris.data\n",
    "        self.y = iris.target\n",
    "        #pylint: enable=no-member\n",
    "        \n",
    "        self.next(self.split_data)\n",
    "\n",
    "    @step\n",
    "    def split_data(self):\n",
    "        #Split the data into train and test\n",
    "        from sklearn.model_selection import train_test_split\n",
    "        self.X_train, self.X_test, self.y_train, self.y_test = train_test_split(self.X, self.y, test_size=0.2)\n",
    "        self.next(self.train)\n",
    "\n",
    "    @step\n",
    "    def train(self):\n",
    "        from sklearn.ensemble import RandomForestClassifier\n",
    "        # Train the model\n",
    "        self.clf = RandomForestClassifier(max_depth=self.max_depth, n_estimators=self.n_estimators, random_state=self.random_state)\n",
    "        self.clf.fit(self.X_train, self.y_train)\n",
    "        self.next(self.show_metrics)\n",
    "\n",
    "    @step\n",
    "    def show_metrics(self):\n",
    "        from sklearn.metrics import classification_report, confusion_matrix\n",
    "        # Print some metrics\n",
    "        y_pred = self.clf.predict(self.X_test)\n",
    "        print(confusion_matrix(self.y_test, y_pred))\n",
    "        print(classification_report(self.y_test, y_pred))\n",
    "        self.next(self.register_model)\n",
    "        \n",
    "    @step\n",
    "    def register_model(self):\n",
    "        # Save the model\n",
    "        import pickle\n",
    "        with open('model.pkl', 'wb') as f:\n",
    "            pickle.dump(self.clf, f)\n",
    "                 \n",
    "        self.next(self.end)\n",
    "        \n",
    "    @step\n",
    "    def end(self):\n",
    "        pass\n",
    "    \n",
    "if __name__ == '__main__':\n",
    "    TrainingFlow()"
   ]
  },
  {
   "cell_type": "code",
   "execution_count": 24,
   "metadata": {},
   "outputs": [
    {
     "name": "stdout",
     "output_type": "stream",
     "text": [
      "\u001b[35m\u001b[1mMetaflow 2.7.22\u001b[0m\u001b[35m\u001b[22m executing \u001b[0m\u001b[31m\u001b[1mTrainingFlow\u001b[0m\u001b[35m\u001b[22m\u001b[0m\u001b[35m\u001b[22m for \u001b[0m\u001b[31m\u001b[1muser:dlri\u001b[0m\u001b[35m\u001b[22m\u001b[K\u001b[0m\u001b[35m\u001b[22m\u001b[0m\n",
      "\u001b[35m\u001b[22mValidating your flow...\u001b[K\u001b[0m\u001b[35m\u001b[22m\u001b[0m\n",
      "\u001b[32m\u001b[1m    The graph looks good!\u001b[K\u001b[0m\u001b[32m\u001b[1m\u001b[0m\n",
      "\u001b[35m\u001b[22mRunning pylint...\u001b[K\u001b[0m\u001b[35m\u001b[22m\u001b[0m\n",
      "\u001b[32m\u001b[1m    Pylint is happy!\u001b[K\u001b[0m\u001b[32m\u001b[1m\u001b[0m\n",
      "\u001b[35m2023-02-16 20:01:05.656 \u001b[0m\u001b[1mWorkflow starting (run-id 1676574065294898):\u001b[0m\n",
      "\u001b[35m2023-02-16 20:01:05.804 \u001b[0m\u001b[32m[1676574065294898/start/1 (pid 31799)] \u001b[0m\u001b[1mTask is starting.\u001b[0m\n",
      "\u001b[35m2023-02-16 20:01:07.312 \u001b[0m\u001b[32m[1676574065294898/start/1 (pid 31799)] \u001b[0m\u001b[1mTask finished successfully.\u001b[0m\n",
      "\u001b[35m2023-02-16 20:01:07.620 \u001b[0m\u001b[32m[1676574065294898/ingest_data/2 (pid 31805)] \u001b[0m\u001b[1mTask is starting.\u001b[0m\n",
      "\u001b[35m2023-02-16 20:01:09.933 \u001b[0m\u001b[32m[1676574065294898/ingest_data/2 (pid 31805)] \u001b[0m\u001b[1mTask finished successfully.\u001b[0m\n",
      "\u001b[35m2023-02-16 20:01:10.131 \u001b[0m\u001b[32m[1676574065294898/split_data/3 (pid 31834)] \u001b[0m\u001b[1mTask is starting.\u001b[0m\n",
      "\u001b[35m2023-02-16 20:01:11.945 \u001b[0m\u001b[32m[1676574065294898/split_data/3 (pid 31834)] \u001b[0m\u001b[1mTask finished successfully.\u001b[0m\n",
      "\u001b[35m2023-02-16 20:01:12.120 \u001b[0m\u001b[32m[1676574065294898/train/4 (pid 31861)] \u001b[0m\u001b[1mTask is starting.\u001b[0m\n",
      "\u001b[35m2023-02-16 20:01:14.456 \u001b[0m\u001b[32m[1676574065294898/train/4 (pid 31861)] \u001b[0m\u001b[1mTask finished successfully.\u001b[0m\n",
      "\u001b[35m2023-02-16 20:01:14.689 \u001b[0m\u001b[32m[1676574065294898/show_metrics/5 (pid 31892)] \u001b[0m\u001b[1mTask is starting.\u001b[0m\n",
      "\u001b[35m2023-02-16 20:01:16.348 \u001b[0m\u001b[32m[1676574065294898/show_metrics/5 (pid 31892)] \u001b[0m\u001b[22m[[11  0  0]\u001b[0m\n",
      "\u001b[35m2023-02-16 20:01:16.353 \u001b[0m\u001b[32m[1676574065294898/show_metrics/5 (pid 31892)] \u001b[0m\u001b[22m[ 0  9  1]\u001b[0m\n",
      "\u001b[35m2023-02-16 20:01:16.353 \u001b[0m\u001b[32m[1676574065294898/show_metrics/5 (pid 31892)] \u001b[0m\u001b[22m[ 0  0  9]]\u001b[0m\n",
      "\u001b[35m2023-02-16 20:01:16.353 \u001b[0m\u001b[32m[1676574065294898/show_metrics/5 (pid 31892)] \u001b[0m\u001b[22mprecision    recall  f1-score   support\u001b[0m\n",
      "\u001b[35m2023-02-16 20:01:17.355 \u001b[0m\u001b[32m[1676574065294898/show_metrics/5 (pid 31892)] \u001b[0m\u001b[22m\u001b[0m\n",
      "\u001b[35m2023-02-16 20:01:17.355 \u001b[0m\u001b[32m[1676574065294898/show_metrics/5 (pid 31892)] \u001b[0m\u001b[22m0       1.00      1.00      1.00        11\u001b[0m\n",
      "\u001b[35m2023-02-16 20:01:17.355 \u001b[0m\u001b[32m[1676574065294898/show_metrics/5 (pid 31892)] \u001b[0m\u001b[22m1       1.00      0.90      0.95        10\u001b[0m\n",
      "\u001b[35m2023-02-16 20:01:17.355 \u001b[0m\u001b[32m[1676574065294898/show_metrics/5 (pid 31892)] \u001b[0m\u001b[22m2       0.90      1.00      0.95         9\u001b[0m\n",
      "\u001b[35m2023-02-16 20:01:17.355 \u001b[0m\u001b[32m[1676574065294898/show_metrics/5 (pid 31892)] \u001b[0m\u001b[22m\u001b[0m\n",
      "\u001b[35m2023-02-16 20:01:17.355 \u001b[0m\u001b[32m[1676574065294898/show_metrics/5 (pid 31892)] \u001b[0m\u001b[22maccuracy                           0.97        30\u001b[0m\n",
      "\u001b[35m2023-02-16 20:01:17.356 \u001b[0m\u001b[32m[1676574065294898/show_metrics/5 (pid 31892)] \u001b[0m\u001b[22mmacro avg       0.97      0.97      0.96        30\u001b[0m\n",
      "\u001b[35m2023-02-16 20:01:17.356 \u001b[0m\u001b[32m[1676574065294898/show_metrics/5 (pid 31892)] \u001b[0m\u001b[22mweighted avg       0.97      0.97      0.97        30\u001b[0m\n",
      "\u001b[35m2023-02-16 20:01:17.356 \u001b[0m\u001b[32m[1676574065294898/show_metrics/5 (pid 31892)] \u001b[0m\u001b[22m\u001b[0m\n",
      "\u001b[35m2023-02-16 20:01:17.431 \u001b[0m\u001b[32m[1676574065294898/show_metrics/5 (pid 31892)] \u001b[0m\u001b[1mTask finished successfully.\u001b[0m\n",
      "\u001b[35m2023-02-16 20:01:17.732 \u001b[0m\u001b[32m[1676574065294898/register_model/6 (pid 31921)] \u001b[0m\u001b[1mTask is starting.\u001b[0m\n",
      "\u001b[35m2023-02-16 20:01:20.256 \u001b[0m\u001b[32m[1676574065294898/register_model/6 (pid 31921)] \u001b[0m\u001b[1mTask finished successfully.\u001b[0m\n",
      "\u001b[35m2023-02-16 20:01:20.568 \u001b[0m\u001b[32m[1676574065294898/end/7 (pid 31950)] \u001b[0m\u001b[1mTask is starting.\u001b[0m\n",
      "\u001b[35m2023-02-16 20:01:22.817 \u001b[0m\u001b[32m[1676574065294898/end/7 (pid 31950)] \u001b[0m\u001b[1mTask finished successfully.\u001b[0m\n",
      "\u001b[35m2023-02-16 20:01:22.885 \u001b[0m\u001b[1mDone!\u001b[0m\n"
     ]
    }
   ],
   "source": [
    "!python metaflow_trainingflow.py run --max_depth 2 --n_estimators 100 --random_state 0"
   ]
  }
 ],
 "metadata": {
  "kernelspec": {
   "display_name": "productionalization",
   "language": "python",
   "name": "python3"
  },
  "language_info": {
   "codemirror_mode": {
    "name": "ipython",
    "version": 3
   },
   "file_extension": ".py",
   "mimetype": "text/x-python",
   "name": "python",
   "nbconvert_exporter": "python",
   "pygments_lexer": "ipython3",
   "version": "3.10.8"
  },
  "orig_nbformat": 4,
  "vscode": {
   "interpreter": {
    "hash": "5ed29f95de7cc8ac0f18a32ccae5fbddd3dba9010e060d505f2ebe31fc64f080"
   }
  }
 },
 "nbformat": 4,
 "nbformat_minor": 2
}
