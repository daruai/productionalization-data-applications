{
 "cells": [
  {
   "attachments": {},
   "cell_type": "markdown",
   "metadata": {},
   "source": [
    "<img src=\"datamecum_logo.png\" align=\"right\" style=\"float\" width=\"400\">\n",
    "<font color=\"#CA3532\"><h1 align=\"left\">Programa técnico intensivo en data science. Datamecum.</h1></font>\n",
    "<font color=\"#6E6E6E\"><h2 align=\"left\">Módulo Implementación de Sistemas Data-driven.</h2></font> \n",
    "<font color=\"#6E6E6E\"><h2 align=\"left\">Tarea 1. Usando MLFlow como model registry.</h2></font> \n",
    "\n",
    "#### Daniel Ruiz Riquelme"
   ]
  },
  {
   "attachments": {},
   "cell_type": "markdown",
   "metadata": {},
   "source": [
    "# Tasks:\n",
    "1. Install MLFlow\n",
    "2. Setup MLFlow Tracking Server\n",
    "3. Create a new experiment\n",
    "4. Log a model experiment result\n",
    "5. Run a hyperparameter search and log the results (OPTIONAL)\n",
    "6. Register a model version using the best hyperparameters (OPTIONAL - if you did the previous step)\n",
    "7. Retrieve a model version and use it for prediction"
   ]
  },
  {
   "cell_type": "code",
   "execution_count": 7,
   "metadata": {},
   "outputs": [],
   "source": [
    "# 1. Install MLFlow\n",
    "# !pip install mlflow[extras]\n",
    "# !pip freeze | grep mlflow"
   ]
  },
  {
   "cell_type": "code",
   "execution_count": 8,
   "metadata": {},
   "outputs": [],
   "source": [
    "# 2. Setup MLFlow Tracking Server\n",
    "# Run the following command in a terminal to start the MLFlow Tracking Server\n",
    "# Configure mlflow to store all in a local directory\n",
    "# !mlflow server --backend-store-uri ./mlruns --default-artifact-root ./mlruns"
   ]
  },
  {
   "cell_type": "code",
   "execution_count": 9,
   "metadata": {},
   "outputs": [
    {
     "name": "stderr",
     "output_type": "stream",
     "text": [
      "2023/02/21 09:00:44 INFO mlflow.tracking.fluent: Experiment with name 'mlflow-model-training-iris' does not exist. Creating a new experiment.\n"
     ]
    },
    {
     "data": {
      "text/plain": [
       "<Experiment: artifact_location='./mlruns/947194689826893541', creation_time=1676966445014, experiment_id='947194689826893541', last_update_time=1676966445014, lifecycle_stage='active', name='mlflow-model-training-iris', tags={}>"
      ]
     },
     "execution_count": 9,
     "metadata": {},
     "output_type": "execute_result"
    }
   ],
   "source": [
    "# 3. Create a new experiment\n",
    "# This is a local tracking server. You can also use a remote tracking server. See https://mlflow.org/docs/latest/tracking.html for more details.\n",
    "# Remote tracking server will be simulated later\n",
    "\n",
    "# Uncomment if using the docker compose setup:\n",
    "# import os\n",
    "# os.environ[\"AWS_ACCESS_KEY_ID\"] = \"minio\"\n",
    "# os.environ[\"AWS_SECRET_ACCESS_KEY\"] = \"minio123\"\n",
    "# os.environ[\"MLFLOW_S3_ENDPOINT_URL\"] = f\"http://localhost:9000\"\n",
    "# os.environ[\"MYSQL_DATABASE\"] = \"mlflow_database\"\n",
    "# os.environ[\"MYSQL_USER\"] = \"mlflow_user\"\n",
    "# os.environ[\"MYSQL_PASSWORD\"] = \"mlflow\"\n",
    "# os.environ[\"MYSQL_ROOT_PASSWORD\"] = \"mysql\"\n",
    "\n",
    "\n",
    "\n",
    "import mlflow\n",
    "mlflow.set_tracking_uri(\"http://localhost:5000\")\n",
    "mlflow.set_experiment(\"mlflow-model-training-iris\")"
   ]
  },
  {
   "cell_type": "code",
   "execution_count": 10,
   "metadata": {},
   "outputs": [],
   "source": [
    "# 4. Log a model experiment result\n",
    "\n",
    "# Lets first create a simple function to train a model\n",
    "# The function will receive a set of hyperparameters and return the model and the accuracy\n",
    "import datetime\n",
    "\n",
    "def get_data():\n",
    "    from sklearn import datasets\n",
    "\n",
    "    X, y = datasets.make_classification(n_samples=1000, n_features=4, n_informative=4, n_redundant=0, n_classes=3, n_clusters_per_class=1, class_sep=0.5, random_state=40)\n",
    "    # use iris dataset\n",
    "    X, y = datasets.load_iris(return_X_y=True)\n",
    "    return X, y\n",
    "\n",
    "def train_model(hyperparameters):\n",
    "    from sklearn.ensemble import RandomForestClassifier\n",
    "    from sklearn.metrics import accuracy_score\n",
    "    from sklearn.model_selection import train_test_split\n",
    "    import mlflow.sklearn\n",
    "    X, y = get_data()\n",
    "    X_train, X_test, y_train, y_test = train_test_split(X, y, test_size=0.2, random_state=40)\n",
    "    model = RandomForestClassifier(**hyperparameters)\n",
    "    model.fit(X_train, y_train)\n",
    "    y_pred = model.predict(X_test)\n",
    "    accuracy = accuracy_score(y_pred, y_test)\n",
    "    return model, accuracy\n",
    "\n",
    "# Now lets train a model with some hyperparameters\n",
    "hyperparameters = {\"n_estimators\": 10, \"max_depth\": 5}\n",
    "model, accuracy = train_model(hyperparameters)\n",
    "\n",
    "# Now lets log the model and the accuracy\n",
    "date = datetime.datetime.now().strftime(\"%Y-%m-%d-%H-%M-%S\")\n",
    "with mlflow.start_run(run_name=f\"mlflow-training-{date}\"):\n",
    "    \n",
    "    # Hyperparameters are logged as parameters\n",
    "    for hyperparameter, value in hyperparameters.items():\n",
    "        mlflow.log_param(hyperparameter, value)\n",
    "    \n",
    "    # Accuracy is logged as a metric \n",
    "    mlflow.log_metric(\"accuracy\", accuracy)\n",
    "    \n",
    "    # Model is logged as an artifact\n",
    "    mlflow.sklearn.log_model(model, \"model\")"
   ]
  },
  {
   "cell_type": "code",
   "execution_count": 11,
   "metadata": {},
   "outputs": [
    {
     "name": "stderr",
     "output_type": "stream",
     "text": [
      "\u001b[32m[I 2023-02-21 09:00:50,947]\u001b[0m A new study created in memory with name: no-name-66803407-6092-4c35-9f3b-2f4479f397e0\u001b[0m\n",
      "\u001b[32m[I 2023-02-21 09:00:51,615]\u001b[0m Trial 0 finished with value: 0.9533333333333334 and parameters: {'n_estimators': 58, 'max_depth': 6, 'min_samples_split': 15, 'min_samples_leaf': 5, 'max_features': 0.7810092820638305}. Best is trial 0 with value: 0.9533333333333334.\u001b[0m\n",
      "\u001b[32m[I 2023-02-21 09:00:52,050]\u001b[0m Trial 1 finished with value: 0.9333333333333333 and parameters: {'n_estimators': 33, 'max_depth': 8, 'min_samples_split': 5, 'min_samples_leaf': 18, 'max_features': 0.15249916695620688}. Best is trial 1 with value: 0.9333333333333333.\u001b[0m\n",
      "\u001b[32m[I 2023-02-21 09:00:52,318]\u001b[0m Trial 2 finished with value: 0.9666666666666668 and parameters: {'n_estimators': 8, 'max_depth': 8, 'min_samples_split': 12, 'min_samples_leaf': 3, 'max_features': 0.783036438987598}. Best is trial 1 with value: 0.9333333333333333.\u001b[0m\n",
      "\u001b[32m[I 2023-02-21 09:00:52,711]\u001b[0m Trial 3 finished with value: 0.9066666666666666 and parameters: {'n_estimators': 22, 'max_depth': 5, 'min_samples_split': 8, 'min_samples_leaf': 19, 'max_features': 0.3946482630366913}. Best is trial 3 with value: 0.9066666666666666.\u001b[0m\n",
      "\u001b[32m[I 2023-02-21 09:00:53,530]\u001b[0m Trial 4 finished with value: 0.9533333333333334 and parameters: {'n_estimators': 79, 'max_depth': 10, 'min_samples_split': 11, 'min_samples_leaf': 20, 'max_features': 0.8009009973402204}. Best is trial 3 with value: 0.9066666666666666.\u001b[0m\n",
      "\u001b[32m[I 2023-02-21 09:00:54,333]\u001b[0m Trial 5 finished with value: 0.9533333333333334 and parameters: {'n_estimators': 70, 'max_depth': 7, 'min_samples_split': 15, 'min_samples_leaf': 7, 'max_features': 0.512066535527681}. Best is trial 3 with value: 0.9066666666666666.\u001b[0m\n",
      "\u001b[32m[I 2023-02-21 09:00:54,586]\u001b[0m Trial 6 finished with value: 0.9533333333333334 and parameters: {'n_estimators': 18, 'max_depth': 7, 'min_samples_split': 19, 'min_samples_leaf': 8, 'max_features': 0.9993681622376129}. Best is trial 3 with value: 0.9066666666666666.\u001b[0m\n",
      "\u001b[32m[I 2023-02-21 09:00:55,419]\u001b[0m Trial 7 finished with value: 0.9533333333333334 and parameters: {'n_estimators': 99, 'max_depth': 4, 'min_samples_split': 16, 'min_samples_leaf': 17, 'max_features': 0.3471022426516233}. Best is trial 3 with value: 0.9066666666666666.\u001b[0m\n",
      "\u001b[32m[I 2023-02-21 09:00:55,643]\u001b[0m Trial 8 finished with value: 0.9400000000000001 and parameters: {'n_estimators': 10, 'max_depth': 2, 'min_samples_split': 11, 'min_samples_leaf': 11, 'max_features': 0.38074389103619}. Best is trial 3 with value: 0.9066666666666666.\u001b[0m\n",
      "\u001b[32m[I 2023-02-21 09:00:56,609]\u001b[0m Trial 9 finished with value: 0.9533333333333334 and parameters: {'n_estimators': 83, 'max_depth': 8, 'min_samples_split': 8, 'min_samples_leaf': 13, 'max_features': 0.8083064823899492}. Best is trial 3 with value: 0.9066666666666666.\u001b[0m\n",
      "\u001b[32m[I 2023-02-21 09:00:57,118]\u001b[0m Trial 10 finished with value: 0.96 and parameters: {'n_estimators': 36, 'max_depth': 4, 'min_samples_split': 3, 'min_samples_leaf': 14, 'max_features': 0.14187701267398883}. Best is trial 3 with value: 0.9066666666666666.\u001b[0m\n",
      "\u001b[32m[I 2023-02-21 09:00:57,495]\u001b[0m Trial 11 finished with value: 0.9533333333333334 and parameters: {'n_estimators': 36, 'max_depth': 5, 'min_samples_split': 4, 'min_samples_leaf': 20, 'max_features': 0.1346059355514285}. Best is trial 3 with value: 0.9066666666666666.\u001b[0m\n",
      "\u001b[32m[I 2023-02-21 09:00:57,916]\u001b[0m Trial 12 finished with value: 0.96 and parameters: {'n_estimators': 33, 'max_depth': 10, 'min_samples_split': 6, 'min_samples_leaf': 15, 'max_features': 0.29177597376267844}. Best is trial 3 with value: 0.9066666666666666.\u001b[0m\n",
      "\u001b[32m[I 2023-02-21 09:00:58,245]\u001b[0m Trial 13 finished with value: 0.9333333333333332 and parameters: {'n_estimators': 27, 'max_depth': 2, 'min_samples_split': 7, 'min_samples_leaf': 17, 'max_features': 0.5142781053343486}. Best is trial 3 with value: 0.9066666666666666.\u001b[0m\n",
      "\u001b[32m[I 2023-02-21 09:00:58,645]\u001b[0m Trial 14 finished with value: 0.96 and parameters: {'n_estimators': 21, 'max_depth': 2, 'min_samples_split': 8, 'min_samples_leaf': 17, 'max_features': 0.5581436075341529}. Best is trial 3 with value: 0.9066666666666666.\u001b[0m\n",
      "\u001b[32m[I 2023-02-21 09:00:59,158]\u001b[0m Trial 15 finished with value: 0.9466666666666665 and parameters: {'n_estimators': 53, 'max_depth': 3, 'min_samples_split': 8, 'min_samples_leaf': 12, 'max_features': 0.5255270172087401}. Best is trial 3 with value: 0.9066666666666666.\u001b[0m\n",
      "\u001b[32m[I 2023-02-21 09:00:59,379]\u001b[0m Trial 16 finished with value: 0.8466666666666667 and parameters: {'n_estimators': 1, 'max_depth': 4, 'min_samples_split': 2, 'min_samples_leaf': 16, 'max_features': 0.6252280230157409}. Best is trial 16 with value: 0.8466666666666667.\u001b[0m\n",
      "\u001b[32m[I 2023-02-21 09:00:59,554]\u001b[0m Trial 17 finished with value: 0.9133333333333333 and parameters: {'n_estimators': 1, 'max_depth': 5, 'min_samples_split': 2, 'min_samples_leaf': 15, 'max_features': 0.6734748689125412}. Best is trial 16 with value: 0.8466666666666667.\u001b[0m\n",
      "\u001b[32m[I 2023-02-21 09:00:59,730]\u001b[0m Trial 18 finished with value: 0.9399999999999998 and parameters: {'n_estimators': 2, 'max_depth': 4, 'min_samples_split': 4, 'min_samples_leaf': 1, 'max_features': 0.6478671195216865}. Best is trial 16 with value: 0.8466666666666667.\u001b[0m\n",
      "\u001b[32m[I 2023-02-21 09:00:59,999]\u001b[0m Trial 19 finished with value: 0.96 and parameters: {'n_estimators': 15, 'max_depth': 5, 'min_samples_split': 13, 'min_samples_leaf': 9, 'max_features': 0.4185183121277928}. Best is trial 16 with value: 0.8466666666666667.\u001b[0m\n",
      "\u001b[32m[I 2023-02-21 09:01:00,431]\u001b[0m Trial 20 finished with value: 0.9400000000000001 and parameters: {'n_estimators': 43, 'max_depth': 3, 'min_samples_split': 9, 'min_samples_leaf': 15, 'max_features': 0.28821018749286337}. Best is trial 16 with value: 0.8466666666666667.\u001b[0m\n",
      "\u001b[32m[I 2023-02-21 09:01:00,604]\u001b[0m Trial 21 finished with value: 0.9200000000000002 and parameters: {'n_estimators': 1, 'max_depth': 5, 'min_samples_split': 2, 'min_samples_leaf': 19, 'max_features': 0.6758471482588729}. Best is trial 16 with value: 0.8466666666666667.\u001b[0m\n",
      "\u001b[32m[I 2023-02-21 09:01:00,874]\u001b[0m Trial 22 finished with value: 0.9400000000000001 and parameters: {'n_estimators': 11, 'max_depth': 6, 'min_samples_split': 2, 'min_samples_leaf': 16, 'max_features': 0.6575634817935309}. Best is trial 16 with value: 0.8466666666666667.\u001b[0m\n",
      "\u001b[32m[I 2023-02-21 09:01:01,326]\u001b[0m Trial 23 finished with value: 0.9466666666666665 and parameters: {'n_estimators': 25, 'max_depth': 5, 'min_samples_split': 5, 'min_samples_leaf': 13, 'max_features': 0.9085033623103862}. Best is trial 16 with value: 0.8466666666666667.\u001b[0m\n",
      "\u001b[32m[I 2023-02-21 09:01:01,540]\u001b[0m Trial 24 finished with value: 0.9466666666666667 and parameters: {'n_estimators': 2, 'max_depth': 3, 'min_samples_split': 2, 'min_samples_leaf': 18, 'max_features': 0.6036970418991179}. Best is trial 16 with value: 0.8466666666666667.\u001b[0m\n",
      "\u001b[32m[I 2023-02-21 09:01:01,796]\u001b[0m Trial 25 finished with value: 0.9266666666666667 and parameters: {'n_estimators': 15, 'max_depth': 4, 'min_samples_split': 6, 'min_samples_leaf': 15, 'max_features': 0.44876648964936966}. Best is trial 16 with value: 0.8466666666666667.\u001b[0m\n",
      "\u001b[32m[I 2023-02-21 09:01:01,988]\u001b[0m Trial 26 finished with value: 0.9466666666666667 and parameters: {'n_estimators': 7, 'max_depth': 6, 'min_samples_split': 4, 'min_samples_leaf': 10, 'max_features': 0.7069623721719223}. Best is trial 16 with value: 0.8466666666666667.\u001b[0m\n",
      "\u001b[32m[I 2023-02-21 09:01:02,287]\u001b[0m Trial 27 finished with value: 0.9466666666666665 and parameters: {'n_estimators': 25, 'max_depth': 7, 'min_samples_split': 10, 'min_samples_leaf': 19, 'max_features': 0.7239677164441903}. Best is trial 16 with value: 0.8466666666666667.\u001b[0m\n",
      "\u001b[32m[I 2023-02-21 09:01:02,701]\u001b[0m Trial 28 finished with value: 0.96 and parameters: {'n_estimators': 42, 'max_depth': 5, 'min_samples_split': 20, 'min_samples_leaf': 13, 'max_features': 0.58302417569008}. Best is trial 16 with value: 0.8466666666666667.\u001b[0m\n",
      "\u001b[32m[I 2023-02-21 09:01:03,243]\u001b[0m Trial 29 finished with value: 0.9466666666666665 and parameters: {'n_estimators': 64, 'max_depth': 6, 'min_samples_split': 3, 'min_samples_leaf': 16, 'max_features': 0.4649664357852735}. Best is trial 16 with value: 0.8466666666666667.\u001b[0m\n",
      "\u001b[32m[I 2023-02-21 09:01:03,552]\u001b[0m Trial 30 finished with value: 0.9466666666666667 and parameters: {'n_estimators': 19, 'max_depth': 3, 'min_samples_split': 14, 'min_samples_leaf': 5, 'max_features': 0.8797299230999993}. Best is trial 16 with value: 0.8466666666666667.\u001b[0m\n",
      "\u001b[32m[I 2023-02-21 09:01:03,707]\u001b[0m Trial 31 finished with value: 0.8466666666666667 and parameters: {'n_estimators': 1, 'max_depth': 5, 'min_samples_split': 2, 'min_samples_leaf': 19, 'max_features': 0.6994210302818276}. Best is trial 16 with value: 0.8466666666666667.\u001b[0m\n",
      "\u001b[32m[I 2023-02-21 09:01:03,893]\u001b[0m Trial 32 finished with value: 0.96 and parameters: {'n_estimators': 7, 'max_depth': 4, 'min_samples_split': 3, 'min_samples_leaf': 19, 'max_features': 0.7310901307525957}. Best is trial 16 with value: 0.8466666666666667.\u001b[0m\n",
      "\u001b[32m[I 2023-02-21 09:01:04,044]\u001b[0m Trial 33 finished with value: 0.86 and parameters: {'n_estimators': 1, 'max_depth': 5, 'min_samples_split': 5, 'min_samples_leaf': 18, 'max_features': 0.5955150715592645}. Best is trial 16 with value: 0.8466666666666667.\u001b[0m\n",
      "\u001b[32m[I 2023-02-21 09:01:04,268]\u001b[0m Trial 34 finished with value: 0.9199999999999999 and parameters: {'n_estimators': 12, 'max_depth': 6, 'min_samples_split': 6, 'min_samples_leaf': 20, 'max_features': 0.22230661152292053}. Best is trial 16 with value: 0.8466666666666667.\u001b[0m\n",
      "\u001b[32m[I 2023-02-21 09:01:04,468]\u001b[0m Trial 35 finished with value: 0.9333333333333332 and parameters: {'n_estimators': 6, 'max_depth': 4, 'min_samples_split': 5, 'min_samples_leaf': 18, 'max_features': 0.6263420349953801}. Best is trial 16 with value: 0.8466666666666667.\u001b[0m\n",
      "\u001b[32m[I 2023-02-21 09:01:04,792]\u001b[0m Trial 36 finished with value: 0.9533333333333334 and parameters: {'n_estimators': 30, 'max_depth': 7, 'min_samples_split': 5, 'min_samples_leaf': 18, 'max_features': 0.7628602529218056}. Best is trial 16 with value: 0.8466666666666667.\u001b[0m\n",
      "\u001b[32m[I 2023-02-21 09:01:05,068]\u001b[0m Trial 37 finished with value: 0.9533333333333334 and parameters: {'n_estimators': 20, 'max_depth': 5, 'min_samples_split': 7, 'min_samples_leaf': 20, 'max_features': 0.835721798075664}. Best is trial 16 with value: 0.8466666666666667.\u001b[0m\n",
      "\u001b[32m[I 2023-02-21 09:01:05,300]\u001b[0m Trial 38 finished with value: 0.9533333333333334 and parameters: {'n_estimators': 14, 'max_depth': 6, 'min_samples_split': 10, 'min_samples_leaf': 17, 'max_features': 0.47354812793401324}. Best is trial 16 with value: 0.8466666666666667.\u001b[0m\n",
      "\u001b[32m[I 2023-02-21 09:01:05,481]\u001b[0m Trial 39 finished with value: 0.9466666666666665 and parameters: {'n_estimators': 6, 'max_depth': 7, 'min_samples_split': 4, 'min_samples_leaf': 19, 'max_features': 0.5763282092990527}. Best is trial 16 with value: 0.8466666666666667.\u001b[0m\n",
      "\u001b[32m[I 2023-02-21 09:01:05,987]\u001b[0m Trial 40 finished with value: 0.9466666666666667 and parameters: {'n_estimators': 43, 'max_depth': 3, 'min_samples_split': 17, 'min_samples_leaf': 16, 'max_features': 0.38104345666989126}. Best is trial 16 with value: 0.8466666666666667.\u001b[0m\n",
      "\u001b[32m[I 2023-02-21 09:01:06,141]\u001b[0m Trial 41 finished with value: 0.9 and parameters: {'n_estimators': 1, 'max_depth': 5, 'min_samples_split': 2, 'min_samples_leaf': 14, 'max_features': 0.6834489275098689}. Best is trial 16 with value: 0.8466666666666667.\u001b[0m\n",
      "\u001b[32m[I 2023-02-21 09:01:06,357]\u001b[0m Trial 42 finished with value: 0.9533333333333334 and parameters: {'n_estimators': 9, 'max_depth': 4, 'min_samples_split': 3, 'min_samples_leaf': 14, 'max_features': 0.7745346985984681}. Best is trial 16 with value: 0.8466666666666667.\u001b[0m\n",
      "\u001b[32m[I 2023-02-21 09:01:06,538]\u001b[0m Trial 43 finished with value: 0.9533333333333334 and parameters: {'n_estimators': 5, 'max_depth': 5, 'min_samples_split': 3, 'min_samples_leaf': 18, 'max_features': 0.6225533288467369}. Best is trial 16 with value: 0.8466666666666667.\u001b[0m\n",
      "\u001b[32m[I 2023-02-21 09:01:06,792]\u001b[0m Trial 44 finished with value: 0.9533333333333334 and parameters: {'n_estimators': 16, 'max_depth': 4, 'min_samples_split': 5, 'min_samples_leaf': 16, 'max_features': 0.5036779221736603}. Best is trial 16 with value: 0.8466666666666667.\u001b[0m\n",
      "\u001b[32m[I 2023-02-21 09:01:07,475]\u001b[0m Trial 45 finished with value: 0.9466666666666665 and parameters: {'n_estimators': 92, 'max_depth': 5, 'min_samples_split': 7, 'min_samples_leaf': 17, 'max_features': 0.6868499525287766}. Best is trial 16 with value: 0.8466666666666667.\u001b[0m\n",
      "\u001b[32m[I 2023-02-21 09:01:07,691]\u001b[0m Trial 46 finished with value: 0.9533333333333334 and parameters: {'n_estimators': 12, 'max_depth': 6, 'min_samples_split': 4, 'min_samples_leaf': 14, 'max_features': 0.5439281637380843}. Best is trial 16 with value: 0.8466666666666667.\u001b[0m\n",
      "\u001b[32m[I 2023-02-21 09:01:08,057]\u001b[0m Trial 47 finished with value: 0.96 and parameters: {'n_estimators': 22, 'max_depth': 8, 'min_samples_split': 2, 'min_samples_leaf': 20, 'max_features': 0.8281792932501586}. Best is trial 16 with value: 0.8466666666666667.\u001b[0m\n",
      "\u001b[32m[I 2023-02-21 09:01:08,246]\u001b[0m Trial 48 finished with value: 0.9400000000000001 and parameters: {'n_estimators': 2, 'max_depth': 5, 'min_samples_split': 6, 'min_samples_leaf': 12, 'max_features': 0.7519065566225938}. Best is trial 16 with value: 0.8466666666666667.\u001b[0m\n",
      "\u001b[32m[I 2023-02-21 09:01:08,452]\u001b[0m Trial 49 finished with value: 0.9266666666666667 and parameters: {'n_estimators': 9, 'max_depth': 4, 'min_samples_split': 12, 'min_samples_leaf': 18, 'max_features': 0.19441814584116568}. Best is trial 16 with value: 0.8466666666666667.\u001b[0m\n",
      "\u001b[32m[I 2023-02-21 09:01:08,926]\u001b[0m Trial 50 finished with value: 0.9466666666666665 and parameters: {'n_estimators': 56, 'max_depth': 9, 'min_samples_split': 3, 'min_samples_leaf': 19, 'max_features': 0.9990539000141998}. Best is trial 16 with value: 0.8466666666666667.\u001b[0m\n",
      "\u001b[32m[I 2023-02-21 09:01:09,102]\u001b[0m Trial 51 finished with value: 0.9533333333333335 and parameters: {'n_estimators': 2, 'max_depth': 5, 'min_samples_split': 2, 'min_samples_leaf': 15, 'max_features': 0.64758364548345}. Best is trial 16 with value: 0.8466666666666667.\u001b[0m\n",
      "\u001b[32m[I 2023-02-21 09:01:09,258]\u001b[0m Trial 52 finished with value: 0.8866666666666667 and parameters: {'n_estimators': 1, 'max_depth': 4, 'min_samples_split': 2, 'min_samples_leaf': 16, 'max_features': 0.7052874159162871}. Best is trial 16 with value: 0.8466666666666667.\u001b[0m\n",
      "\u001b[32m[I 2023-02-21 09:01:09,445]\u001b[0m Trial 53 finished with value: 0.96 and parameters: {'n_estimators': 5, 'max_depth': 4, 'min_samples_split': 3, 'min_samples_leaf': 17, 'max_features': 0.6989569712994342}. Best is trial 16 with value: 0.8466666666666667.\u001b[0m\n",
      "\u001b[32m[I 2023-02-21 09:01:10,048]\u001b[0m Trial 54 finished with value: 0.9399999999999998 and parameters: {'n_estimators': 77, 'max_depth': 4, 'min_samples_split': 4, 'min_samples_leaf': 14, 'max_features': 0.5871906283051043}. Best is trial 16 with value: 0.8466666666666667.\u001b[0m\n",
      "\u001b[32m[I 2023-02-21 09:01:10,318]\u001b[0m Trial 55 finished with value: 0.9199999999999999 and parameters: {'n_estimators': 12, 'max_depth': 3, 'min_samples_split': 2, 'min_samples_leaf': 16, 'max_features': 0.32209166818904744}. Best is trial 16 with value: 0.8466666666666667.\u001b[0m\n",
      "\u001b[32m[I 2023-02-21 09:01:10,543]\u001b[0m Trial 56 finished with value: 0.9266666666666667 and parameters: {'n_estimators': 1, 'max_depth': 5, 'min_samples_split': 8, 'min_samples_leaf': 12, 'max_features': 0.6242985208332971}. Best is trial 16 with value: 0.8466666666666667.\u001b[0m\n",
      "\u001b[32m[I 2023-02-21 09:01:10,848]\u001b[0m Trial 57 finished with value: 0.9533333333333334 and parameters: {'n_estimators': 17, 'max_depth': 6, 'min_samples_split': 4, 'min_samples_leaf': 17, 'max_features': 0.5490873956058543}. Best is trial 16 with value: 0.8466666666666667.\u001b[0m\n",
      "\u001b[32m[I 2023-02-21 09:01:11,073]\u001b[0m Trial 58 finished with value: 0.9533333333333334 and parameters: {'n_estimators': 9, 'max_depth': 5, 'min_samples_split': 2, 'min_samples_leaf': 19, 'max_features': 0.7349419727467517}. Best is trial 16 with value: 0.8466666666666667.\u001b[0m\n",
      "\u001b[32m[I 2023-02-21 09:01:11,269]\u001b[0m Trial 59 finished with value: 0.9 and parameters: {'n_estimators': 5, 'max_depth': 3, 'min_samples_split': 5, 'min_samples_leaf': 18, 'max_features': 0.4060844726999268}. Best is trial 16 with value: 0.8466666666666667.\u001b[0m\n",
      "\u001b[32m[I 2023-02-21 09:01:11,480]\u001b[0m Trial 60 finished with value: 0.9333333333333333 and parameters: {'n_estimators': 5, 'max_depth': 2, 'min_samples_split': 5, 'min_samples_leaf': 18, 'max_features': 0.4105775634658093}. Best is trial 16 with value: 0.8466666666666667.\u001b[0m\n",
      "\u001b[32m[I 2023-02-21 09:01:11,649]\u001b[0m Trial 61 finished with value: 0.86 and parameters: {'n_estimators': 4, 'max_depth': 3, 'min_samples_split': 3, 'min_samples_leaf': 17, 'max_features': 0.3595452866756328}. Best is trial 16 with value: 0.8466666666666667.\u001b[0m\n",
      "\u001b[32m[I 2023-02-21 09:01:11,826]\u001b[0m Trial 62 finished with value: 0.9466666666666667 and parameters: {'n_estimators': 4, 'max_depth': 3, 'min_samples_split': 3, 'min_samples_leaf': 16, 'max_features': 0.33261978795975267}. Best is trial 16 with value: 0.8466666666666667.\u001b[0m\n",
      "\u001b[32m[I 2023-02-21 09:01:12,038]\u001b[0m Trial 63 finished with value: 0.9533333333333334 and parameters: {'n_estimators': 9, 'max_depth': 3, 'min_samples_split': 2, 'min_samples_leaf': 17, 'max_features': 0.7990738018651425}. Best is trial 16 with value: 0.8466666666666667.\u001b[0m\n",
      "\u001b[32m[I 2023-02-21 09:01:12,219]\u001b[0m Trial 64 finished with value: 0.8466666666666667 and parameters: {'n_estimators': 4, 'max_depth': 2, 'min_samples_split': 3, 'min_samples_leaf': 15, 'max_features': 0.2963100544012136}. Best is trial 16 with value: 0.8466666666666667.\u001b[0m\n",
      "\u001b[32m[I 2023-02-21 09:01:12,451]\u001b[0m Trial 65 finished with value: 0.96 and parameters: {'n_estimators': 13, 'max_depth': 2, 'min_samples_split': 4, 'min_samples_leaf': 6, 'max_features': 0.30975346115808533}. Best is trial 16 with value: 0.8466666666666667.\u001b[0m\n",
      "\u001b[32m[I 2023-02-21 09:01:12,643]\u001b[0m Trial 66 finished with value: 0.9199999999999999 and parameters: {'n_estimators': 4, 'max_depth': 2, 'min_samples_split': 3, 'min_samples_leaf': 3, 'max_features': 0.3587806242900743}. Best is trial 16 with value: 0.8466666666666667.\u001b[0m\n",
      "\u001b[32m[I 2023-02-21 09:01:12,927]\u001b[0m Trial 67 finished with value: 0.9200000000000002 and parameters: {'n_estimators': 8, 'max_depth': 3, 'min_samples_split': 5, 'min_samples_leaf': 15, 'max_features': 0.268488716246237}. Best is trial 16 with value: 0.8466666666666667.\u001b[0m\n",
      "\u001b[32m[I 2023-02-21 09:01:13,199]\u001b[0m Trial 68 finished with value: 0.8933333333333333 and parameters: {'n_estimators': 17, 'max_depth': 2, 'min_samples_split': 6, 'min_samples_leaf': 20, 'max_features': 0.2301688451868679}. Best is trial 16 with value: 0.8466666666666667.\u001b[0m\n",
      "\u001b[32m[I 2023-02-21 09:01:13,452]\u001b[0m Trial 69 finished with value: 0.9466666666666667 and parameters: {'n_estimators': 17, 'max_depth': 2, 'min_samples_split': 4, 'min_samples_leaf': 20, 'max_features': 0.25003693640252583}. Best is trial 16 with value: 0.8466666666666667.\u001b[0m\n",
      "\u001b[32m[I 2023-02-21 09:01:13,738]\u001b[0m Trial 70 finished with value: 0.9266666666666665 and parameters: {'n_estimators': 22, 'max_depth': 2, 'min_samples_split': 6, 'min_samples_leaf': 8, 'max_features': 0.166208304745884}. Best is trial 16 with value: 0.8466666666666667.\u001b[0m\n",
      "\u001b[32m[I 2023-02-21 09:01:13,915]\u001b[0m Trial 71 finished with value: 0.9199999999999999 and parameters: {'n_estimators': 4, 'max_depth': 2, 'min_samples_split': 3, 'min_samples_leaf': 18, 'max_features': 0.20085743727885275}. Best is trial 16 with value: 0.8466666666666667.\u001b[0m\n",
      "\u001b[32m[I 2023-02-21 09:01:14,126]\u001b[0m Trial 72 finished with value: 0.9333333333333332 and parameters: {'n_estimators': 10, 'max_depth': 3, 'min_samples_split': 7, 'min_samples_leaf': 19, 'max_features': 0.36123279850449336}. Best is trial 16 with value: 0.8466666666666667.\u001b[0m\n",
      "\u001b[32m[I 2023-02-21 09:01:14,292]\u001b[0m Trial 73 finished with value: 0.8266666666666665 and parameters: {'n_estimators': 1, 'max_depth': 3, 'min_samples_split': 4, 'min_samples_leaf': 17, 'max_features': 0.12268023606844392}. Best is trial 73 with value: 0.8266666666666665.\u001b[0m\n",
      "\u001b[32m[I 2023-02-21 09:01:14,448]\u001b[0m Trial 74 finished with value: 0.8333333333333334 and parameters: {'n_estimators': 1, 'max_depth': 2, 'min_samples_split': 2, 'min_samples_leaf': 17, 'max_features': 0.13222426738918505}. Best is trial 73 with value: 0.8266666666666665.\u001b[0m\n",
      "\u001b[32m[I 2023-02-21 09:01:14,598]\u001b[0m Trial 75 finished with value: 0.76 and parameters: {'n_estimators': 1, 'max_depth': 4, 'min_samples_split': 2, 'min_samples_leaf': 16, 'max_features': 0.10276090277917481}. Best is trial 75 with value: 0.76.\u001b[0m\n",
      "\u001b[32m[I 2023-02-21 09:01:14,802]\u001b[0m Trial 76 finished with value: 0.9400000000000001 and parameters: {'n_estimators': 7, 'max_depth': 3, 'min_samples_split': 2, 'min_samples_leaf': 17, 'max_features': 0.10382916058474187}. Best is trial 75 with value: 0.76.\u001b[0m\n",
      "\u001b[32m[I 2023-02-21 09:01:15,092]\u001b[0m Trial 77 finished with value: 0.9200000000000002 and parameters: {'n_estimators': 14, 'max_depth': 2, 'min_samples_split': 3, 'min_samples_leaf': 15, 'max_features': 0.1078247191413372}. Best is trial 75 with value: 0.76.\u001b[0m\n",
      "\u001b[32m[I 2023-02-21 09:01:15,336]\u001b[0m Trial 78 finished with value: 0.9399999999999998 and parameters: {'n_estimators': 11, 'max_depth': 3, 'min_samples_split': 3, 'min_samples_leaf': 15, 'max_features': 0.14564456781823526}. Best is trial 75 with value: 0.76.\u001b[0m\n",
      "\u001b[32m[I 2023-02-21 09:01:15,511]\u001b[0m Trial 79 finished with value: 0.8733333333333333 and parameters: {'n_estimators': 3, 'max_depth': 4, 'min_samples_split': 4, 'min_samples_leaf': 17, 'max_features': 0.13333436608642768}. Best is trial 75 with value: 0.76.\u001b[0m\n",
      "\u001b[32m[I 2023-02-21 09:01:15,887]\u001b[0m Trial 80 finished with value: 0.9533333333333334 and parameters: {'n_estimators': 39, 'max_depth': 4, 'min_samples_split': 2, 'min_samples_leaf': 16, 'max_features': 0.16517958923411807}. Best is trial 75 with value: 0.76.\u001b[0m\n",
      "\u001b[32m[I 2023-02-21 09:01:16,061]\u001b[0m Trial 81 finished with value: 0.8933333333333333 and parameters: {'n_estimators': 3, 'max_depth': 4, 'min_samples_split': 4, 'min_samples_leaf': 17, 'max_features': 0.11943562894480343}. Best is trial 75 with value: 0.76.\u001b[0m\n",
      "\u001b[32m[I 2023-02-21 09:01:16,485]\u001b[0m Trial 82 finished with value: 0.96 and parameters: {'n_estimators': 47, 'max_depth': 4, 'min_samples_split': 4, 'min_samples_leaf': 18, 'max_features': 0.1932711285408551}. Best is trial 75 with value: 0.76.\u001b[0m\n",
      "\u001b[32m[I 2023-02-21 09:01:16,675]\u001b[0m Trial 83 finished with value: 0.9333333333333333 and parameters: {'n_estimators': 7, 'max_depth': 3, 'min_samples_split': 3, 'min_samples_leaf': 17, 'max_features': 0.13453164675746668}. Best is trial 75 with value: 0.76.\u001b[0m\n",
      "\u001b[32m[I 2023-02-21 09:01:16,836]\u001b[0m Trial 84 finished with value: 0.7933333333333333 and parameters: {'n_estimators': 1, 'max_depth': 4, 'min_samples_split': 2, 'min_samples_leaf': 16, 'max_features': 0.17095668591078717}. Best is trial 75 with value: 0.76.\u001b[0m\n",
      "\u001b[32m[I 2023-02-21 09:01:16,994]\u001b[0m Trial 85 finished with value: 0.7533333333333333 and parameters: {'n_estimators': 1, 'max_depth': 2, 'min_samples_split': 2, 'min_samples_leaf': 16, 'max_features': 0.15898256123107543}. Best is trial 85 with value: 0.7533333333333333.\u001b[0m\n",
      "\u001b[32m[I 2023-02-21 09:01:17,177]\u001b[0m Trial 86 finished with value: 0.8666666666666668 and parameters: {'n_estimators': 6, 'max_depth': 2, 'min_samples_split': 2, 'min_samples_leaf': 13, 'max_features': 0.18604758133744753}. Best is trial 85 with value: 0.7533333333333333.\u001b[0m\n",
      "\u001b[32m[I 2023-02-21 09:01:17,367]\u001b[0m Trial 87 finished with value: 0.8 and parameters: {'n_estimators': 1, 'max_depth': 2, 'min_samples_split': 2, 'min_samples_leaf': 16, 'max_features': 0.16257432663229907}. Best is trial 85 with value: 0.7533333333333333.\u001b[0m\n",
      "\u001b[32m[I 2023-02-21 09:01:17,552]\u001b[0m Trial 88 finished with value: 0.6733333333333335 and parameters: {'n_estimators': 1, 'max_depth': 2, 'min_samples_split': 2, 'min_samples_leaf': 16, 'max_features': 0.1661884001107677}. Best is trial 88 with value: 0.6733333333333335.\u001b[0m\n",
      "\u001b[32m[I 2023-02-21 09:01:17,715]\u001b[0m Trial 89 finished with value: 0.7733333333333333 and parameters: {'n_estimators': 1, 'max_depth': 2, 'min_samples_split': 2, 'min_samples_leaf': 14, 'max_features': 0.22222172715817273}. Best is trial 88 with value: 0.6733333333333335.\u001b[0m\n",
      "\u001b[32m[I 2023-02-21 09:01:17,912]\u001b[0m Trial 90 finished with value: 0.9 and parameters: {'n_estimators': 8, 'max_depth': 2, 'min_samples_split': 2, 'min_samples_leaf': 14, 'max_features': 0.22474254405127797}. Best is trial 88 with value: 0.6733333333333335.\u001b[0m\n",
      "\u001b[32m[I 2023-02-21 09:01:18,092]\u001b[0m Trial 91 finished with value: 0.8466666666666667 and parameters: {'n_estimators': 1, 'max_depth': 2, 'min_samples_split': 2, 'min_samples_leaf': 15, 'max_features': 0.1646493601637948}. Best is trial 88 with value: 0.6733333333333335.\u001b[0m\n",
      "\u001b[32m[I 2023-02-21 09:01:18,261]\u001b[0m Trial 92 finished with value: 0.8866666666666667 and parameters: {'n_estimators': 3, 'max_depth': 2, 'min_samples_split': 2, 'min_samples_leaf': 16, 'max_features': 0.21269431614053425}. Best is trial 88 with value: 0.6733333333333335.\u001b[0m\n",
      "\u001b[32m[I 2023-02-21 09:01:18,416]\u001b[0m Trial 93 finished with value: 0.7933333333333333 and parameters: {'n_estimators': 1, 'max_depth': 2, 'min_samples_split': 2, 'min_samples_leaf': 13, 'max_features': 0.1691623550472131}. Best is trial 88 with value: 0.6733333333333335.\u001b[0m\n",
      "\u001b[32m[I 2023-02-21 09:01:18,638]\u001b[0m Trial 94 finished with value: 0.9133333333333333 and parameters: {'n_estimators': 11, 'max_depth': 2, 'min_samples_split': 2, 'min_samples_leaf': 10, 'max_features': 0.17448839252271814}. Best is trial 88 with value: 0.6733333333333335.\u001b[0m\n",
      "\u001b[32m[I 2023-02-21 09:01:18,830]\u001b[0m Trial 95 finished with value: 0.9400000000000001 and parameters: {'n_estimators': 7, 'max_depth': 2, 'min_samples_split': 18, 'min_samples_leaf': 14, 'max_features': 0.1274110137368473}. Best is trial 88 with value: 0.6733333333333335.\u001b[0m\n",
      "\u001b[32m[I 2023-02-21 09:01:18,993]\u001b[0m Trial 96 finished with value: 0.7866666666666667 and parameters: {'n_estimators': 1, 'max_depth': 2, 'min_samples_split': 3, 'min_samples_leaf': 12, 'max_features': 0.14621344449179086}. Best is trial 88 with value: 0.6733333333333335.\u001b[0m\n",
      "\u001b[32m[I 2023-02-21 09:01:19,515]\u001b[0m Trial 97 finished with value: 0.9533333333333334 and parameters: {'n_estimators': 64, 'max_depth': 2, 'min_samples_split': 3, 'min_samples_leaf': 11, 'max_features': 0.2530338396610587}. Best is trial 88 with value: 0.6733333333333335.\u001b[0m\n",
      "\u001b[32m[I 2023-02-21 09:01:19,730]\u001b[0m Trial 98 finished with value: 0.7866666666666667 and parameters: {'n_estimators': 1, 'max_depth': 2, 'min_samples_split': 3, 'min_samples_leaf': 12, 'max_features': 0.15201123616392578}. Best is trial 88 with value: 0.6733333333333335.\u001b[0m\n",
      "\u001b[32m[I 2023-02-21 09:01:19,934]\u001b[0m Trial 99 finished with value: 0.9200000000000002 and parameters: {'n_estimators': 6, 'max_depth': 2, 'min_samples_split': 3, 'min_samples_leaf': 13, 'max_features': 0.156568396379746}. Best is trial 88 with value: 0.6733333333333335.\u001b[0m\n"
     ]
    }
   ],
   "source": [
    "# 5. Run a hyperparameter search and log the results\n",
    "import optuna\n",
    "import mlflow\n",
    "from sklearn.ensemble import RandomForestClassifier\n",
    "from sklearn.model_selection import cross_val_score\n",
    "\n",
    "X, y = get_data()\n",
    "\n",
    "def optimize_rf(trial):\n",
    "    \n",
    "    with mlflow.start_run(run_name=f\"optuna-hp-{trial.number}-{datetime.datetime.now().strftime('%Y-%m-%d-%H-%M-%S')}\"):\n",
    "        # Set the hyperparameter values that we want to optimize\n",
    "        n_estimators = trial.suggest_int('n_estimators', 1, 100)\n",
    "        max_depth = trial.suggest_int('max_depth', 2, 10)\n",
    "        min_samples_split = trial.suggest_int('min_samples_split', 2, 20)\n",
    "        min_samples_leaf = trial.suggest_int('min_samples_leaf', 1, 20)\n",
    "        max_features = trial.suggest_float('max_features', 0.1, 1.0)\n",
    "        \n",
    "        \n",
    "        # Create a random forest classifier using the suggested hyperparameters\n",
    "        rf = RandomForestClassifier(n_estimators=n_estimators, max_depth=max_depth,\n",
    "                                    min_samples_split=min_samples_split,\n",
    "                                    min_samples_leaf=min_samples_leaf,\n",
    "                                    max_features=max_features)\n",
    "        \n",
    "        # Use cross-validation to evaluate the performance of the classifier\n",
    "        scores = cross_val_score(rf, X, y, cv=5)\n",
    "        \n",
    "        # Log the hyperparameters and cross-validation scores to MLflow\n",
    "        mlflow.log_param('n_estimators', n_estimators)\n",
    "        mlflow.log_param('max_depth', max_depth)\n",
    "        mlflow.log_param('min_samples_split', min_samples_split)\n",
    "        mlflow.log_param('min_samples_leaf', min_samples_leaf)\n",
    "        mlflow.log_param('max_features', max_features)\n",
    "        mlflow.log_metric('mean_cv_score', scores.mean())\n",
    "    \n",
    "    # Return the mean of the cross-validation scores as the objective value\n",
    "    return scores.mean()\n",
    "\n",
    "# Create an Optuna study\n",
    "study = optuna.create_study()\n",
    "\n",
    "# Run the optimization loop\n",
    "study.optimize(optimize_rf, n_trials=100)\n",
    "\n",
    "# Get the best hyperparameter values\n",
    "best_params = study.best_params"
   ]
  },
  {
   "cell_type": "code",
   "execution_count": 12,
   "metadata": {},
   "outputs": [
    {
     "name": "stderr",
     "output_type": "stream",
     "text": [
      "Successfully registered model 'random_forest_model'.\n",
      "2023/02/21 09:01:25 INFO mlflow.tracking._model_registry.client: Waiting up to 300 seconds for model version to finish creation.                     Model name: random_forest_model, version 1\n",
      "Created version '1' of model 'random_forest_model'.\n"
     ]
    }
   ],
   "source": [
    "# 6. Register a model version using the best hyperparameters\n",
    "\n",
    "with mlflow.start_run(run_name=f\"optuna-hp-final\"):\n",
    "    # Create the final model using the best hyperparameters\n",
    "    final_model = RandomForestClassifier(**best_params)\n",
    "\n",
    "    # Train the final model on the entire dataset\n",
    "    final_model.fit(X, y)\n",
    "\n",
    "    # Log the model to the \"Models\" section\n",
    "    mlflow.sklearn.log_model(final_model, \"random_forest_model\", registered_model_name=\"random_forest_model\")\n",
    "\n"
   ]
  },
  {
   "cell_type": "code",
   "execution_count": 29,
   "metadata": {},
   "outputs": [
    {
     "data": {
      "text/plain": [
       "array([2, 1, 0, 2, 2])"
      ]
     },
     "execution_count": 29,
     "metadata": {},
     "output_type": "execute_result"
    }
   ],
   "source": [
    "# 7. Retrieve a model version and use it for prediction\n",
    "\n",
    "import mlflow.pyfunc\n",
    "\n",
    "model_name = \"random_forest_model\"\n",
    "model_version = 2\n",
    "\n",
    "model = mlflow.pyfunc.load_model(\n",
    "    model_uri=f\"models:/{model_name}/{model_version}\"\n",
    ")\n",
    "\n",
    "model.predict(X[:5])"
   ]
  },
  {
   "cell_type": "code",
   "execution_count": 31,
   "metadata": {},
   "outputs": [
    {
     "name": "stdout",
     "output_type": "stream",
     "text": [
      "Usage: mlflow models [OPTIONS] COMMAND [ARGS]...\n",
      "Try 'mlflow models --help' for help.\n",
      "\n",
      "Error: No such command 'build'.\n"
     ]
    }
   ],
   "source": [
    "# EXTRA: Deploy the model to a REST API endpoint with mlflow models serve\n",
    "# Set up env variables\n",
    "# export $(grep -v '^#' .env | xargs)\n",
    "# export MLFLOW_TRACKING_URI=http://localhost:5000"
   ]
  },
  {
   "cell_type": "code",
   "execution_count": 35,
   "metadata": {},
   "outputs": [
    {
     "data": {
      "text/plain": [
       "array([[ 1.48722421,  1.02475923,  6.03974507, -1.72832624],\n",
       "       [ 1.66930138,  1.34532094, -0.22424842, -0.56881206],\n",
       "       [ 0.47854928, -1.15415362, -2.4204069 ,  1.76360495],\n",
       "       [ 0.19853164,  0.78233069,  2.16172363, -1.78084574],\n",
       "       [-0.13384718,  0.10490039,  2.89640135, -1.02639753]])"
      ]
     },
     "execution_count": 35,
     "metadata": {},
     "output_type": "execute_result"
    }
   ],
   "source": [
    "X[:5]"
   ]
  },
  {
   "cell_type": "code",
   "execution_count": 34,
   "metadata": {},
   "outputs": [],
   "source": [
    "# Using python_function backend\n",
    "# mlflow models serve --model-uri s3://mlflow/1/e18a1a1695e844258403040ae6e6cb4b/artifacts/random_forest_model --env-manager=local -p 5002\n",
    "# Try it out with curl\n",
    "\n",
    "# curl -d '{\"inputs\":[[ 1.48722421,  1.02475923,  6.03974507, -1.72832624]]}' -H 'Content-Type: application/json'  localhost:5002/invocations"
   ]
  },
  {
   "cell_type": "code",
   "execution_count": null,
   "metadata": {},
   "outputs": [],
   "source": [
    "# Using MLServer backend\n",
    "# mlflow models serve --model-uri s3://mlflow/1/e18a1a1695e844258403040ae6e6cb4b/artifacts/random_forest_model --env-manager=local -p 5002 --enable-mlserver\n",
    "# Try it out with curl\n",
    "\n",
    "# curl -d '{\"inputs\":[[ 1.48722421,  1.02475923,  6.03974507, -1.72832624]]}' -H 'Content-Type: application/json'  localhost:5002/invocations\n",
    "\n"
   ]
  },
  {
   "cell_type": "code",
   "execution_count": null,
   "metadata": {},
   "outputs": [],
   "source": [
    "# Undeploy mlflow docker compose\n",
    "# docker-compose down"
   ]
  }
 ],
 "metadata": {
  "kernelspec": {
   "display_name": "productionalization",
   "language": "python",
   "name": "python3"
  },
  "language_info": {
   "codemirror_mode": {
    "name": "ipython",
    "version": 3
   },
   "file_extension": ".py",
   "mimetype": "text/x-python",
   "name": "python",
   "nbconvert_exporter": "python",
   "pygments_lexer": "ipython3",
   "version": "3.9.16"
  },
  "orig_nbformat": 4,
  "vscode": {
   "interpreter": {
    "hash": "d802a3eaa227ea47ce81cc4286f7c810140ca0c866d44d39a8a36a29bb6fbcf7"
   }
  }
 },
 "nbformat": 4,
 "nbformat_minor": 2
}
