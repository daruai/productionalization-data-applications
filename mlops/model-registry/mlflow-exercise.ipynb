{
 "cells": [
  {
   "attachments": {},
   "cell_type": "markdown",
   "metadata": {},
   "source": [
    "<img src=\"datamecum_logo.png\" align=\"right\" style=\"float\" width=\"400\">\n",
    "<font color=\"#CA3532\"><h1 align=\"left\">Programa técnico intensivo en data science. Datamecum.</h1></font>\n",
    "<font color=\"#6E6E6E\"><h2 align=\"left\">Módulo Implementación de Sistemas Data-driven.</h2></font> \n",
    "<font color=\"#6E6E6E\"><h2 align=\"left\">Tarea 0. Usando MLFlow como model registry.</h2></font> \n",
    "\n",
    "#### Daniel Ruiz Riquelme"
   ]
  },
  {
   "attachments": {},
   "cell_type": "markdown",
   "metadata": {},
   "source": [
    "# Tasks:\n",
    "1. Install MLFlow\n",
    "2. Setup MLFlow Tracking Server\n",
    "3. Create a new experiment\n",
    "4. Log a model experiment result\n",
    "5. Run a hyperparameter search and log the results (OPTIONAL)\n",
    "6. Register a model version using the best hyperparameters (OPTIONAL - if you did the previous step)\n",
    "7. Retrieve a model version and use it for prediction"
   ]
  },
  {
   "cell_type": "code",
   "execution_count": 12,
   "metadata": {},
   "outputs": [],
   "source": [
    "# 1. Install MLFlow\n",
    "# !pip install mlflow[extras]\n",
    "# !pip freeze | grep mlflow"
   ]
  },
  {
   "cell_type": "code",
   "execution_count": 13,
   "metadata": {},
   "outputs": [],
   "source": [
    "# 2. Setup MLFlow Tracking Server\n",
    "# Run the following command in a terminal to start the MLFlow Tracking Server\n",
    "# Configure mlflow to store all in a local directory\n",
    "# !mlflow server --backend-store-uri ./mlruns --default-artifact-root ./mlruns"
   ]
  },
  {
   "cell_type": "code",
   "execution_count": 24,
   "metadata": {},
   "outputs": [
    {
     "data": {
      "text/plain": [
       "<Experiment: artifact_location='s3://mlflow/1', creation_time=1672164435455, experiment_id='1', last_update_time=1672164435455, lifecycle_stage='active', name='mlflow-tutorial', tags={}>"
      ]
     },
     "execution_count": 24,
     "metadata": {},
     "output_type": "execute_result"
    }
   ],
   "source": [
    "# 3. Create a new experiment\n",
    "# This is a local tracking server. You can also use a remote tracking server. See https://mlflow.org/docs/latest/tracking.html for more details.\n",
    "# Remote tracking server will be simulated later\n",
    "\n",
    "# Uncomment if using the docker compose setup:\n",
    "# import os\n",
    "# os.environ[\"AWS_ACCESS_KEY_ID\"] = \"minio\"\n",
    "# os.environ[\"AWS_SECRET_ACCESS_KEY\"] = \"minio123\"\n",
    "# os.environ[\"MLFLOW_S3_ENDPOINT_URL\"] = f\"http://localhost:9000\"\n",
    "# os.environ[\"MYSQL_DATABASE\"] = \"mlflow_database\"\n",
    "# os.environ[\"MYSQL_USER\"] = \"mlflow_user\"\n",
    "# os.environ[\"MYSQL_PASSWORD\"] = \"mlflow\"\n",
    "# os.environ[\"MYSQL_ROOT_PASSWORD\"] = \"mysql\"\n",
    "\n",
    "\n",
    "\n",
    "import mlflow\n",
    "mlflow.set_tracking_uri(\"http://localhost:5000\")\n",
    "mlflow.set_experiment(\"mlflow-tutorial\")"
   ]
  },
  {
   "cell_type": "code",
   "execution_count": 25,
   "metadata": {},
   "outputs": [],
   "source": [
    "# 4. Log a model experiment result\n",
    "\n",
    "# Lets first create a simple function to train a model\n",
    "# The function will receive a set of hyperparameters and return the model and the accuracy\n",
    "import datetime\n",
    "\n",
    "def get_data():\n",
    "    from sklearn import datasets\n",
    "\n",
    "    X, y = datasets.make_classification(n_samples=1000, n_features=4, n_informative=4, n_redundant=0, n_classes=3, n_clusters_per_class=1, class_sep=0.5, random_state=40)\n",
    "    return X, y\n",
    "\n",
    "def train_model(hyperparameters):\n",
    "    from sklearn.ensemble import RandomForestClassifier\n",
    "    from sklearn.metrics import accuracy_score\n",
    "    from sklearn.model_selection import train_test_split\n",
    "    import mlflow.sklearn\n",
    "    X, y = get_data()\n",
    "    X_train, X_test, y_train, y_test = train_test_split(X, y, test_size=0.2, random_state=40)\n",
    "    model = RandomForestClassifier(**hyperparameters)\n",
    "    model.fit(X_train, y_train)\n",
    "    y_pred = model.predict(X_test)\n",
    "    accuracy = accuracy_score(y_pred, y_test)\n",
    "    return model, accuracy\n",
    "\n",
    "# Now lets train a model with some hyperparameters\n",
    "hyperparameters = {\"n_estimators\": 10, \"max_depth\": 5}\n",
    "model, accuracy = train_model(hyperparameters)\n",
    "\n",
    "# Now lets log the model and the accuracy\n",
    "date = datetime.datetime.now().strftime(\"%Y-%m-%d-%H-%M-%S\")\n",
    "with mlflow.start_run(run_name=f\"mlflow-tutorial-{date}\"):\n",
    "    \n",
    "    # Hyperparameters are logged as parameters\n",
    "    for hyperparameter, value in hyperparameters.items():\n",
    "        mlflow.log_param(hyperparameter, value)\n",
    "    \n",
    "    # Accuracy is logged as a metric \n",
    "    mlflow.log_metric(\"accuracy\", accuracy)\n",
    "    \n",
    "    # Model is logged as an artifact\n",
    "    mlflow.sklearn.log_model(model, \"model\")"
   ]
  },
  {
   "cell_type": "code",
   "execution_count": 26,
   "metadata": {},
   "outputs": [
    {
     "name": "stderr",
     "output_type": "stream",
     "text": [
      "/home/daniel/anaconda3/envs/productionalization/lib/python3.10/site-packages/tqdm/auto.py:22: TqdmWarning: IProgress not found. Please update jupyter and ipywidgets. See https://ipywidgets.readthedocs.io/en/stable/user_install.html\n",
      "  from .autonotebook import tqdm as notebook_tqdm\n",
      "\u001b[32m[I 2022-12-27 19:17:41,554]\u001b[0m A new study created in memory with name: no-name-f352d7a9-e59b-47a4-af3d-878b47c56ede\u001b[0m\n",
      "\u001b[32m[I 2022-12-27 19:17:44,377]\u001b[0m Trial 0 finished with value: 0.7030000000000001 and parameters: {'n_estimators': 99, 'max_depth': 2, 'min_samples_split': 12, 'min_samples_leaf': 12, 'max_features': 0.9175075767031363}. Best is trial 0 with value: 0.7030000000000001.\u001b[0m\n",
      "\u001b[32m[I 2022-12-27 19:17:46,772]\u001b[0m Trial 1 finished with value: 0.7989999999999999 and parameters: {'n_estimators': 59, 'max_depth': 5, 'min_samples_split': 9, 'min_samples_leaf': 20, 'max_features': 0.789342314961703}. Best is trial 0 with value: 0.7030000000000001.\u001b[0m\n",
      "\u001b[32m[I 2022-12-27 19:17:48,795]\u001b[0m Trial 2 finished with value: 0.8160000000000001 and parameters: {'n_estimators': 71, 'max_depth': 8, 'min_samples_split': 9, 'min_samples_leaf': 12, 'max_features': 0.20821254130743697}. Best is trial 0 with value: 0.7030000000000001.\u001b[0m\n",
      "\u001b[32m[I 2022-12-27 19:17:50,958]\u001b[0m Trial 3 finished with value: 0.8299999999999998 and parameters: {'n_estimators': 73, 'max_depth': 10, 'min_samples_split': 16, 'min_samples_leaf': 5, 'max_features': 0.3964809847869587}. Best is trial 0 with value: 0.7030000000000001.\u001b[0m\n",
      "\u001b[32m[I 2022-12-27 19:17:51,594]\u001b[0m Trial 4 finished with value: 0.761 and parameters: {'n_estimators': 2, 'max_depth': 8, 'min_samples_split': 6, 'min_samples_leaf': 12, 'max_features': 0.5298204338527374}. Best is trial 0 with value: 0.7030000000000001.\u001b[0m\n",
      "\u001b[32m[I 2022-12-27 19:17:52,296]\u001b[0m Trial 5 finished with value: 0.782 and parameters: {'n_estimators': 14, 'max_depth': 4, 'min_samples_split': 2, 'min_samples_leaf': 7, 'max_features': 0.16788136960853164}. Best is trial 0 with value: 0.7030000000000001.\u001b[0m\n",
      "\u001b[32m[I 2022-12-27 19:17:53,662]\u001b[0m Trial 6 finished with value: 0.8229999999999998 and parameters: {'n_estimators': 51, 'max_depth': 10, 'min_samples_split': 13, 'min_samples_leaf': 13, 'max_features': 0.665381670783354}. Best is trial 0 with value: 0.7030000000000001.\u001b[0m\n",
      "\u001b[32m[I 2022-12-27 19:17:54,591]\u001b[0m Trial 7 finished with value: 0.8210000000000001 and parameters: {'n_estimators': 33, 'max_depth': 5, 'min_samples_split': 12, 'min_samples_leaf': 1, 'max_features': 0.23672024107276246}. Best is trial 0 with value: 0.7030000000000001.\u001b[0m\n",
      "\u001b[32m[I 2022-12-27 19:17:56,076]\u001b[0m Trial 8 finished with value: 0.8020000000000002 and parameters: {'n_estimators': 65, 'max_depth': 10, 'min_samples_split': 8, 'min_samples_leaf': 20, 'max_features': 0.357834099318894}. Best is trial 0 with value: 0.7030000000000001.\u001b[0m\n",
      "\u001b[32m[I 2022-12-27 19:17:57,976]\u001b[0m Trial 9 finished with value: 0.78 and parameters: {'n_estimators': 85, 'max_depth': 4, 'min_samples_split': 6, 'min_samples_leaf': 19, 'max_features': 0.11302227968864503}. Best is trial 0 with value: 0.7030000000000001.\u001b[0m\n",
      "\u001b[32m[I 2022-12-27 19:18:00,309]\u001b[0m Trial 10 finished with value: 0.708 and parameters: {'n_estimators': 99, 'max_depth': 2, 'min_samples_split': 19, 'min_samples_leaf': 16, 'max_features': 0.9979579053903886}. Best is trial 0 with value: 0.7030000000000001.\u001b[0m\n",
      "\u001b[32m[I 2022-12-27 19:18:02,708]\u001b[0m Trial 11 finished with value: 0.705 and parameters: {'n_estimators': 100, 'max_depth': 2, 'min_samples_split': 19, 'min_samples_leaf': 16, 'max_features': 0.9931980459169752}. Best is trial 0 with value: 0.7030000000000001.\u001b[0m\n",
      "\u001b[32m[I 2022-12-27 19:18:05,127]\u001b[0m Trial 12 finished with value: 0.713 and parameters: {'n_estimators': 100, 'max_depth': 2, 'min_samples_split': 20, 'min_samples_leaf': 15, 'max_features': 0.9962802284986846}. Best is trial 0 with value: 0.7030000000000001.\u001b[0m\n",
      "\u001b[32m[I 2022-12-27 19:18:07,341]\u001b[0m Trial 13 finished with value: 0.762 and parameters: {'n_estimators': 82, 'max_depth': 3, 'min_samples_split': 16, 'min_samples_leaf': 9, 'max_features': 0.8418224091481951}. Best is trial 0 with value: 0.7030000000000001.\u001b[0m\n",
      "\u001b[32m[I 2022-12-27 19:18:09,937]\u001b[0m Trial 14 finished with value: 0.71 and parameters: {'n_estimators': 89, 'max_depth': 2, 'min_samples_split': 16, 'min_samples_leaf': 17, 'max_features': 0.8528706334033351}. Best is trial 0 with value: 0.7030000000000001.\u001b[0m\n",
      "\u001b[32m[I 2022-12-27 19:18:11,968]\u001b[0m Trial 15 finished with value: 0.82 and parameters: {'n_estimators': 27, 'max_depth': 7, 'min_samples_split': 14, 'min_samples_leaf': 9, 'max_features': 0.6889983742815917}. Best is trial 0 with value: 0.7030000000000001.\u001b[0m\n",
      "\u001b[32m[I 2022-12-27 19:18:13,803]\u001b[0m Trial 16 finished with value: 0.748 and parameters: {'n_estimators': 43, 'max_depth': 3, 'min_samples_split': 19, 'min_samples_leaf': 14, 'max_features': 0.926026345878191}. Best is trial 0 with value: 0.7030000000000001.\u001b[0m\n",
      "\u001b[32m[I 2022-12-27 19:18:17,659]\u001b[0m Trial 17 finished with value: 0.767 and parameters: {'n_estimators': 91, 'max_depth': 3, 'min_samples_split': 11, 'min_samples_leaf': 10, 'max_features': 0.7111158241516853}. Best is trial 0 with value: 0.7030000000000001.\u001b[0m\n",
      "\u001b[32m[I 2022-12-27 19:18:20,329]\u001b[0m Trial 18 finished with value: 0.8089999999999999 and parameters: {'n_estimators': 76, 'max_depth': 6, 'min_samples_split': 2, 'min_samples_leaf': 17, 'max_features': 0.5007446837874733}. Best is trial 0 with value: 0.7030000000000001.\u001b[0m\n",
      "\u001b[32m[I 2022-12-27 19:18:23,457]\u001b[0m Trial 19 finished with value: 0.8089999999999999 and parameters: {'n_estimators': 100, 'max_depth': 4, 'min_samples_split': 17, 'min_samples_leaf': 6, 'max_features': 0.9139874020482089}. Best is trial 0 with value: 0.7030000000000001.\u001b[0m\n",
      "\u001b[32m[I 2022-12-27 19:18:25,092]\u001b[0m Trial 20 finished with value: 0.714 and parameters: {'n_estimators': 59, 'max_depth': 2, 'min_samples_split': 14, 'min_samples_leaf': 11, 'max_features': 0.6169303088432656}. Best is trial 0 with value: 0.7030000000000001.\u001b[0m\n",
      "\u001b[32m[I 2022-12-27 19:18:27,732]\u001b[0m Trial 21 finished with value: 0.6950000000000001 and parameters: {'n_estimators': 96, 'max_depth': 2, 'min_samples_split': 18, 'min_samples_leaf': 16, 'max_features': 0.9833587514385431}. Best is trial 21 with value: 0.6950000000000001.\u001b[0m\n",
      "\u001b[32m[I 2022-12-27 19:18:30,103]\u001b[0m Trial 22 finished with value: 0.757 and parameters: {'n_estimators': 90, 'max_depth': 3, 'min_samples_split': 18, 'min_samples_leaf': 18, 'max_features': 0.7730053614680111}. Best is trial 21 with value: 0.6950000000000001.\u001b[0m\n",
      "\u001b[32m[I 2022-12-27 19:18:32,016]\u001b[0m Trial 23 finished with value: 0.708 and parameters: {'n_estimators': 83, 'max_depth': 2, 'min_samples_split': 20, 'min_samples_leaf': 15, 'max_features': 0.9496873857936527}. Best is trial 21 with value: 0.6950000000000001.\u001b[0m\n",
      "\u001b[32m[I 2022-12-27 19:18:34,892]\u001b[0m Trial 24 finished with value: 0.766 and parameters: {'n_estimators': 95, 'max_depth': 3, 'min_samples_split': 15, 'min_samples_leaf': 14, 'max_features': 0.8661851799245136}. Best is trial 21 with value: 0.6950000000000001.\u001b[0m\n",
      "\u001b[32m[I 2022-12-27 19:18:37,397]\u001b[0m Trial 25 finished with value: 0.8099999999999999 and parameters: {'n_estimators': 79, 'max_depth': 5, 'min_samples_split': 18, 'min_samples_leaf': 16, 'max_features': 0.7641838131644398}. Best is trial 21 with value: 0.6950000000000001.\u001b[0m\n",
      "\u001b[32m[I 2022-12-27 19:18:40,037]\u001b[0m Trial 26 finished with value: 0.797 and parameters: {'n_estimators': 92, 'max_depth': 4, 'min_samples_split': 11, 'min_samples_leaf': 18, 'max_features': 0.9002860628111793}. Best is trial 21 with value: 0.6950000000000001.\u001b[0m\n",
      "\u001b[32m[I 2022-12-27 19:18:41,690]\u001b[0m Trial 27 finished with value: 0.7 and parameters: {'n_estimators': 68, 'max_depth': 2, 'min_samples_split': 18, 'min_samples_leaf': 13, 'max_features': 0.9777684010926277}. Best is trial 21 with value: 0.6950000000000001.\u001b[0m\n",
      "\u001b[32m[I 2022-12-27 19:18:43,873]\u001b[0m Trial 28 finished with value: 0.767 and parameters: {'n_estimators': 66, 'max_depth': 3, 'min_samples_split': 13, 'min_samples_leaf': 13, 'max_features': 0.6018862700889267}. Best is trial 21 with value: 0.6950000000000001.\u001b[0m\n",
      "\u001b[32m[I 2022-12-27 19:18:45,856]\u001b[0m Trial 29 finished with value: 0.813 and parameters: {'n_estimators': 54, 'max_depth': 5, 'min_samples_split': 9, 'min_samples_leaf': 11, 'max_features': 0.8037625355795561}. Best is trial 21 with value: 0.6950000000000001.\u001b[0m\n",
      "\u001b[32m[I 2022-12-27 19:18:47,623]\u001b[0m Trial 30 finished with value: 0.829 and parameters: {'n_estimators': 40, 'max_depth': 6, 'min_samples_split': 17, 'min_samples_leaf': 8, 'max_features': 0.8111423950588936}. Best is trial 21 with value: 0.6950000000000001.\u001b[0m\n",
      "\u001b[32m[I 2022-12-27 19:18:51,400]\u001b[0m Trial 31 finished with value: 0.6970000000000001 and parameters: {'n_estimators': 86, 'max_depth': 2, 'min_samples_split': 18, 'min_samples_leaf': 14, 'max_features': 0.9662782357895692}. Best is trial 21 with value: 0.6950000000000001.\u001b[0m\n",
      "\u001b[32m[I 2022-12-27 19:18:54,769]\u001b[0m Trial 32 finished with value: 0.718 and parameters: {'n_estimators': 68, 'max_depth': 2, 'min_samples_split': 17, 'min_samples_leaf': 13, 'max_features': 0.9329172136630134}. Best is trial 21 with value: 0.6950000000000001.\u001b[0m\n",
      "\u001b[32m[I 2022-12-27 19:18:56,899]\u001b[0m Trial 33 finished with value: 0.773 and parameters: {'n_estimators': 75, 'max_depth': 3, 'min_samples_split': 15, 'min_samples_leaf': 12, 'max_features': 0.8813042028714009}. Best is trial 21 with value: 0.6950000000000001.\u001b[0m\n",
      "\u001b[32m[I 2022-12-27 19:18:59,670]\u001b[0m Trial 34 finished with value: 0.7030000000000001 and parameters: {'n_estimators': 86, 'max_depth': 2, 'min_samples_split': 18, 'min_samples_leaf': 14, 'max_features': 0.9428534426628739}. Best is trial 21 with value: 0.6950000000000001.\u001b[0m\n",
      "\u001b[32m[I 2022-12-27 19:19:01,984]\u001b[0m Trial 35 finished with value: 0.8210000000000001 and parameters: {'n_estimators': 72, 'max_depth': 9, 'min_samples_split': 20, 'min_samples_leaf': 12, 'max_features': 0.7485714194167916}. Best is trial 21 with value: 0.6950000000000001.\u001b[0m\n",
      "\u001b[32m[I 2022-12-27 19:19:04,107]\u001b[0m Trial 36 finished with value: 0.8130000000000001 and parameters: {'n_estimators': 60, 'max_depth': 4, 'min_samples_split': 10, 'min_samples_leaf': 10, 'max_features': 0.962974745802247}. Best is trial 21 with value: 0.6950000000000001.\u001b[0m\n",
      "\u001b[32m[I 2022-12-27 19:19:07,445]\u001b[0m Trial 37 finished with value: 0.774 and parameters: {'n_estimators': 94, 'max_depth': 3, 'min_samples_split': 4, 'min_samples_leaf': 2, 'max_features': 0.8340677750943581}. Best is trial 21 with value: 0.6950000000000001.\u001b[0m\n",
      "\u001b[32m[I 2022-12-27 19:19:09,710]\u001b[0m Trial 38 finished with value: 0.797 and parameters: {'n_estimators': 79, 'max_depth': 4, 'min_samples_split': 7, 'min_samples_leaf': 15, 'max_features': 0.3299230224614072}. Best is trial 21 with value: 0.6950000000000001.\u001b[0m\n",
      "\u001b[32m[I 2022-12-27 19:19:11,840]\u001b[0m Trial 39 finished with value: 0.714 and parameters: {'n_estimators': 87, 'max_depth': 2, 'min_samples_split': 15, 'min_samples_leaf': 13, 'max_features': 0.4702698600275109}. Best is trial 21 with value: 0.6950000000000001.\u001b[0m\n",
      "\u001b[32m[I 2022-12-27 19:19:18,063]\u001b[0m Trial 40 finished with value: 0.8310000000000001 and parameters: {'n_estimators': 96, 'max_depth': 7, 'min_samples_split': 13, 'min_samples_leaf': 4, 'max_features': 0.8820688808238974}. Best is trial 21 with value: 0.6950000000000001.\u001b[0m\n",
      "\u001b[32m[I 2022-12-27 19:19:21,311]\u001b[0m Trial 41 finished with value: 0.6960000000000001 and parameters: {'n_estimators': 85, 'max_depth': 2, 'min_samples_split': 18, 'min_samples_leaf': 14, 'max_features': 0.9579239750569145}. Best is trial 21 with value: 0.6950000000000001.\u001b[0m\n",
      "\u001b[32m[I 2022-12-27 19:19:24,713]\u001b[0m Trial 42 finished with value: 0.709 and parameters: {'n_estimators': 83, 'max_depth': 2, 'min_samples_split': 18, 'min_samples_leaf': 14, 'max_features': 0.957155275069391}. Best is trial 21 with value: 0.6950000000000001.\u001b[0m\n",
      "\u001b[32m[I 2022-12-27 19:19:27,403]\u001b[0m Trial 43 finished with value: 0.704 and parameters: {'n_estimators': 79, 'max_depth': 2, 'min_samples_split': 18, 'min_samples_leaf': 14, 'max_features': 0.9597053930112555}. Best is trial 21 with value: 0.6950000000000001.\u001b[0m\n",
      "\u001b[32m[I 2022-12-27 19:19:31,051]\u001b[0m Trial 44 finished with value: 0.7070000000000001 and parameters: {'n_estimators': 86, 'max_depth': 2, 'min_samples_split': 16, 'min_samples_leaf': 17, 'max_features': 0.9939005443877396}. Best is trial 21 with value: 0.6950000000000001.\u001b[0m\n",
      "\u001b[32m[I 2022-12-27 19:19:34,814]\u001b[0m Trial 45 finished with value: 0.753 and parameters: {'n_estimators': 96, 'max_depth': 3, 'min_samples_split': 19, 'min_samples_leaf': 12, 'max_features': 0.8828517349666826}. Best is trial 21 with value: 0.6950000000000001.\u001b[0m\n",
      "\u001b[32m[I 2022-12-27 19:19:37,616]\u001b[0m Trial 46 finished with value: 0.704 and parameters: {'n_estimators': 71, 'max_depth': 2, 'min_samples_split': 17, 'min_samples_leaf': 15, 'max_features': 0.9132497165711994}. Best is trial 21 with value: 0.6950000000000001.\u001b[0m\n",
      "\u001b[32m[I 2022-12-27 19:19:41,884]\u001b[0m Trial 47 finished with value: 0.767 and parameters: {'n_estimators': 63, 'max_depth': 3, 'min_samples_split': 20, 'min_samples_leaf': 20, 'max_features': 0.9941632624853083}. Best is trial 21 with value: 0.6950000000000001.\u001b[0m\n",
      "\u001b[32m[I 2022-12-27 19:19:43,818]\u001b[0m Trial 48 finished with value: 0.797 and parameters: {'n_estimators': 19, 'max_depth': 4, 'min_samples_split': 16, 'min_samples_leaf': 16, 'max_features': 0.818424380349428}. Best is trial 21 with value: 0.6950000000000001.\u001b[0m\n",
      "\u001b[32m[I 2022-12-27 19:19:47,333]\u001b[0m Trial 49 finished with value: 0.721 and parameters: {'n_estimators': 90, 'max_depth': 2, 'min_samples_split': 19, 'min_samples_leaf': 11, 'max_features': 0.7367284727041631}. Best is trial 21 with value: 0.6950000000000001.\u001b[0m\n",
      "\u001b[32m[I 2022-12-27 19:19:51,129]\u001b[0m Trial 50 finished with value: 0.7649999999999999 and parameters: {'n_estimators': 95, 'max_depth': 3, 'min_samples_split': 14, 'min_samples_leaf': 13, 'max_features': 0.8408792907331216}. Best is trial 21 with value: 0.6950000000000001.\u001b[0m\n",
      "\u001b[32m[I 2022-12-27 19:19:55,718]\u001b[0m Trial 51 finished with value: 0.705 and parameters: {'n_estimators': 86, 'max_depth': 2, 'min_samples_split': 18, 'min_samples_leaf': 14, 'max_features': 0.9358501743048375}. Best is trial 21 with value: 0.6950000000000001.\u001b[0m\n",
      "\u001b[32m[I 2022-12-27 19:19:57,318]\u001b[0m Trial 52 finished with value: 0.706 and parameters: {'n_estimators': 81, 'max_depth': 2, 'min_samples_split': 17, 'min_samples_leaf': 12, 'max_features': 0.971076441977002}. Best is trial 21 with value: 0.6950000000000001.\u001b[0m\n",
      "\u001b[32m[I 2022-12-27 19:19:58,826]\u001b[0m Trial 53 finished with value: 0.7050000000000001 and parameters: {'n_estimators': 75, 'max_depth': 2, 'min_samples_split': 19, 'min_samples_leaf': 15, 'max_features': 0.9117422814490941}. Best is trial 21 with value: 0.6950000000000001.\u001b[0m\n",
      "\u001b[32m[I 2022-12-27 19:19:59,220]\u001b[0m Trial 54 finished with value: 0.768 and parameters: {'n_estimators': 6, 'max_depth': 3, 'min_samples_split': 16, 'min_samples_leaf': 16, 'max_features': 0.9370062000215608}. Best is trial 21 with value: 0.6950000000000001.\u001b[0m\n",
      "\u001b[32m[I 2022-12-27 19:20:00,991]\u001b[0m Trial 55 finished with value: 0.719 and parameters: {'n_estimators': 100, 'max_depth': 2, 'min_samples_split': 12, 'min_samples_leaf': 18, 'max_features': 0.8588871489372929}. Best is trial 21 with value: 0.6950000000000001.\u001b[0m\n",
      "\u001b[32m[I 2022-12-27 19:20:02,991]\u001b[0m Trial 56 finished with value: 0.759 and parameters: {'n_estimators': 89, 'max_depth': 3, 'min_samples_split': 20, 'min_samples_leaf': 9, 'max_features': 0.9758238011256846}. Best is trial 21 with value: 0.6950000000000001.\u001b[0m\n",
      "\u001b[32m[I 2022-12-27 19:20:04,639]\u001b[0m Trial 57 finished with value: 0.71 and parameters: {'n_estimators': 92, 'max_depth': 2, 'min_samples_split': 18, 'min_samples_leaf': 14, 'max_features': 0.9035884012661973}. Best is trial 21 with value: 0.6950000000000001.\u001b[0m\n",
      "\u001b[32m[I 2022-12-27 19:20:05,938]\u001b[0m Trial 58 finished with value: 0.819 and parameters: {'n_estimators': 69, 'max_depth': 9, 'min_samples_split': 19, 'min_samples_leaf': 13, 'max_features': 0.27720762001655297}. Best is trial 21 with value: 0.6950000000000001.\u001b[0m\n",
      "\u001b[32m[I 2022-12-27 19:20:07,401]\u001b[0m Trial 59 finished with value: 0.734 and parameters: {'n_estimators': 84, 'max_depth': 2, 'min_samples_split': 17, 'min_samples_leaf': 19, 'max_features': 0.42535156408554786}. Best is trial 21 with value: 0.6950000000000001.\u001b[0m\n",
      "\u001b[32m[I 2022-12-27 19:20:08,825]\u001b[0m Trial 60 finished with value: 0.7529999999999999 and parameters: {'n_estimators': 54, 'max_depth': 3, 'min_samples_split': 15, 'min_samples_leaf': 15, 'max_features': 0.7900754832510635}. Best is trial 21 with value: 0.6950000000000001.\u001b[0m\n",
      "\u001b[32m[I 2022-12-27 19:20:10,825]\u001b[0m Trial 61 finished with value: 0.7040000000000001 and parameters: {'n_estimators': 73, 'max_depth': 2, 'min_samples_split': 17, 'min_samples_leaf': 17, 'max_features': 0.9162856486944819}. Best is trial 21 with value: 0.6950000000000001.\u001b[0m\n",
      "\u001b[32m[I 2022-12-27 19:20:13,438]\u001b[0m Trial 62 finished with value: 0.71 and parameters: {'n_estimators': 97, 'max_depth': 2, 'min_samples_split': 18, 'min_samples_leaf': 16, 'max_features': 0.9427675879300342}. Best is trial 21 with value: 0.6950000000000001.\u001b[0m\n",
      "\u001b[32m[I 2022-12-27 19:20:14,690]\u001b[0m Trial 63 finished with value: 0.708 and parameters: {'n_estimators': 47, 'max_depth': 2, 'min_samples_split': 17, 'min_samples_leaf': 15, 'max_features': 0.8950054157614915}. Best is trial 21 with value: 0.6950000000000001.\u001b[0m\n",
      "\u001b[32m[I 2022-12-27 19:20:16,494]\u001b[0m Trial 64 finished with value: 0.768 and parameters: {'n_estimators': 77, 'max_depth': 3, 'min_samples_split': 19, 'min_samples_leaf': 12, 'max_features': 0.9980539271255205}. Best is trial 21 with value: 0.6950000000000001.\u001b[0m\n",
      "\u001b[32m[I 2022-12-27 19:20:18,708]\u001b[0m Trial 65 finished with value: 0.699 and parameters: {'n_estimators': 92, 'max_depth': 2, 'min_samples_split': 18, 'min_samples_leaf': 14, 'max_features': 0.8656313224732172}. Best is trial 21 with value: 0.6950000000000001.\u001b[0m\n",
      "\u001b[32m[I 2022-12-27 19:20:20,664]\u001b[0m Trial 66 finished with value: 0.76 and parameters: {'n_estimators': 92, 'max_depth': 3, 'min_samples_split': 5, 'min_samples_leaf': 14, 'max_features': 0.8614353172027076}. Best is trial 21 with value: 0.6950000000000001.\u001b[0m\n",
      "\u001b[32m[I 2022-12-27 19:20:22,334]\u001b[0m Trial 67 finished with value: 0.829 and parameters: {'n_estimators': 89, 'max_depth': 7, 'min_samples_split': 16, 'min_samples_leaf': 11, 'max_features': 0.14233824224012182}. Best is trial 21 with value: 0.6950000000000001.\u001b[0m\n",
      "\u001b[32m[I 2022-12-27 19:20:23,892]\u001b[0m Trial 68 finished with value: 0.729 and parameters: {'n_estimators': 87, 'max_depth': 2, 'min_samples_split': 20, 'min_samples_leaf': 13, 'max_features': 0.6342680054725062}. Best is trial 21 with value: 0.6950000000000001.\u001b[0m\n",
      "\u001b[32m[I 2022-12-27 19:20:25,721]\u001b[0m Trial 69 finished with value: 0.8099999999999999 and parameters: {'n_estimators': 98, 'max_depth': 4, 'min_samples_split': 18, 'min_samples_leaf': 10, 'max_features': 0.9677511787275429}. Best is trial 21 with value: 0.6950000000000001.\u001b[0m\n",
      "\u001b[32m[I 2022-12-27 19:20:27,053]\u001b[0m Trial 70 finished with value: 0.7270000000000001 and parameters: {'n_estimators': 81, 'max_depth': 2, 'min_samples_split': 8, 'min_samples_leaf': 14, 'max_features': 0.5442396069115907}. Best is trial 21 with value: 0.6950000000000001.\u001b[0m\n",
      "\u001b[32m[I 2022-12-27 19:20:28,670]\u001b[0m Trial 71 finished with value: 0.709 and parameters: {'n_estimators': 79, 'max_depth': 2, 'min_samples_split': 18, 'min_samples_leaf': 13, 'max_features': 0.952022243758504}. Best is trial 21 with value: 0.6950000000000001.\u001b[0m\n",
      "\u001b[32m[I 2022-12-27 19:20:30,343]\u001b[0m Trial 72 finished with value: 0.764 and parameters: {'n_estimators': 92, 'max_depth': 3, 'min_samples_split': 17, 'min_samples_leaf': 15, 'max_features': 0.9188445538363594}. Best is trial 21 with value: 0.6950000000000001.\u001b[0m\n",
      "\u001b[32m[I 2022-12-27 19:20:31,783]\u001b[0m Trial 73 finished with value: 0.707 and parameters: {'n_estimators': 84, 'max_depth': 2, 'min_samples_split': 19, 'min_samples_leaf': 14, 'max_features': 0.977039572115073}. Best is trial 21 with value: 0.6950000000000001.\u001b[0m\n",
      "\u001b[32m[I 2022-12-27 19:20:33,261]\u001b[0m Trial 74 finished with value: 0.706 and parameters: {'n_estimators': 70, 'max_depth': 2, 'min_samples_split': 17, 'min_samples_leaf': 17, 'max_features': 0.8704785187712147}. Best is trial 21 with value: 0.6950000000000001.\u001b[0m\n",
      "\u001b[32m[I 2022-12-27 19:20:34,562]\u001b[0m Trial 75 finished with value: 0.694 and parameters: {'n_estimators': 62, 'max_depth': 2, 'min_samples_split': 15, 'min_samples_leaf': 16, 'max_features': 0.8345041358263879}. Best is trial 75 with value: 0.694.\u001b[0m\n",
      "\u001b[32m[I 2022-12-27 19:20:35,836]\u001b[0m Trial 76 finished with value: 0.7689999999999999 and parameters: {'n_estimators': 63, 'max_depth': 3, 'min_samples_split': 12, 'min_samples_leaf': 16, 'max_features': 0.8299874914842446}. Best is trial 75 with value: 0.694.\u001b[0m\n",
      "\u001b[32m[I 2022-12-27 19:20:37,374]\u001b[0m Trial 77 finished with value: 0.726 and parameters: {'n_estimators': 94, 'max_depth': 2, 'min_samples_split': 15, 'min_samples_leaf': 12, 'max_features': 0.7036225896715587}. Best is trial 75 with value: 0.694.\u001b[0m\n",
      "\u001b[32m[I 2022-12-27 19:20:38,364]\u001b[0m Trial 78 finished with value: 0.709 and parameters: {'n_estimators': 51, 'max_depth': 2, 'min_samples_split': 13, 'min_samples_leaf': 18, 'max_features': 0.8874237960324922}. Best is trial 75 with value: 0.694.\u001b[0m\n",
      "\u001b[32m[I 2022-12-27 19:20:39,151]\u001b[0m Trial 79 finished with value: 0.76 and parameters: {'n_estimators': 32, 'max_depth': 3, 'min_samples_split': 10, 'min_samples_leaf': 17, 'max_features': 0.7911247902319885}. Best is trial 75 with value: 0.694.\u001b[0m\n",
      "\u001b[32m[I 2022-12-27 19:20:40,985]\u001b[0m Trial 80 finished with value: 0.8109999999999999 and parameters: {'n_estimators': 98, 'max_depth': 6, 'min_samples_split': 20, 'min_samples_leaf': 16, 'max_features': 0.9361439273374152}. Best is trial 75 with value: 0.694.\u001b[0m\n",
      "\u001b[32m[I 2022-12-27 19:20:42,166]\u001b[0m Trial 81 finished with value: 0.703 and parameters: {'n_estimators': 60, 'max_depth': 2, 'min_samples_split': 16, 'min_samples_leaf': 15, 'max_features': 0.9163668783619201}. Best is trial 75 with value: 0.694.\u001b[0m\n",
      "\u001b[32m[I 2022-12-27 19:20:43,228]\u001b[0m Trial 82 finished with value: 0.7060000000000001 and parameters: {'n_estimators': 55, 'max_depth': 2, 'min_samples_split': 16, 'min_samples_leaf': 15, 'max_features': 0.9782463186988786}. Best is trial 75 with value: 0.694.\u001b[0m\n",
      "\u001b[32m[I 2022-12-27 19:20:44,474]\u001b[0m Trial 83 finished with value: 0.706 and parameters: {'n_estimators': 58, 'max_depth': 2, 'min_samples_split': 14, 'min_samples_leaf': 13, 'max_features': 0.8535365106388926}. Best is trial 75 with value: 0.694.\u001b[0m\n",
      "\u001b[32m[I 2022-12-27 19:20:45,838]\u001b[0m Trial 84 finished with value: 0.696 and parameters: {'n_estimators': 67, 'max_depth': 2, 'min_samples_split': 18, 'min_samples_leaf': 15, 'max_features': 0.9485371855560011}. Best is trial 75 with value: 0.694.\u001b[0m\n",
      "\u001b[32m[I 2022-12-27 19:20:47,211]\u001b[0m Trial 85 finished with value: 0.703 and parameters: {'n_estimators': 67, 'max_depth': 2, 'min_samples_split': 18, 'min_samples_leaf': 16, 'max_features': 0.9405941780239876}. Best is trial 75 with value: 0.694.\u001b[0m\n",
      "\u001b[32m[I 2022-12-27 19:20:48,572]\u001b[0m Trial 86 finished with value: 0.765 and parameters: {'n_estimators': 65, 'max_depth': 3, 'min_samples_split': 19, 'min_samples_leaf': 17, 'max_features': 0.9994912051683297}. Best is trial 75 with value: 0.694.\u001b[0m\n",
      "\u001b[32m[I 2022-12-27 19:20:49,721]\u001b[0m Trial 87 finished with value: 0.706 and parameters: {'n_estimators': 61, 'max_depth': 2, 'min_samples_split': 18, 'min_samples_leaf': 16, 'max_features': 0.9277174574270477}. Best is trial 75 with value: 0.694.\u001b[0m\n",
      "\u001b[32m[I 2022-12-27 19:20:50,999]\u001b[0m Trial 88 finished with value: 0.763 and parameters: {'n_estimators': 64, 'max_depth': 3, 'min_samples_split': 19, 'min_samples_leaf': 15, 'max_features': 0.8826271961955204}. Best is trial 75 with value: 0.694.\u001b[0m\n",
      "\u001b[32m[I 2022-12-27 19:20:51,921]\u001b[0m Trial 89 finished with value: 0.703 and parameters: {'n_estimators': 49, 'max_depth': 2, 'min_samples_split': 16, 'min_samples_leaf': 15, 'max_features': 0.9598367657442902}. Best is trial 75 with value: 0.694.\u001b[0m\n",
      "\u001b[32m[I 2022-12-27 19:20:53,042]\u001b[0m Trial 90 finished with value: 0.697 and parameters: {'n_estimators': 45, 'max_depth': 2, 'min_samples_split': 18, 'min_samples_leaf': 19, 'max_features': 0.9494432889045776}. Best is trial 75 with value: 0.694.\u001b[0m\n",
      "\u001b[32m[I 2022-12-27 19:20:53,967]\u001b[0m Trial 91 finished with value: 0.7030000000000001 and parameters: {'n_estimators': 42, 'max_depth': 2, 'min_samples_split': 18, 'min_samples_leaf': 19, 'max_features': 0.9022620061003908}. Best is trial 75 with value: 0.694.\u001b[0m\n",
      "\u001b[32m[I 2022-12-27 19:20:55,031]\u001b[0m Trial 92 finished with value: 0.71 and parameters: {'n_estimators': 47, 'max_depth': 2, 'min_samples_split': 18, 'min_samples_leaf': 18, 'max_features': 0.9553847453497025}. Best is trial 75 with value: 0.694.\u001b[0m\n",
      "\u001b[32m[I 2022-12-27 19:20:55,865]\u001b[0m Trial 93 finished with value: 0.7130000000000001 and parameters: {'n_estimators': 36, 'max_depth': 2, 'min_samples_split': 17, 'min_samples_leaf': 16, 'max_features': 0.9771228620102487}. Best is trial 75 with value: 0.694.\u001b[0m\n",
      "\u001b[32m[I 2022-12-27 19:20:57,306]\u001b[0m Trial 94 finished with value: 0.705 and parameters: {'n_estimators': 56, 'max_depth': 2, 'min_samples_split': 19, 'min_samples_leaf': 20, 'max_features': 0.957466707157779}. Best is trial 75 with value: 0.694.\u001b[0m\n",
      "\u001b[32m[I 2022-12-27 19:20:58,573]\u001b[0m Trial 95 finished with value: 0.773 and parameters: {'n_estimators': 46, 'max_depth': 3, 'min_samples_split': 16, 'min_samples_leaf': 14, 'max_features': 0.9790036822182004}. Best is trial 75 with value: 0.694.\u001b[0m\n",
      "\u001b[32m[I 2022-12-27 19:20:59,941]\u001b[0m Trial 96 finished with value: 0.701 and parameters: {'n_estimators': 40, 'max_depth': 2, 'min_samples_split': 16, 'min_samples_leaf': 15, 'max_features': 0.9101004567566228}. Best is trial 75 with value: 0.694.\u001b[0m\n",
      "\u001b[32m[I 2022-12-27 19:21:00,976]\u001b[0m Trial 97 finished with value: 0.7060000000000001 and parameters: {'n_estimators': 39, 'max_depth': 2, 'min_samples_split': 15, 'min_samples_leaf': 15, 'max_features': 0.8224570936203401}. Best is trial 75 with value: 0.694.\u001b[0m\n",
      "\u001b[32m[I 2022-12-27 19:21:02,373]\u001b[0m Trial 98 finished with value: 0.712 and parameters: {'n_estimators': 52, 'max_depth': 2, 'min_samples_split': 17, 'min_samples_leaf': 14, 'max_features': 0.8971157713790419}. Best is trial 75 with value: 0.694.\u001b[0m\n",
      "\u001b[32m[I 2022-12-27 19:21:03,241]\u001b[0m Trial 99 finished with value: 0.77 and parameters: {'n_estimators': 33, 'max_depth': 3, 'min_samples_split': 17, 'min_samples_leaf': 13, 'max_features': 0.8715718631901658}. Best is trial 75 with value: 0.694.\u001b[0m\n"
     ]
    }
   ],
   "source": [
    "# 5. Run a hyperparameter search and log the results\n",
    "import optuna\n",
    "import mlflow\n",
    "from sklearn.ensemble import RandomForestClassifier\n",
    "from sklearn.model_selection import cross_val_score\n",
    "\n",
    "X, y = get_data()\n",
    "\n",
    "def optimize_rf(trial):\n",
    "    \n",
    "    with mlflow.start_run(run_name=f\"optuna-hp-{trial.number}-{datetime.datetime.now().strftime('%Y-%m-%d-%H-%M-%S')}\"):\n",
    "        # Set the hyperparameter values that we want to optimize\n",
    "        n_estimators = trial.suggest_int('n_estimators', 1, 100)\n",
    "        max_depth = trial.suggest_int('max_depth', 2, 10)\n",
    "        min_samples_split = trial.suggest_int('min_samples_split', 2, 20)\n",
    "        min_samples_leaf = trial.suggest_int('min_samples_leaf', 1, 20)\n",
    "        max_features = trial.suggest_float('max_features', 0.1, 1.0)\n",
    "        \n",
    "        \n",
    "        # Create a random forest classifier using the suggested hyperparameters\n",
    "        rf = RandomForestClassifier(n_estimators=n_estimators, max_depth=max_depth,\n",
    "                                    min_samples_split=min_samples_split,\n",
    "                                    min_samples_leaf=min_samples_leaf,\n",
    "                                    max_features=max_features)\n",
    "        \n",
    "        # Use cross-validation to evaluate the performance of the classifier\n",
    "        scores = cross_val_score(rf, X, y, cv=5)\n",
    "        \n",
    "        # Log the hyperparameters and cross-validation scores to MLflow\n",
    "        mlflow.log_param('n_estimators', n_estimators)\n",
    "        mlflow.log_param('max_depth', max_depth)\n",
    "        mlflow.log_param('min_samples_split', min_samples_split)\n",
    "        mlflow.log_param('min_samples_leaf', min_samples_leaf)\n",
    "        mlflow.log_param('max_features', max_features)\n",
    "        mlflow.log_metric('mean_cv_score', scores.mean())\n",
    "    \n",
    "    # Return the mean of the cross-validation scores as the objective value\n",
    "    return scores.mean()\n",
    "\n",
    "# Create an Optuna study\n",
    "study = optuna.create_study()\n",
    "\n",
    "# Run the optimization loop\n",
    "study.optimize(optimize_rf, n_trials=100)\n",
    "\n",
    "# Get the best hyperparameter values\n",
    "best_params = study.best_params"
   ]
  },
  {
   "cell_type": "code",
   "execution_count": 28,
   "metadata": {},
   "outputs": [
    {
     "name": "stderr",
     "output_type": "stream",
     "text": [
      "Registered model 'random_forest_model' already exists. Creating a new version of this model...\n",
      "2022/12/27 19:22:04 INFO mlflow.tracking._model_registry.client: Waiting up to 300 seconds for model version to finish creation.                     Model name: random_forest_model, version 2\n",
      "Created version '2' of model 'random_forest_model'.\n"
     ]
    }
   ],
   "source": [
    "# 6. Register a model version using the best hyperparameters\n",
    "\n",
    "with mlflow.start_run(run_name=f\"optuna-hp-final\"):\n",
    "    # Create the final model using the best hyperparameters\n",
    "    final_model = RandomForestClassifier(**best_params)\n",
    "\n",
    "    # Train the final model on the entire dataset\n",
    "    final_model.fit(X, y)\n",
    "\n",
    "    # Log the model to the \"Models\" section\n",
    "    mlflow.sklearn.log_model(final_model, \"random_forest_model\", registered_model_name=\"random_forest_model\")\n",
    "\n"
   ]
  },
  {
   "cell_type": "code",
   "execution_count": 29,
   "metadata": {},
   "outputs": [
    {
     "data": {
      "text/plain": [
       "array([2, 1, 0, 2, 2])"
      ]
     },
     "execution_count": 29,
     "metadata": {},
     "output_type": "execute_result"
    }
   ],
   "source": [
    "# 7. Retrieve a model version and use it for prediction\n",
    "\n",
    "import mlflow.pyfunc\n",
    "\n",
    "model_name = \"random_forest_model\"\n",
    "model_version = 2\n",
    "\n",
    "model = mlflow.pyfunc.load_model(\n",
    "    model_uri=f\"models:/{model_name}/{model_version}\"\n",
    ")\n",
    "\n",
    "model.predict(X[:5])"
   ]
  },
  {
   "cell_type": "code",
   "execution_count": 31,
   "metadata": {},
   "outputs": [
    {
     "name": "stdout",
     "output_type": "stream",
     "text": [
      "Usage: mlflow models [OPTIONS] COMMAND [ARGS]...\n",
      "Try 'mlflow models --help' for help.\n",
      "\n",
      "Error: No such command 'build'.\n"
     ]
    }
   ],
   "source": [
    "# EXTRA: Deploy the model to a REST API endpoint with mlflow models serve\n",
    "# Set up env variables\n",
    "# export $(grep -v '^#' .env | xargs)\n",
    "# export MLFLOW_TRACKING_URI=http://localhost:5000"
   ]
  },
  {
   "cell_type": "code",
   "execution_count": 35,
   "metadata": {},
   "outputs": [
    {
     "data": {
      "text/plain": [
       "array([[ 1.48722421,  1.02475923,  6.03974507, -1.72832624],\n",
       "       [ 1.66930138,  1.34532094, -0.22424842, -0.56881206],\n",
       "       [ 0.47854928, -1.15415362, -2.4204069 ,  1.76360495],\n",
       "       [ 0.19853164,  0.78233069,  2.16172363, -1.78084574],\n",
       "       [-0.13384718,  0.10490039,  2.89640135, -1.02639753]])"
      ]
     },
     "execution_count": 35,
     "metadata": {},
     "output_type": "execute_result"
    }
   ],
   "source": [
    "X[:5]"
   ]
  },
  {
   "cell_type": "code",
   "execution_count": 34,
   "metadata": {},
   "outputs": [],
   "source": [
    "# Using python_function backend\n",
    "# mlflow models serve --model-uri s3://mlflow/1/e18a1a1695e844258403040ae6e6cb4b/artifacts/random_forest_model --env-manager=local -p 5002\n",
    "# Try it out with curl\n",
    "\n",
    "# curl -d '{\"inputs\":[[ 1.48722421,  1.02475923,  6.03974507, -1.72832624]]}' -H 'Content-Type: application/json'  localhost:5002/invocations"
   ]
  },
  {
   "cell_type": "code",
   "execution_count": null,
   "metadata": {},
   "outputs": [],
   "source": [
    "# Using MLServer backend\n",
    "# mlflow models serve --model-uri s3://mlflow/1/e18a1a1695e844258403040ae6e6cb4b/artifacts/random_forest_model --env-manager=local -p 5002 --enable-mlserver\n",
    "# Try it out with curl\n",
    "\n",
    "# curl -d '{\"inputs\":[[ 1.48722421,  1.02475923,  6.03974507, -1.72832624]]}' -H 'Content-Type: application/json'  localhost:5002/invocations\n",
    "\n"
   ]
  },
  {
   "cell_type": "code",
   "execution_count": null,
   "metadata": {},
   "outputs": [],
   "source": [
    "# Undeploy mlflow docker compose\n",
    "# docker-compose down"
   ]
  }
 ],
 "metadata": {
  "kernelspec": {
   "display_name": "Python 3",
   "language": "python",
   "name": "python3"
  },
  "language_info": {
   "codemirror_mode": {
    "name": "ipython",
    "version": 3
   },
   "file_extension": ".py",
   "mimetype": "text/x-python",
   "name": "python",
   "nbconvert_exporter": "python",
   "pygments_lexer": "ipython3",
   "version": "3.10.6"
  },
  "orig_nbformat": 4,
  "vscode": {
   "interpreter": {
    "hash": "916dbcbb3f70747c44a77c7bcd40155683ae19c65e1c03b4aa3499c5328201f1"
   }
  }
 },
 "nbformat": 4,
 "nbformat_minor": 2
}
