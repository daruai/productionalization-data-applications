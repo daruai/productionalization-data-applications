{
 "cells": [
  {
   "cell_type": "code",
   "execution_count": null,
   "metadata": {},
   "outputs": [],
   "source": [
    "# MLFlow Tutorial\n",
    "# This is a simple tutorial of using MLFlow to register experiments and model versions.\n",
    "# 1. Install MLFlow\n",
    "# 2. Setup MLFlow Tracking Server\n",
    "# 3. Create a new experiment\n",
    "# 4. Log a model version\n",
    "# 5. View the model version in the MLFlow UI\n",
    "# 6. Register a model version\n",
    "# 7. View the model version in the MLFlow UI\n",
    "# 8. Run a hyperparameter search and log the results\n",
    "# 9. View the hyperparameter search results in the MLFlow UI"
   ]
  },
  {
   "cell_type": "code",
   "execution_count": null,
   "metadata": {},
   "outputs": [],
   "source": [
    "# 1. Install MLFlow\n",
    "# !pip install mlflow[extras]\n",
    "# !pip freeze | grep mlflow"
   ]
  },
  {
   "cell_type": "code",
   "execution_count": null,
   "metadata": {},
   "outputs": [],
   "source": [
    "# 2. Setup MLFlow Tracking Server\n",
    "# Run the following command in a terminal to start the MLFlow Tracking Server\n",
    "# Configure mlflow to store all in a local directory\n",
    "# !mlflow server --backend-store-uri ./mlruns --default-artifact-root ./mlruns"
   ]
  },
  {
   "cell_type": "code",
   "execution_count": 1,
   "metadata": {},
   "outputs": [
    {
     "data": {
      "text/plain": [
       "<Experiment: artifact_location='./mlruns/136298590476637391', creation_time=1672075851197, experiment_id='136298590476637391', last_update_time=1672075851197, lifecycle_stage='active', name='mlflow-tutorial', tags={}>"
      ]
     },
     "execution_count": 1,
     "metadata": {},
     "output_type": "execute_result"
    }
   ],
   "source": [
    "# 3. Create a new experiment\n",
    "# This is a local tracking server. You can also use a remote tracking server. See https://mlflow.org/docs/latest/tracking.html for more details.\n",
    "# Remote tracking server will be simulated later\n",
    "import mlflow\n",
    "mlflow.set_tracking_uri(\"http://localhost:5000\")\n",
    "mlflow.set_experiment(\"mlflow-tutorial\")"
   ]
  },
  {
   "cell_type": "code",
   "execution_count": 2,
   "metadata": {},
   "outputs": [
    {
     "name": "stderr",
     "output_type": "stream",
     "text": [
      "/home/daniel/anaconda3/envs/productionalization/lib/python3.10/site-packages/_distutils_hack/__init__.py:33: UserWarning: Setuptools is replacing distutils.\n",
      "  warnings.warn(\"Setuptools is replacing distutils.\")\n"
     ]
    }
   ],
   "source": [
    "# 4. Log a model version\n",
    "\n",
    "#Lets first create a simple function to train a model\n",
    "# The function will receive a set of hyperparameters and return the model and the accuracy\n",
    "import datetime\n",
    "\n",
    "def get_data():\n",
    "    from sklearn import datasets\n",
    "\n",
    "    X, y = datasets.make_classification(n_samples=1000, n_features=4, n_informative=4, n_redundant=0, n_classes=3, n_clusters_per_class=1, class_sep=0.5, random_state=40)\n",
    "    return X, y\n",
    "\n",
    "def train_model(hyperparameters):\n",
    "    from sklearn.ensemble import RandomForestClassifier\n",
    "    from sklearn.metrics import accuracy_score\n",
    "    from sklearn.model_selection import train_test_split\n",
    "    import mlflow.sklearn\n",
    "    X, y = get_data()\n",
    "    X_train, X_test, y_train, y_test = train_test_split(X, y, test_size=0.2, random_state=40)\n",
    "    model = RandomForestClassifier(**hyperparameters)\n",
    "    model.fit(X_train, y_train)\n",
    "    y_pred = model.predict(X_test)\n",
    "    accuracy = accuracy_score(y_pred, y_test)\n",
    "    return model, accuracy\n",
    "\n",
    "# Now lets train a model with some hyperparameters\n",
    "hyperparameters = {\"n_estimators\": 10, \"max_depth\": 5}\n",
    "model, accuracy = train_model(hyperparameters)\n",
    "\n",
    "# Now lets log the model and the accuracy\n",
    "date = datetime.datetime.now().strftime(\"%Y-%m-%d-%H-%M-%S\")\n",
    "with mlflow.start_run(run_name=f\"mlflow-tutorial-{date}\"):\n",
    "    \n",
    "    # Hyperparameters are logged as parameters\n",
    "    for hyperparameter, value in hyperparameters.items():\n",
    "        mlflow.log_param(hyperparameter, value)\n",
    "    \n",
    "    # Accuracy is logged as a metric \n",
    "    mlflow.log_metric(\"accuracy\", accuracy)\n",
    "    \n",
    "    # Model is logged as an artifact\n",
    "    mlflow.sklearn.log_model(model, \"model\")"
   ]
  },
  {
   "cell_type": "code",
   "execution_count": 6,
   "metadata": {},
   "outputs": [
    {
     "name": "stderr",
     "output_type": "stream",
     "text": [
      "\u001b[32m[I 2022-12-26 19:29:46,632]\u001b[0m A new study created in memory with name: no-name-6fa8d55f-47c5-49a0-a98f-930ac6dcb28c\u001b[0m\n",
      "\u001b[32m[I 2022-12-26 19:29:48,278]\u001b[0m Trial 0 finished with value: 0.786 and parameters: {'n_estimators': 11, 'max_depth': 8, 'min_samples_split': 6, 'min_samples_leaf': 18, 'max_features': 0.13166750514300726}. Best is trial 0 with value: 0.786.\u001b[0m\n",
      "\u001b[32m[I 2022-12-26 19:29:50,884]\u001b[0m Trial 1 finished with value: 0.8309999999999998 and parameters: {'n_estimators': 85, 'max_depth': 9, 'min_samples_split': 4, 'min_samples_leaf': 9, 'max_features': 0.899413536343465}. Best is trial 0 with value: 0.786.\u001b[0m\n",
      "\u001b[32m[I 2022-12-26 19:29:52,977]\u001b[0m Trial 2 finished with value: 0.827 and parameters: {'n_estimators': 77, 'max_depth': 8, 'min_samples_split': 2, 'min_samples_leaf': 10, 'max_features': 0.5223151270616982}. Best is trial 0 with value: 0.786.\u001b[0m\n",
      "\u001b[32m[I 2022-12-26 19:29:54,563]\u001b[0m Trial 3 finished with value: 0.818 and parameters: {'n_estimators': 69, 'max_depth': 7, 'min_samples_split': 16, 'min_samples_leaf': 14, 'max_features': 0.3289446574190106}. Best is trial 0 with value: 0.786.\u001b[0m\n",
      "\u001b[32m[I 2022-12-26 19:29:55,446]\u001b[0m Trial 4 finished with value: 0.788 and parameters: {'n_estimators': 7, 'max_depth': 5, 'min_samples_split': 10, 'min_samples_leaf': 18, 'max_features': 0.8753605456577669}. Best is trial 0 with value: 0.786.\u001b[0m\n",
      "\u001b[32m[I 2022-12-26 19:29:56,926]\u001b[0m Trial 5 finished with value: 0.827 and parameters: {'n_estimators': 32, 'max_depth': 7, 'min_samples_split': 13, 'min_samples_leaf': 6, 'max_features': 0.8864810310145892}. Best is trial 0 with value: 0.786.\u001b[0m\n",
      "\u001b[32m[I 2022-12-26 19:29:58,110]\u001b[0m Trial 6 finished with value: 0.819 and parameters: {'n_estimators': 11, 'max_depth': 9, 'min_samples_split': 11, 'min_samples_leaf': 8, 'max_features': 0.8503270995523152}. Best is trial 0 with value: 0.786.\u001b[0m\n",
      "\u001b[32m[I 2022-12-26 19:30:00,673]\u001b[0m Trial 7 finished with value: 0.8320000000000001 and parameters: {'n_estimators': 100, 'max_depth': 9, 'min_samples_split': 15, 'min_samples_leaf': 4, 'max_features': 0.787016572896337}. Best is trial 0 with value: 0.786.\u001b[0m\n",
      "\u001b[32m[I 2022-12-26 19:30:02,514]\u001b[0m Trial 8 finished with value: 0.8240000000000001 and parameters: {'n_estimators': 31, 'max_depth': 7, 'min_samples_split': 15, 'min_samples_leaf': 8, 'max_features': 0.8611886881619284}. Best is trial 0 with value: 0.786.\u001b[0m\n",
      "\u001b[32m[I 2022-12-26 19:30:04,106]\u001b[0m Trial 9 finished with value: 0.807 and parameters: {'n_estimators': 22, 'max_depth': 7, 'min_samples_split': 19, 'min_samples_leaf': 15, 'max_features': 0.7744648950357592}. Best is trial 0 with value: 0.786.\u001b[0m\n",
      "\u001b[32m[I 2022-12-26 19:30:05,462]\u001b[0m Trial 10 finished with value: 0.7209999999999999 and parameters: {'n_estimators': 51, 'max_depth': 2, 'min_samples_split': 7, 'min_samples_leaf': 19, 'max_features': 0.13530295004657428}. Best is trial 10 with value: 0.7209999999999999.\u001b[0m\n",
      "\u001b[32m[I 2022-12-26 19:30:06,835]\u001b[0m Trial 11 finished with value: 0.709 and parameters: {'n_estimators': 55, 'max_depth': 2, 'min_samples_split': 7, 'min_samples_leaf': 19, 'max_features': 0.10470343445958138}. Best is trial 11 with value: 0.709.\u001b[0m\n",
      "\u001b[32m[I 2022-12-26 19:30:08,389]\u001b[0m Trial 12 finished with value: 0.71 and parameters: {'n_estimators': 54, 'max_depth': 2, 'min_samples_split': 8, 'min_samples_leaf': 20, 'max_features': 0.1100336366936675}. Best is trial 11 with value: 0.709.\u001b[0m\n",
      "\u001b[32m[I 2022-12-26 19:30:10,019]\u001b[0m Trial 13 finished with value: 0.7230000000000001 and parameters: {'n_estimators': 48, 'max_depth': 2, 'min_samples_split': 8, 'min_samples_leaf': 14, 'max_features': 0.30648918763909283}. Best is trial 11 with value: 0.709.\u001b[0m\n",
      "\u001b[32m[I 2022-12-26 19:30:11,940]\u001b[0m Trial 14 finished with value: 0.7929999999999999 and parameters: {'n_estimators': 56, 'max_depth': 4, 'min_samples_split': 5, 'min_samples_leaf': 20, 'max_features': 0.31390402517929206}. Best is trial 11 with value: 0.709.\u001b[0m\n",
      "\u001b[32m[I 2022-12-26 19:30:13,579]\u001b[0m Trial 15 finished with value: 0.763 and parameters: {'n_estimators': 62, 'max_depth': 3, 'min_samples_split': 9, 'min_samples_leaf': 15, 'max_features': 0.4803665764951062}. Best is trial 11 with value: 0.709.\u001b[0m\n",
      "\u001b[32m[I 2022-12-26 19:30:15,029]\u001b[0m Trial 16 finished with value: 0.795 and parameters: {'n_estimators': 42, 'max_depth': 4, 'min_samples_split': 12, 'min_samples_leaf': 12, 'max_features': 0.21596592219502203}. Best is trial 11 with value: 0.709.\u001b[0m\n",
      "\u001b[32m[I 2022-12-26 19:30:16,458]\u001b[0m Trial 17 finished with value: 0.754 and parameters: {'n_estimators': 38, 'max_depth': 3, 'min_samples_split': 2, 'min_samples_leaf': 2, 'max_features': 0.6652937259125157}. Best is trial 11 with value: 0.709.\u001b[0m\n",
      "\u001b[32m[I 2022-12-26 19:30:18,295]\u001b[0m Trial 18 finished with value: 0.8020000000000002 and parameters: {'n_estimators': 65, 'max_depth': 5, 'min_samples_split': 8, 'min_samples_leaf': 17, 'max_features': 0.4198237538532992}. Best is trial 11 with value: 0.709.\u001b[0m\n",
      "\u001b[32m[I 2022-12-26 19:30:20,236]\u001b[0m Trial 19 finished with value: 0.717 and parameters: {'n_estimators': 83, 'max_depth': 2, 'min_samples_split': 5, 'min_samples_leaf': 20, 'max_features': 0.22303854791907032}. Best is trial 11 with value: 0.709.\u001b[0m\n",
      "\u001b[32m[I 2022-12-26 19:30:22,527]\u001b[0m Trial 20 finished with value: 0.7780000000000001 and parameters: {'n_estimators': 72, 'max_depth': 3, 'min_samples_split': 20, 'min_samples_leaf': 12, 'max_features': 0.6621251187493501}. Best is trial 11 with value: 0.709.\u001b[0m\n",
      "\u001b[32m[I 2022-12-26 19:30:24,655]\u001b[0m Trial 21 finished with value: 0.7129999999999999 and parameters: {'n_estimators': 92, 'max_depth': 2, 'min_samples_split': 4, 'min_samples_leaf': 20, 'max_features': 0.2140314301095803}. Best is trial 11 with value: 0.709.\u001b[0m\n",
      "\u001b[32m[I 2022-12-26 19:30:27,619]\u001b[0m Trial 22 finished with value: 0.714 and parameters: {'n_estimators': 95, 'max_depth': 2, 'min_samples_split': 4, 'min_samples_leaf': 17, 'max_features': 0.10382285166140516}. Best is trial 11 with value: 0.709.\u001b[0m\n",
      "\u001b[32m[I 2022-12-26 19:30:30,141]\u001b[0m Trial 23 finished with value: 0.787 and parameters: {'n_estimators': 59, 'max_depth': 4, 'min_samples_split': 6, 'min_samples_leaf': 20, 'max_features': 0.20749208111232448}. Best is trial 11 with value: 0.709.\u001b[0m\n",
      "\u001b[32m[I 2022-12-26 19:30:33,382]\u001b[0m Trial 24 finished with value: 0.774 and parameters: {'n_estimators': 89, 'max_depth': 3, 'min_samples_split': 3, 'min_samples_leaf': 16, 'max_features': 0.37928484318133715}. Best is trial 11 with value: 0.709.\u001b[0m\n",
      "\u001b[32m[I 2022-12-26 19:30:35,793]\u001b[0m Trial 25 finished with value: 0.8009999999999999 and parameters: {'n_estimators': 77, 'max_depth': 5, 'min_samples_split': 9, 'min_samples_leaf': 18, 'max_features': 0.19684291969348436}. Best is trial 11 with value: 0.709.\u001b[0m\n",
      "\u001b[32m[I 2022-12-26 19:30:37,063]\u001b[0m Trial 26 finished with value: 0.71 and parameters: {'n_estimators': 22, 'max_depth': 2, 'min_samples_split': 7, 'min_samples_leaf': 20, 'max_features': 0.2611453277029663}. Best is trial 11 with value: 0.709.\u001b[0m\n",
      "\u001b[32m[I 2022-12-26 19:30:38,325]\u001b[0m Trial 27 finished with value: 0.7470000000000001 and parameters: {'n_estimators': 20, 'max_depth': 3, 'min_samples_split': 7, 'min_samples_leaf': 12, 'max_features': 0.27699423247133104}. Best is trial 11 with value: 0.709.\u001b[0m\n",
      "\u001b[32m[I 2022-12-26 19:30:39,969]\u001b[0m Trial 28 finished with value: 0.7889999999999999 and parameters: {'n_estimators': 46, 'max_depth': 4, 'min_samples_split': 10, 'min_samples_leaf': 16, 'max_features': 0.1376909501279036}. Best is trial 11 with value: 0.709.\u001b[0m\n",
      "\u001b[32m[I 2022-12-26 19:30:40,951]\u001b[0m Trial 29 finished with value: 0.583 and parameters: {'n_estimators': 2, 'max_depth': 2, 'min_samples_split': 6, 'min_samples_leaf': 18, 'max_features': 0.10962921265830188}. Best is trial 29 with value: 0.583.\u001b[0m\n",
      "\u001b[32m[I 2022-12-26 19:30:42,040]\u001b[0m Trial 30 finished with value: 0.672 and parameters: {'n_estimators': 1, 'max_depth': 10, 'min_samples_split': 6, 'min_samples_leaf': 18, 'max_features': 0.3917957054465693}. Best is trial 29 with value: 0.583.\u001b[0m\n",
      "\u001b[32m[I 2022-12-26 19:30:43,251]\u001b[0m Trial 31 finished with value: 0.6420000000000001 and parameters: {'n_estimators': 1, 'max_depth': 10, 'min_samples_split': 6, 'min_samples_leaf': 18, 'max_features': 0.43337474639924495}. Best is trial 29 with value: 0.583.\u001b[0m\n",
      "\u001b[32m[I 2022-12-26 19:30:44,217]\u001b[0m Trial 32 finished with value: 0.71 and parameters: {'n_estimators': 1, 'max_depth': 10, 'min_samples_split': 6, 'min_samples_leaf': 18, 'max_features': 0.6079865119674133}. Best is trial 29 with value: 0.583.\u001b[0m\n",
      "\u001b[32m[I 2022-12-26 19:30:45,543]\u001b[0m Trial 33 finished with value: 0.7829999999999999 and parameters: {'n_estimators': 12, 'max_depth': 10, 'min_samples_split': 5, 'min_samples_leaf': 17, 'max_features': 0.44698986943903274}. Best is trial 29 with value: 0.583.\u001b[0m\n",
      "\u001b[32m[I 2022-12-26 19:30:46,790]\u001b[0m Trial 34 finished with value: 0.788 and parameters: {'n_estimators': 4, 'max_depth': 8, 'min_samples_split': 3, 'min_samples_leaf': 14, 'max_features': 0.9793511122775923}. Best is trial 29 with value: 0.583.\u001b[0m\n",
      "\u001b[32m[I 2022-12-26 19:30:48,136]\u001b[0m Trial 35 finished with value: 0.785 and parameters: {'n_estimators': 14, 'max_depth': 10, 'min_samples_split': 6, 'min_samples_leaf': 18, 'max_features': 0.370452548002312}. Best is trial 29 with value: 0.583.\u001b[0m\n",
      "\u001b[32m[I 2022-12-26 19:30:49,296]\u001b[0m Trial 36 finished with value: 0.781 and parameters: {'n_estimators': 6, 'max_depth': 6, 'min_samples_split': 3, 'min_samples_leaf': 16, 'max_features': 0.4762434708001599}. Best is trial 29 with value: 0.583.\u001b[0m\n",
      "\u001b[32m[I 2022-12-26 19:30:50,658]\u001b[0m Trial 37 finished with value: 0.8009999999999999 and parameters: {'n_estimators': 16, 'max_depth': 9, 'min_samples_split': 10, 'min_samples_leaf': 19, 'max_features': 0.5389650815835333}. Best is trial 29 with value: 0.583.\u001b[0m\n",
      "\u001b[32m[I 2022-12-26 19:30:52,042]\u001b[0m Trial 38 finished with value: 0.8089999999999999 and parameters: {'n_estimators': 28, 'max_depth': 9, 'min_samples_split': 5, 'min_samples_leaf': 13, 'max_features': 0.37450704901207305}. Best is trial 29 with value: 0.583.\u001b[0m\n",
      "\u001b[32m[I 2022-12-26 19:30:53,228]\u001b[0m Trial 39 finished with value: 0.756 and parameters: {'n_estimators': 7, 'max_depth': 6, 'min_samples_split': 12, 'min_samples_leaf': 19, 'max_features': 0.16352392311693445}. Best is trial 29 with value: 0.583.\u001b[0m\n",
      "\u001b[32m[I 2022-12-26 19:30:54,884]\u001b[0m Trial 40 finished with value: 0.8200000000000001 and parameters: {'n_estimators': 37, 'max_depth': 8, 'min_samples_split': 9, 'min_samples_leaf': 9, 'max_features': 0.5677728041006335}. Best is trial 29 with value: 0.583.\u001b[0m\n",
      "\u001b[32m[I 2022-12-26 19:30:56,065]\u001b[0m Trial 41 finished with value: 0.725 and parameters: {'n_estimators': 1, 'max_depth': 10, 'min_samples_split': 6, 'min_samples_leaf': 18, 'max_features': 0.6358634373857387}. Best is trial 29 with value: 0.583.\u001b[0m\n",
      "\u001b[32m[I 2022-12-26 19:30:57,192]\u001b[0m Trial 42 finished with value: 0.77 and parameters: {'n_estimators': 3, 'max_depth': 10, 'min_samples_split': 7, 'min_samples_leaf': 17, 'max_features': 0.5907929666679844}. Best is trial 29 with value: 0.583.\u001b[0m\n",
      "\u001b[32m[I 2022-12-26 19:30:58,898]\u001b[0m Trial 43 finished with value: 0.762 and parameters: {'n_estimators': 54, 'max_depth': 3, 'min_samples_split': 8, 'min_samples_leaf': 19, 'max_features': 0.16317937071490995}. Best is trial 29 with value: 0.583.\u001b[0m\n",
      "\u001b[32m[I 2022-12-26 19:31:00,247]\u001b[0m Trial 44 finished with value: 0.8150000000000001 and parameters: {'n_estimators': 9, 'max_depth': 10, 'min_samples_split': 6, 'min_samples_leaf': 15, 'max_features': 0.7415706705227606}. Best is trial 29 with value: 0.583.\u001b[0m\n",
      "\u001b[32m[I 2022-12-26 19:31:01,647]\u001b[0m Trial 45 finished with value: 0.704 and parameters: {'n_estimators': 23, 'max_depth': 2, 'min_samples_split': 7, 'min_samples_leaf': 19, 'max_features': 0.23907920995483753}. Best is trial 29 with value: 0.583.\u001b[0m\n",
      "\u001b[32m[I 2022-12-26 19:31:02,747]\u001b[0m Trial 46 finished with value: 0.8099999999999999 and parameters: {'n_estimators': 17, 'max_depth': 7, 'min_samples_split': 4, 'min_samples_leaf': 19, 'max_features': 0.248346961886507}. Best is trial 29 with value: 0.583.\u001b[0m\n",
      "\u001b[32m[I 2022-12-26 19:31:03,968]\u001b[0m Trial 47 finished with value: 0.8039999999999999 and parameters: {'n_estimators': 28, 'max_depth': 8, 'min_samples_split': 7, 'min_samples_leaf': 17, 'max_features': 0.34238758799615465}. Best is trial 29 with value: 0.583.\u001b[0m\n",
      "\u001b[32m[I 2022-12-26 19:31:04,992]\u001b[0m Trial 48 finished with value: 0.8 and parameters: {'n_estimators': 10, 'max_depth': 9, 'min_samples_split': 10, 'min_samples_leaf': 16, 'max_features': 0.15140153748403526}. Best is trial 29 with value: 0.583.\u001b[0m\n",
      "\u001b[32m[I 2022-12-26 19:31:06,427]\u001b[0m Trial 49 finished with value: 0.8150000000000001 and parameters: {'n_estimators': 24, 'max_depth': 5, 'min_samples_split': 8, 'min_samples_leaf': 7, 'max_features': 0.4192554836767093}. Best is trial 29 with value: 0.583.\u001b[0m\n",
      "\u001b[32m[I 2022-12-26 19:31:07,609]\u001b[0m Trial 50 finished with value: 0.6890000000000001 and parameters: {'n_estimators': 17, 'max_depth': 2, 'min_samples_split': 2, 'min_samples_leaf': 5, 'max_features': 0.2761378133987311}. Best is trial 29 with value: 0.583.\u001b[0m\n",
      "\u001b[32m[I 2022-12-26 19:31:08,664]\u001b[0m Trial 51 finished with value: 0.659 and parameters: {'n_estimators': 7, 'max_depth': 2, 'min_samples_split': 2, 'min_samples_leaf': 3, 'max_features': 0.28961649177960214}. Best is trial 29 with value: 0.583.\u001b[0m\n",
      "\u001b[32m[I 2022-12-26 19:31:09,755]\u001b[0m Trial 52 finished with value: 0.6629999999999999 and parameters: {'n_estimators': 7, 'max_depth': 2, 'min_samples_split': 2, 'min_samples_leaf': 3, 'max_features': 0.29441681036335776}. Best is trial 29 with value: 0.583.\u001b[0m\n",
      "\u001b[32m[I 2022-12-26 19:31:10,820]\u001b[0m Trial 53 finished with value: 0.7070000000000001 and parameters: {'n_estimators': 6, 'max_depth': 3, 'min_samples_split': 2, 'min_samples_leaf': 3, 'max_features': 0.3233739947157529}. Best is trial 29 with value: 0.583.\u001b[0m\n",
      "\u001b[32m[I 2022-12-26 19:31:11,956]\u001b[0m Trial 54 finished with value: 0.709 and parameters: {'n_estimators': 12, 'max_depth': 2, 'min_samples_split': 2, 'min_samples_leaf': 5, 'max_features': 0.28996670057980745}. Best is trial 29 with value: 0.583.\u001b[0m\n",
      "\u001b[32m[I 2022-12-26 19:31:13,390]\u001b[0m Trial 55 finished with value: 0.7630000000000001 and parameters: {'n_estimators': 16, 'max_depth': 3, 'min_samples_split': 3, 'min_samples_leaf': 1, 'max_features': 0.5123006985971079}. Best is trial 29 with value: 0.583.\u001b[0m\n",
      "\u001b[32m[I 2022-12-26 19:31:14,303]\u001b[0m Trial 56 finished with value: 0.48600000000000004 and parameters: {'n_estimators': 1, 'max_depth': 2, 'min_samples_split': 2, 'min_samples_leaf': 4, 'max_features': 0.344226448801824}. Best is trial 56 with value: 0.48600000000000004.\u001b[0m\n",
      "\u001b[32m[I 2022-12-26 19:31:15,267]\u001b[0m Trial 57 finished with value: 0.562 and parameters: {'n_estimators': 1, 'max_depth': 2, 'min_samples_split': 17, 'min_samples_leaf': 3, 'max_features': 0.41873861006818686}. Best is trial 56 with value: 0.48600000000000004.\u001b[0m\n",
      "\u001b[32m[I 2022-12-26 19:31:16,308]\u001b[0m Trial 58 finished with value: 0.6900000000000001 and parameters: {'n_estimators': 8, 'max_depth': 2, 'min_samples_split': 17, 'min_samples_leaf': 3, 'max_features': 0.34216345918886143}. Best is trial 56 with value: 0.48600000000000004.\u001b[0m\n",
      "\u001b[32m[I 2022-12-26 19:31:17,318]\u001b[0m Trial 59 finished with value: 0.7510000000000001 and parameters: {'n_estimators': 5, 'max_depth': 4, 'min_samples_split': 15, 'min_samples_leaf': 1, 'max_features': 0.45288809420990794}. Best is trial 56 with value: 0.48600000000000004.\u001b[0m\n",
      "\u001b[32m[I 2022-12-26 19:31:18,761]\u001b[0m Trial 60 finished with value: 0.752 and parameters: {'n_estimators': 11, 'max_depth': 3, 'min_samples_split': 17, 'min_samples_leaf': 3, 'max_features': 0.5002534668656975}. Best is trial 56 with value: 0.48600000000000004.\u001b[0m\n",
      "\u001b[32m[I 2022-12-26 19:31:19,869]\u001b[0m Trial 61 finished with value: 0.5730000000000001 and parameters: {'n_estimators': 2, 'max_depth': 2, 'min_samples_split': 4, 'min_samples_leaf': 4, 'max_features': 0.44226290902541276}. Best is trial 56 with value: 0.48600000000000004.\u001b[0m\n",
      "\u001b[32m[I 2022-12-26 19:31:21,066]\u001b[0m Trial 62 finished with value: 0.647 and parameters: {'n_estimators': 4, 'max_depth': 2, 'min_samples_split': 4, 'min_samples_leaf': 4, 'max_features': 0.4310970160528659}. Best is trial 56 with value: 0.48600000000000004.\u001b[0m\n",
      "\u001b[32m[I 2022-12-26 19:31:22,135]\u001b[0m Trial 63 finished with value: 0.628 and parameters: {'n_estimators': 3, 'max_depth': 2, 'min_samples_split': 4, 'min_samples_leaf': 4, 'max_features': 0.4312492922183067}. Best is trial 56 with value: 0.48600000000000004.\u001b[0m\n",
      "\u001b[32m[I 2022-12-26 19:31:23,238]\u001b[0m Trial 64 finished with value: 0.506 and parameters: {'n_estimators': 1, 'max_depth': 2, 'min_samples_split': 4, 'min_samples_leaf': 6, 'max_features': 0.4185301060504027}. Best is trial 56 with value: 0.48600000000000004.\u001b[0m\n",
      "\u001b[32m[I 2022-12-26 19:31:24,402]\u001b[0m Trial 65 finished with value: 0.6699999999999999 and parameters: {'n_estimators': 2, 'max_depth': 3, 'min_samples_split': 5, 'min_samples_leaf': 6, 'max_features': 0.4069721342047443}. Best is trial 56 with value: 0.48600000000000004.\u001b[0m\n",
      "\u001b[32m[I 2022-12-26 19:31:25,418]\u001b[0m Trial 66 finished with value: 0.5199999999999999 and parameters: {'n_estimators': 1, 'max_depth': 2, 'min_samples_split': 3, 'min_samples_leaf': 5, 'max_features': 0.4731343583672011}. Best is trial 56 with value: 0.48600000000000004.\u001b[0m\n",
      "\u001b[32m[I 2022-12-26 19:31:26,588]\u001b[0m Trial 67 finished with value: 0.689 and parameters: {'n_estimators': 14, 'max_depth': 2, 'min_samples_split': 3, 'min_samples_leaf': 5, 'max_features': 0.4738426084200524}. Best is trial 56 with value: 0.48600000000000004.\u001b[0m\n",
      "\u001b[32m[I 2022-12-26 19:31:27,786]\u001b[0m Trial 68 finished with value: 0.6859999999999999 and parameters: {'n_estimators': 4, 'max_depth': 3, 'min_samples_split': 4, 'min_samples_leaf': 6, 'max_features': 0.3561375055803337}. Best is trial 56 with value: 0.48600000000000004.\u001b[0m\n",
      "\u001b[32m[I 2022-12-26 19:31:28,857]\u001b[0m Trial 69 finished with value: 0.666 and parameters: {'n_estimators': 9, 'max_depth': 2, 'min_samples_split': 4, 'min_samples_leaf': 4, 'max_features': 0.5409190502886825}. Best is trial 56 with value: 0.48600000000000004.\u001b[0m\n",
      "\u001b[32m[I 2022-12-26 19:31:30,289]\u001b[0m Trial 70 finished with value: 0.742 and parameters: {'n_estimators': 19, 'max_depth': 3, 'min_samples_split': 5, 'min_samples_leaf': 2, 'max_features': 0.49096337337050727}. Best is trial 56 with value: 0.48600000000000004.\u001b[0m\n",
      "\u001b[32m[I 2022-12-26 19:31:31,428]\u001b[0m Trial 71 finished with value: 0.534 and parameters: {'n_estimators': 1, 'max_depth': 2, 'min_samples_split': 3, 'min_samples_leaf': 4, 'max_features': 0.4018721713017025}. Best is trial 56 with value: 0.48600000000000004.\u001b[0m\n",
      "\u001b[32m[I 2022-12-26 19:31:32,486]\u001b[0m Trial 72 finished with value: 0.6890000000000001 and parameters: {'n_estimators': 13, 'max_depth': 2, 'min_samples_split': 3, 'min_samples_leaf': 4, 'max_features': 0.4491713497858379}. Best is trial 56 with value: 0.48600000000000004.\u001b[0m\n",
      "\u001b[32m[I 2022-12-26 19:31:33,524]\u001b[0m Trial 73 finished with value: 0.5029999999999999 and parameters: {'n_estimators': 1, 'max_depth': 2, 'min_samples_split': 14, 'min_samples_leaf': 7, 'max_features': 0.3952213695082122}. Best is trial 56 with value: 0.48600000000000004.\u001b[0m\n",
      "\u001b[32m[I 2022-12-26 19:31:34,500]\u001b[0m Trial 74 finished with value: 0.54 and parameters: {'n_estimators': 1, 'max_depth': 2, 'min_samples_split': 14, 'min_samples_leaf': 7, 'max_features': 0.37902743939021377}. Best is trial 56 with value: 0.48600000000000004.\u001b[0m\n",
      "\u001b[32m[I 2022-12-26 19:31:35,406]\u001b[0m Trial 75 finished with value: 0.7469999999999999 and parameters: {'n_estimators': 10, 'max_depth': 3, 'min_samples_split': 18, 'min_samples_leaf': 8, 'max_features': 0.4022505392107818}. Best is trial 56 with value: 0.48600000000000004.\u001b[0m\n",
      "\u001b[32m[I 2022-12-26 19:31:36,170]\u001b[0m Trial 76 finished with value: 0.52 and parameters: {'n_estimators': 1, 'max_depth': 2, 'min_samples_split': 13, 'min_samples_leaf': 7, 'max_features': 0.3938875810701632}. Best is trial 56 with value: 0.48600000000000004.\u001b[0m\n",
      "\u001b[32m[I 2022-12-26 19:31:37,046]\u001b[0m Trial 77 finished with value: 0.6859999999999999 and parameters: {'n_estimators': 5, 'max_depth': 2, 'min_samples_split': 14, 'min_samples_leaf': 7, 'max_features': 0.38845831380145074}. Best is trial 56 with value: 0.48600000000000004.\u001b[0m\n",
      "\u001b[32m[I 2022-12-26 19:31:37,862]\u001b[0m Trial 78 finished with value: 0.6519999999999999 and parameters: {'n_estimators': 1, 'max_depth': 4, 'min_samples_split': 13, 'min_samples_leaf': 6, 'max_features': 0.3205080852689762}. Best is trial 56 with value: 0.48600000000000004.\u001b[0m\n",
      "\u001b[32m[I 2022-12-26 19:31:38,770]\u001b[0m Trial 79 finished with value: 0.736 and parameters: {'n_estimators': 8, 'max_depth': 3, 'min_samples_split': 14, 'min_samples_leaf': 10, 'max_features': 0.3595172455147543}. Best is trial 56 with value: 0.48600000000000004.\u001b[0m\n",
      "\u001b[32m[I 2022-12-26 19:31:39,629]\u001b[0m Trial 80 finished with value: 0.6420000000000001 and parameters: {'n_estimators': 5, 'max_depth': 2, 'min_samples_split': 13, 'min_samples_leaf': 7, 'max_features': 0.46387454570734277}. Best is trial 56 with value: 0.48600000000000004.\u001b[0m\n",
      "\u001b[32m[I 2022-12-26 19:31:40,448]\u001b[0m Trial 81 finished with value: 0.52 and parameters: {'n_estimators': 1, 'max_depth': 2, 'min_samples_split': 12, 'min_samples_leaf': 5, 'max_features': 0.40033771237646154}. Best is trial 56 with value: 0.48600000000000004.\u001b[0m\n",
      "\u001b[32m[I 2022-12-26 19:31:41,292]\u001b[0m Trial 82 finished with value: 0.662 and parameters: {'n_estimators': 4, 'max_depth': 2, 'min_samples_split': 12, 'min_samples_leaf': 9, 'max_features': 0.39110984425295003}. Best is trial 56 with value: 0.48600000000000004.\u001b[0m\n",
      "\u001b[32m[I 2022-12-26 19:31:42,105]\u001b[0m Trial 83 finished with value: 0.584 and parameters: {'n_estimators': 1, 'max_depth': 2, 'min_samples_split': 14, 'min_samples_leaf': 5, 'max_features': 0.34287997476751136}. Best is trial 56 with value: 0.48600000000000004.\u001b[0m\n",
      "\u001b[32m[I 2022-12-26 19:31:43,018]\u001b[0m Trial 84 finished with value: 0.7050000000000001 and parameters: {'n_estimators': 10, 'max_depth': 2, 'min_samples_split': 15, 'min_samples_leaf': 8, 'max_features': 0.41208671346047815}. Best is trial 56 with value: 0.48600000000000004.\u001b[0m\n",
      "\u001b[32m[I 2022-12-26 19:31:43,942]\u001b[0m Trial 85 finished with value: 0.766 and parameters: {'n_estimators': 7, 'max_depth': 3, 'min_samples_split': 16, 'min_samples_leaf': 6, 'max_features': 0.5199143324097659}. Best is trial 56 with value: 0.48600000000000004.\u001b[0m\n",
      "\u001b[32m[I 2022-12-26 19:31:44,853]\u001b[0m Trial 86 finished with value: 0.643 and parameters: {'n_estimators': 4, 'max_depth': 2, 'min_samples_split': 11, 'min_samples_leaf': 7, 'max_features': 0.37467340970677043}. Best is trial 56 with value: 0.48600000000000004.\u001b[0m\n",
      "\u001b[32m[I 2022-12-26 19:31:45,916]\u001b[0m Trial 87 finished with value: 0.7070000000000001 and parameters: {'n_estimators': 13, 'max_depth': 2, 'min_samples_split': 13, 'min_samples_leaf': 2, 'max_features': 0.4857052317430289}. Best is trial 56 with value: 0.48600000000000004.\u001b[0m\n",
      "\u001b[32m[I 2022-12-26 19:31:46,870]\u001b[0m Trial 88 finished with value: 0.526 and parameters: {'n_estimators': 1, 'max_depth': 2, 'min_samples_split': 20, 'min_samples_leaf': 5, 'max_features': 0.4057794231771842}. Best is trial 56 with value: 0.48600000000000004.\u001b[0m\n",
      "\u001b[32m[I 2022-12-26 19:31:47,861]\u001b[0m Trial 89 finished with value: 0.7380000000000001 and parameters: {'n_estimators': 8, 'max_depth': 3, 'min_samples_split': 12, 'min_samples_leaf': 5, 'max_features': 0.31125157853959096}. Best is trial 56 with value: 0.48600000000000004.\u001b[0m\n",
      "\u001b[32m[I 2022-12-26 19:31:48,801]\u001b[0m Trial 90 finished with value: 0.655 and parameters: {'n_estimators': 6, 'max_depth': 2, 'min_samples_split': 20, 'min_samples_leaf': 6, 'max_features': 0.3592024710162607}. Best is trial 56 with value: 0.48600000000000004.\u001b[0m\n",
      "\u001b[32m[I 2022-12-26 19:31:49,663]\u001b[0m Trial 91 finished with value: 0.57 and parameters: {'n_estimators': 1, 'max_depth': 2, 'min_samples_split': 19, 'min_samples_leaf': 5, 'max_features': 0.4134650021793589}. Best is trial 56 with value: 0.48600000000000004.\u001b[0m\n",
      "\u001b[32m[I 2022-12-26 19:31:50,469]\u001b[0m Trial 92 finished with value: 0.6140000000000001 and parameters: {'n_estimators': 3, 'max_depth': 2, 'min_samples_split': 11, 'min_samples_leaf': 7, 'max_features': 0.38585291036874697}. Best is trial 56 with value: 0.48600000000000004.\u001b[0m\n",
      "\u001b[32m[I 2022-12-26 19:31:51,460]\u001b[0m Trial 93 finished with value: 0.6859999999999999 and parameters: {'n_estimators': 11, 'max_depth': 2, 'min_samples_split': 16, 'min_samples_leaf': 9, 'max_features': 0.46055849370947166}. Best is trial 56 with value: 0.48600000000000004.\u001b[0m\n",
      "\u001b[32m[I 2022-12-26 19:31:52,295]\u001b[0m Trial 94 finished with value: 0.541 and parameters: {'n_estimators': 1, 'max_depth': 2, 'min_samples_split': 19, 'min_samples_leaf': 8, 'max_features': 0.3363194345129512}. Best is trial 56 with value: 0.48600000000000004.\u001b[0m\n",
      "\u001b[32m[I 2022-12-26 19:31:53,173]\u001b[0m Trial 95 finished with value: 0.7139999999999999 and parameters: {'n_estimators': 6, 'max_depth': 3, 'min_samples_split': 19, 'min_samples_leaf': 8, 'max_features': 0.32996940473616304}. Best is trial 56 with value: 0.48600000000000004.\u001b[0m\n",
      "\u001b[32m[I 2022-12-26 19:31:54,011]\u001b[0m Trial 96 finished with value: 0.611 and parameters: {'n_estimators': 3, 'max_depth': 2, 'min_samples_split': 19, 'min_samples_leaf': 8, 'max_features': 0.3665369734047376}. Best is trial 56 with value: 0.48600000000000004.\u001b[0m\n",
      "\u001b[32m[I 2022-12-26 19:31:54,949]\u001b[0m Trial 97 finished with value: 0.6780000000000002 and parameters: {'n_estimators': 9, 'max_depth': 2, 'min_samples_split': 14, 'min_samples_leaf': 6, 'max_features': 0.2640458184133432}. Best is trial 56 with value: 0.48600000000000004.\u001b[0m\n",
      "\u001b[32m[I 2022-12-26 19:31:55,985]\u001b[0m Trial 98 finished with value: 0.759 and parameters: {'n_estimators': 15, 'max_depth': 3, 'min_samples_split': 20, 'min_samples_leaf': 7, 'max_features': 0.39104167688191105}. Best is trial 56 with value: 0.48600000000000004.\u001b[0m\n",
      "\u001b[32m[I 2022-12-26 19:31:56,934]\u001b[0m Trial 99 finished with value: 0.7510000000000001 and parameters: {'n_estimators': 6, 'max_depth': 3, 'min_samples_split': 18, 'min_samples_leaf': 5, 'max_features': 0.33482971698139485}. Best is trial 56 with value: 0.48600000000000004.\u001b[0m\n"
     ]
    }
   ],
   "source": [
    "# 8. Run a hyperparameter search and log the results\n",
    "import optuna\n",
    "import mlflow\n",
    "from sklearn.ensemble import RandomForestClassifier\n",
    "from sklearn.model_selection import cross_val_score\n",
    "\n",
    "X, y = get_data()\n",
    "\n",
    "def optimize_rf(trial):\n",
    "    \n",
    "    with mlflow.start_run(run_name=f\"optuna-hp-{trial.number}-{datetime.datetime.now().strftime('%Y-%m-%d-%H-%M-%S')}\"):\n",
    "        # Set the hyperparameter values that we want to optimize\n",
    "        n_estimators = trial.suggest_int('n_estimators', 1, 100)\n",
    "        max_depth = trial.suggest_int('max_depth', 2, 10)\n",
    "        min_samples_split = trial.suggest_int('min_samples_split', 2, 20)\n",
    "        min_samples_leaf = trial.suggest_int('min_samples_leaf', 1, 20)\n",
    "        max_features = trial.suggest_float('max_features', 0.1, 1.0)\n",
    "        \n",
    "        \n",
    "        # Create a random forest classifier using the suggested hyperparameters\n",
    "        rf = RandomForestClassifier(n_estimators=n_estimators, max_depth=max_depth,\n",
    "                                    min_samples_split=min_samples_split,\n",
    "                                    min_samples_leaf=min_samples_leaf,\n",
    "                                    max_features=max_features)\n",
    "        \n",
    "        # Use cross-validation to evaluate the performance of the classifier\n",
    "        scores = cross_val_score(rf, X, y, cv=5)\n",
    "        \n",
    "        # Log the hyperparameters and cross-validation scores to MLflow\n",
    "        mlflow.log_param('n_estimators', n_estimators)\n",
    "        mlflow.log_param('max_depth', max_depth)\n",
    "        mlflow.log_param('min_samples_split', min_samples_split)\n",
    "        mlflow.log_param('min_samples_leaf', min_samples_leaf)\n",
    "        mlflow.log_param('max_features', max_features)\n",
    "        mlflow.log_metric('mean_cv_score', scores.mean())\n",
    "    \n",
    "    # Return the mean of the cross-validation scores as the objective value\n",
    "    return scores.mean()\n",
    "\n",
    "# Create an Optuna study\n",
    "study = optuna.create_study()\n",
    "\n",
    "# Run the optimization loop\n",
    "study.optimize(optimize_rf, n_trials=100)\n",
    "\n",
    "# Get the best hyperparameter values\n",
    "best_params = study.best_params"
   ]
  },
  {
   "cell_type": "code",
   "execution_count": 12,
   "metadata": {},
   "outputs": [
    {
     "name": "stderr",
     "output_type": "stream",
     "text": [
      "Registered model 'random_forest_model' already exists. Creating a new version of this model...\n",
      "2022/12/26 19:51:17 INFO mlflow.tracking._model_registry.client: Waiting up to 300 seconds for model version to finish creation.                     Model name: random_forest_model, version 2\n",
      "Created version '2' of model 'random_forest_model'.\n"
     ]
    }
   ],
   "source": [
    "# 10. Create a model using the best model previously logged\n",
    "\n",
    "with mlflow.start_run(run_name=f\"optuna-hp-final\"):\n",
    "    # Create the final model using the best hyperparameters\n",
    "    final_model = RandomForestClassifier(**best_params)\n",
    "\n",
    "    # Train the final model on the entire dataset\n",
    "    final_model.fit(X, y)\n",
    "\n",
    "    # Log the model to the \"Models\" section\n",
    "    mlflow.sklearn.log_model(final_model, \"random_forest_model\", registered_model_name=\"random_forest_model\")\n",
    "\n"
   ]
  },
  {
   "cell_type": "code",
   "execution_count": 13,
   "metadata": {},
   "outputs": [
    {
     "data": {
      "text/plain": [
       "array([2, 0, 0, 2, 2])"
      ]
     },
     "execution_count": 13,
     "metadata": {},
     "output_type": "execute_result"
    }
   ],
   "source": [
    "# Fetch a model\n",
    "\n",
    "import mlflow.pyfunc\n",
    "\n",
    "model_name = \"random_forest_model\"\n",
    "model_version = 2\n",
    "\n",
    "model = mlflow.pyfunc.load_model(\n",
    "    model_uri=f\"models:/{model_name}/{model_version}\"\n",
    ")\n",
    "\n",
    "model.predict(X[:5])"
   ]
  }
 ],
 "metadata": {
  "kernelspec": {
   "display_name": "productionalization",
   "language": "python",
   "name": "python3"
  },
  "language_info": {
   "codemirror_mode": {
    "name": "ipython",
    "version": 3
   },
   "file_extension": ".py",
   "mimetype": "text/x-python",
   "name": "python",
   "nbconvert_exporter": "python",
   "pygments_lexer": "ipython3",
   "version": "3.10.8"
  },
  "orig_nbformat": 4,
  "vscode": {
   "interpreter": {
    "hash": "3f3ab8483b541a64f441fab950358594b3cd6524f788fc4c237ce6fe8cca2ea8"
   }
  }
 },
 "nbformat": 4,
 "nbformat_minor": 2
}
